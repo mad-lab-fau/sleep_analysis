{
 "cells": [
  {
   "cell_type": "code",
   "execution_count": null,
   "metadata": {},
   "outputs": [],
   "source": [
    "import numpy as np\n",
    "import scipy as sp\n",
    "import pandas as pd\n",
    "import matplotlib.pyplot as plt\n",
    "import seaborn as sns"
   ]
  },
  {
   "cell_type": "code",
   "execution_count": null,
   "metadata": {},
   "outputs": [],
   "source": [
    "from sleep_analysis.preprocessing import baselinedrift as BLD\n",
    "from sleep_analysis.preprocessing import first_order_derivative as FOD\n",
    "from sleep_analysis.preprocessing import moving_average as MA\n",
    "from sleep_analysis.preprocessing import signal_energy as SE\n",
    "from sleep_analysis.preprocessing import pre_processing_bld as PP"
   ]
  },
  {
   "cell_type": "code",
   "execution_count": null,
   "metadata": {},
   "outputs": [],
   "source": [
    "%load_ext autoreload\n",
    "%autoreload 2"
   ]
  },
  {
   "cell_type": "markdown",
   "metadata": {},
   "source": [
    "Loading data from Dataset"
   ]
  },
  {
   "cell_type": "code",
   "execution_count": null,
   "metadata": {},
   "outputs": [],
   "source": [
    "from sleep_analysis.datasets.d04_main_dataset import D04MainStudy\n",
    "\n",
    "dataset = D04MainStudy()"
   ]
  },
  {
   "cell_type": "markdown",
   "metadata": {},
   "source": [
    "Loading Radar data"
   ]
  },
  {
   "cell_type": "code",
   "execution_count": null,
   "metadata": {},
   "outputs": [],
   "source": [
    "radar = dataset[5].radar_data.data_as_df()"
   ]
  },
  {
   "cell_type": "code",
   "execution_count": null,
   "metadata": {},
   "outputs": [],
   "source": [
    "node = radar[\"rad4\"]"
   ]
  },
  {
   "cell_type": "markdown",
   "metadata": {},
   "source": [
    "Splitting Data in 4 smaller Chunks"
   ]
  },
  {
   "cell_type": "code",
   "execution_count": null,
   "metadata": {},
   "outputs": [],
   "source": [
    "radar_partials = np.array_split(node, 4)"
   ]
  },
  {
   "cell_type": "code",
   "execution_count": null,
   "metadata": {},
   "outputs": [],
   "source": [
    "orig_interest = radar_partials[1]"
   ]
  },
  {
   "cell_type": "markdown",
   "metadata": {},
   "source": [
    "Moving Average Filter"
   ]
  },
  {
   "cell_type": "code",
   "execution_count": null,
   "metadata": {},
   "outputs": [],
   "source": [
    "ma = MA.filter(orig_interest, 2000, \"I\")"
   ]
  },
  {
   "cell_type": "markdown",
   "metadata": {},
   "source": [
    "Getting Energy from Signal"
   ]
  },
  {
   "cell_type": "code",
   "execution_count": null,
   "metadata": {},
   "outputs": [],
   "source": [
    "fs_radar = 1953.125\n",
    "\n",
    "energy = SE.energy(ma, 1, fs_radar, \"I\")"
   ]
  },
  {
   "cell_type": "markdown",
   "metadata": {},
   "source": [
    "First Order Derivative"
   ]
  },
  {
   "cell_type": "code",
   "execution_count": null,
   "metadata": {},
   "outputs": [],
   "source": [
    "fod = FOD.first_order_derivative(energy, \"I\")\n",
    "fod = fod.abs()"
   ]
  },
  {
   "cell_type": "markdown",
   "metadata": {},
   "source": [
    "Removing baseline Drift"
   ]
  },
  {
   "cell_type": "code",
   "execution_count": null,
   "metadata": {},
   "outputs": [],
   "source": [
    "bld = BLD.remove_baseline_drift(energy, fod, \"I\", \"I\")\n",
    "bld = bld.multiply(energy[\"I\"])"
   ]
  },
  {
   "cell_type": "markdown",
   "metadata": {},
   "source": [
    "Fitting amplitude"
   ]
  },
  {
   "cell_type": "code",
   "execution_count": null,
   "metadata": {},
   "outputs": [],
   "source": [
    "orig_interest = orig_interest / orig_interest.max()\n",
    "ma[\"I\"] = ma[\"I\"] / np.max(ma[\"I\"])\n",
    "energy[\"I\"] = energy[\"I\"] / np.max(energy[\"I\"])\n",
    "fod = fod / fod.max()\n",
    "bld = bld / bld.max()"
   ]
  },
  {
   "cell_type": "markdown",
   "metadata": {},
   "source": [
    "Calculating Mean of Signal"
   ]
  },
  {
   "cell_type": "code",
   "execution_count": null,
   "metadata": {},
   "outputs": [],
   "source": [
    "radar_mean = orig_interest.mean()\n",
    "ma_mean = ma.mean()\n",
    "energy_mean = energy.mean()\n",
    "fod_mean = fod.mean()\n",
    "bld_mean = bld.mean()"
   ]
  },
  {
   "cell_type": "markdown",
   "metadata": {},
   "source": [
    "Plotting Signals"
   ]
  },
  {
   "cell_type": "code",
   "execution_count": null,
   "metadata": {},
   "outputs": [],
   "source": [
    "fig, axs = plt.subplots(figsize=(50, 5))\n",
    "plt.plot(orig_interest[\"I\"])\n",
    "plt.plot(fod[\"I\"])\n",
    "plt.plot(energy[\"I\"])\n",
    "plt.plot(bld)\n",
    "plt.show()"
   ]
  },
  {
   "cell_type": "code",
   "execution_count": null,
   "metadata": {},
   "outputs": [],
   "source": [
    "print(fod)"
   ]
  },
  {
   "cell_type": "code",
   "execution_count": null,
   "metadata": {},
   "outputs": [],
   "source": [
    "for count, val in enumerate(fod[\"I\"]):\n",
    "    bld[count + 13535120] *= val\n",
    "    if val != 0.0:\n",
    "        print(val)"
   ]
  },
  {
   "cell_type": "code",
   "execution_count": null,
   "metadata": {},
   "outputs": [],
   "source": [
    "fig, axs = plt.subplots(figsize=(50, 5))\n",
    "plt.plot(bld)\n",
    "plt.show()"
   ]
  },
  {
   "cell_type": "code",
   "execution_count": null,
   "metadata": {},
   "outputs": [],
   "source": [
    "\"\"\"fig, axs = plt.subplots(5, 1, figsize=(100, 25))\n",
    "\n",
    "axs[0].plot(orig_interest['I'], color=\"b\", linestyle=\"-\")\n",
    "axs[0].set_title(\"Original Signal\")\n",
    "#axs[0].axhline(y=radar_mean, color=\"g\", linestyle=\"--\")\n",
    "\n",
    "axs[1].plot(ma['I'], color=\"grey\", linestyle=\"-\")\n",
    "axs[1].set_title(\"Moving Average\")\n",
    "#axs[1].axhline(y=fod_mean, color=\"g\", linestyle=\"--\")\n",
    "\n",
    "axs[2].plot(fod['I'], color=\"grey\", linestyle=\"-\")\n",
    "axs[2].set_title(\"First Order Derivative\")\n",
    "#axs[2].axhline(y=fod_mean, color=\"g\", linestyle=\"--\")\n",
    "\n",
    "axs[3].plot(energy['I'] * 2, color=\"r\", linestyle=\"-\")\n",
    "axs[3].set_title(\"energy\")\n",
    "#axs[3].axhline(y=energy_mean, color=\"g\", linestyle=\"--\")\n",
    "\n",
    "axs[4].plot(bld, color=\"g\", linestyle=\"-\")\n",
    "axs[4].set_title(\"Baseline Drift rem       oved\")\n",
    "#axs[4].axhline(y=bld_mean, color=\"r\", linestyle=\"--\")\n",
    "\n",
    "\n",
    "\n",
    "\n",
    "\n",
    "plt.show()\"\"\""
   ]
  },
  {
   "cell_type": "code",
   "execution_count": null,
   "metadata": {},
   "outputs": [],
   "source": [
    "activity_data = dataset[5].activity_data\n",
    "activity_data.data_as_df(index=\"local_datetime\")"
   ]
  },
  {
   "cell_type": "code",
   "execution_count": null,
   "metadata": {},
   "outputs": [],
   "source": [
    "plt.plot(activity_data.data_as_df(index=\"local_datetime\"))\n",
    "plt.show()"
   ]
  }
 ],
 "metadata": {
  "kernelspec": {
   "display_name": "sleep-analysis",
   "language": "python",
   "name": "sleep-analysis"
  },
  "language_info": {
   "codemirror_mode": {
    "name": "ipython",
    "version": 3
   },
   "file_extension": ".py",
   "mimetype": "text/x-python",
   "name": "python",
   "nbconvert_exporter": "python",
   "pygments_lexer": "ipython3",
   "version": "3.10.12"
  }
 },
 "nbformat": 4,
 "nbformat_minor": 2
}

{
 "cells": [
  {
   "cell_type": "code",
   "execution_count": null,
   "id": "bc51a2a8-e149-4f6d-b164-8127484371ef",
   "metadata": {},
   "outputs": [],
   "source": [
    "import numpy as np\n",
    "import pandas as pd\n",
    "\n",
    "from pathlib import Path\n",
    "import matplotlib.pyplot as plt\n",
    "import seaborn as sns\n",
    "from biopsykit.utils.dataframe_handling import multi_xs\n",
    "import optuna\n",
    "import pickle\n",
    "import pingouin as pg"
   ]
  },
  {
   "cell_type": "code",
   "execution_count": null,
   "id": "ca69742d-c23c-4d72-a611-991d2285bf46",
   "metadata": {},
   "outputs": [],
   "source": [
    "%load_ext autoreload\n",
    "%autoreload 2"
   ]
  },
  {
   "cell_type": "code",
   "execution_count": null,
   "id": "bfb71852-c2a7-4885-a3e6-ba07b685e242",
   "metadata": {},
   "outputs": [],
   "source": [
    "from fau_colors import register_cmaps\n",
    "\n",
    "register_cmaps()\n",
    "\n",
    "sns.set_theme(context=\"talk\", style=\"white\", palette=\"faculties\", font_scale=1.2)\n",
    "\n",
    "%matplotlib widget"
   ]
  },
  {
   "cell_type": "code",
   "execution_count": null,
   "id": "4462e96f-d125-48e4-8445-937a010ec2c5",
   "metadata": {},
   "outputs": [],
   "source": [
    "path = Path.cwd().parents[1].joinpath(\"exports/baseline/\")"
   ]
  },
  {
   "cell_type": "markdown",
   "id": "a3c8024a-2a23-4b00-b011-a6109dc5f3cf",
   "metadata": {},
   "source": [
    "# Test"
   ]
  },
  {
   "cell_type": "code",
   "execution_count": null,
   "id": "d0dcbf15-2a68-4c27-ad27-9aec6ee96570",
   "metadata": {},
   "outputs": [],
   "source": [
    "pd.read_csv(path.joinpath(\"baseline_test_agg.csv\"), index_col=[\"Unnamed: 0\", \"Unnamed: 1\"])"
   ]
  },
  {
   "cell_type": "markdown",
   "id": "2eba53ff-8d65-4fd7-abf4-58df96dc11ba",
   "metadata": {},
   "source": [
    "# Train"
   ]
  },
  {
   "cell_type": "code",
   "execution_count": null,
   "id": "0e3ef23b-2704-48f0-a34d-1bd79b5bdf3e",
   "metadata": {},
   "outputs": [],
   "source": [
    "pd.read_csv(path.joinpath(\"baseline_train_agg.csv\"), index_col=[\"Unnamed: 0\", \"Unnamed: 1\"])"
   ]
  },
  {
   "cell_type": "markdown",
   "id": "60e2fc58-65d3-4f05-80ec-2261ca50db56",
   "metadata": {},
   "source": [
    "# Full"
   ]
  },
  {
   "cell_type": "code",
   "execution_count": null,
   "id": "f23c158f-6558-499b-984d-0e77e1ed3ff5",
   "metadata": {
    "tags": []
   },
   "outputs": [],
   "source": [
    "df = pd.read_csv(path.joinpath(\"baseline_full.csv\"), index_col=0, header=[0])"
   ]
  },
  {
   "cell_type": "code",
   "execution_count": null,
   "id": "4a0cb12f-e8ec-4b7a-8c34-4d74c608d9dc",
   "metadata": {},
   "outputs": [],
   "source": [
    "df.index.name = \"metric\"\n",
    "df.columns.name = \"subject\""
   ]
  },
  {
   "cell_type": "code",
   "execution_count": null,
   "id": "706232b1-f757-4e41-83d9-2f5deb896474",
   "metadata": {},
   "outputs": [],
   "source": [
    "df = pd.DataFrame(df.stack())"
   ]
  },
  {
   "cell_type": "code",
   "execution_count": null,
   "id": "612bd32a-93c7-4c43-a018-d4e0402e5e42",
   "metadata": {},
   "outputs": [],
   "source": [
    "with open(\"test_idx.pkl\", \"rb\") as f:\n",
    "    test_idx_list = pickle.load(f)"
   ]
  },
  {
   "cell_type": "code",
   "execution_count": null,
   "id": "8d057c31-2eee-438e-a342-46b8dc396dbd",
   "metadata": {},
   "outputs": [],
   "source": [
    "# df = df.rename(columns={0:\"sdf\"})\n",
    "df = df.unstack(\"metric\")[0]\n",
    "df"
   ]
  },
  {
   "cell_type": "code",
   "execution_count": null,
   "id": "f00e4b37-15ef-4627-a754-e68ad1d60b38",
   "metadata": {},
   "outputs": [],
   "source": [
    "df_test = df.filter(items=test_idx_list, axis=0)"
   ]
  },
  {
   "cell_type": "code",
   "execution_count": null,
   "id": "f8df1daa-acdb-4902-b6b8-e27dd7aa8fdd",
   "metadata": {},
   "outputs": [],
   "source": [
    "df_train = df.drop(labels=test_idx_list, axis=0)"
   ]
  },
  {
   "cell_type": "code",
   "execution_count": null,
   "id": "fcafb732-077f-483f-9149-55123322a8ef",
   "metadata": {},
   "outputs": [],
   "source": [
    "pg.mwu(df_train[\"total_sleep_duration\"].astype(float), df_test[\"total_sleep_duration\"].astype(float)).round(4)"
   ]
  },
  {
   "cell_type": "code",
   "execution_count": null,
   "id": "584283a4-ab33-42a0-8a32-1c0011f14059",
   "metadata": {},
   "outputs": [],
   "source": [
    "pg.mwu(df_train[\"wake_after_sleep_onset\"].astype(float), df_test[\"wake_after_sleep_onset\"].astype(float)).round(4)"
   ]
  },
  {
   "cell_type": "code",
   "execution_count": null,
   "id": "447005ec-2ecc-4e52-a37c-3008ab6589fa",
   "metadata": {},
   "outputs": [],
   "source": [
    "pg.mwu(df_train[\"sleep_efficiency\"].astype(float), df_test[\"sleep_efficiency\"].astype(float)).round(4)"
   ]
  },
  {
   "cell_type": "code",
   "execution_count": null,
   "id": "3dd442ed-ea94-418a-b106-81b02b81cad0",
   "metadata": {},
   "outputs": [],
   "source": []
  }
 ],
 "metadata": {
  "kernelspec": {
   "display_name": "sleep-analysis",
   "language": "python",
   "name": "sleep-analysis"
  },
  "language_info": {
   "codemirror_mode": {
    "name": "ipython",
    "version": 3
   },
   "file_extension": ".py",
   "mimetype": "text/x-python",
   "name": "python",
   "nbconvert_exporter": "python",
   "pygments_lexer": "ipython3",
   "version": "3.9.7"
  }
 },
 "nbformat": 4,
 "nbformat_minor": 5
}

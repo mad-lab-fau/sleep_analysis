{
 "cells": [
  {
   "cell_type": "code",
   "execution_count": 1,
   "metadata": {},
   "outputs": [],
   "source": [
    "import numpy as np\n",
    "import pandas as pd\n",
    "\n",
    "from pathlib import Path\n",
    "import matplotlib.pyplot as plt\n",
    "import seaborn as sns\n",
    "from biopsykit.utils.dataframe_handling import multi_xs\n",
    "import optuna"
   ]
  },
  {
   "cell_type": "code",
   "execution_count": 2,
   "metadata": {},
   "outputs": [],
   "source": [
    "%load_ext autoreload\n",
    "%autoreload 2"
   ]
  },
  {
   "cell_type": "code",
   "execution_count": 3,
   "metadata": {},
   "outputs": [],
   "source": [
    "from fau_colors import register_cmaps\n",
    "\n",
    "register_cmaps()\n",
    "\n",
    "sns.set_theme(context=\"paper\", style=\"white\", palette=\"faculties\", font_scale=1.2)\n",
    "\n",
    "%matplotlib widget"
   ]
  },
  {
   "cell_type": "code",
   "execution_count": 4,
   "metadata": {},
   "outputs": [],
   "source": [
    "def conf_matrix(confusion_matrix):\n",
    "    x = confusion_matrix.sum(axis=1)[:, np.newaxis]\n",
    "    confusion_matrix /= x\n",
    "    confusion_matrix *= 100\n",
    "    confusion_matrix = round(confusion_matrix, 2)\n",
    "\n",
    "    # confusion_matrix = confusion_matrix.applymap(lambda x: '{:.2f}'.format(x))\n",
    "    # confusion_matrix = confusion_matrix.applymap(\n",
    "    #    lambda x: float(x) if x != '0.00' else 0.0\n",
    "    # )\n",
    "\n",
    "    # display(confusion_matrix)\n",
    "    return confusion_matrix"
   ]
  },
  {
   "cell_type": "code",
   "execution_count": 5,
   "metadata": {},
   "outputs": [],
   "source": [
    "##### Fill in Algorithm here!! ####\n",
    "algorithm = \"LSTM\"\n",
    "##### Fill in Algorithm here!! ####"
   ]
  },
  {
   "cell_type": "code",
   "execution_count": 6,
   "metadata": {},
   "outputs": [],
   "source": [
    "path = Path.cwd().parents[1].joinpath(\"exports/results_per_algorithm/\")\n",
    "path = path.joinpath(algorithm)\n",
    "# path where database files are stored\n",
    "db_path = path.joinpath(\"db\")"
   ]
  },
  {
   "cell_type": "markdown",
   "metadata": {
    "tags": []
   },
   "source": [
    "# 5 Stage\n",
    "# Acc only"
   ]
  },
  {
   "cell_type": "code",
   "execution_count": 7,
   "metadata": {},
   "outputs": [],
   "source": [
    "stage = \"5stage\"\n",
    "mod = \"acc\""
   ]
  },
  {
   "cell_type": "code",
   "execution_count": 8,
   "metadata": {},
   "outputs": [],
   "source": [
    "full_results = pd.read_csv(path.joinpath(algorithm + \"_benchmark_\" + mod + \"_\" + stage + \".csv\"), index_col=\"metric\")\n",
    "full_results.columns.name = \"subject\"\n",
    "results = full_results.drop(index=\"confusion_matrix\")"
   ]
  },
  {
   "cell_type": "code",
   "execution_count": 9,
   "metadata": {},
   "outputs": [],
   "source": [
    "results = pd.DataFrame(results.stack(\"subject\"), columns=[\"data\"]).astype(\"float\")"
   ]
  },
  {
   "cell_type": "code",
   "execution_count": 10,
   "metadata": {},
   "outputs": [
    {
     "name": "stderr",
     "output_type": "stream",
     "text": [
      "/var/folders/kr/z18bsf7n4xsf9cd__hgnn7lh0000gn/T/ipykernel_74101/4132960266.py:1: FutureWarning: The provided callable <function median at 0x10792fd00> is currently using SeriesGroupBy.median. In a future version of pandas, the provided callable will be used directly. To keep current behavior pass the string \"median\" instead.\n",
      "  results.groupby(\"metric\").agg([np.median, lambda x: np.percentile(x, 75) - np.percentile(x, 25)])\n"
     ]
    },
    {
     "data": {
      "text/html": [
       "<div>\n",
       "<style scoped>\n",
       "    .dataframe tbody tr th:only-of-type {\n",
       "        vertical-align: middle;\n",
       "    }\n",
       "\n",
       "    .dataframe tbody tr th {\n",
       "        vertical-align: top;\n",
       "    }\n",
       "\n",
       "    .dataframe thead tr th {\n",
       "        text-align: left;\n",
       "    }\n",
       "\n",
       "    .dataframe thead tr:last-of-type th {\n",
       "        text-align: right;\n",
       "    }\n",
       "</style>\n",
       "<table border=\"1\" class=\"dataframe\">\n",
       "  <thead>\n",
       "    <tr>\n",
       "      <th></th>\n",
       "      <th colspan=\"2\" halign=\"left\">data</th>\n",
       "    </tr>\n",
       "    <tr>\n",
       "      <th></th>\n",
       "      <th>median</th>\n",
       "      <th>&lt;lambda_0&gt;</th>\n",
       "    </tr>\n",
       "    <tr>\n",
       "      <th>metric</th>\n",
       "      <th></th>\n",
       "      <th></th>\n",
       "    </tr>\n",
       "  </thead>\n",
       "  <tbody>\n",
       "    <tr>\n",
       "      <th>accuracy</th>\n",
       "      <td>0.560641</td>\n",
       "      <td>0.130713</td>\n",
       "    </tr>\n",
       "    <tr>\n",
       "      <th>bed_interval_end</th>\n",
       "      <td>1051.500000</td>\n",
       "      <td>181.250000</td>\n",
       "    </tr>\n",
       "    <tr>\n",
       "      <th>bed_interval_start</th>\n",
       "      <td>52.500000</td>\n",
       "      <td>121.000000</td>\n",
       "    </tr>\n",
       "    <tr>\n",
       "      <th>f1</th>\n",
       "      <td>0.464750</td>\n",
       "      <td>0.132176</td>\n",
       "    </tr>\n",
       "    <tr>\n",
       "      <th>getup_latency</th>\n",
       "      <td>0.000000</td>\n",
       "      <td>4.000000</td>\n",
       "    </tr>\n",
       "    <tr>\n",
       "      <th>kappa</th>\n",
       "      <td>0.300200</td>\n",
       "      <td>0.181270</td>\n",
       "    </tr>\n",
       "    <tr>\n",
       "      <th>mcc</th>\n",
       "      <td>0.366766</td>\n",
       "      <td>0.180670</td>\n",
       "    </tr>\n",
       "    <tr>\n",
       "      <th>net_sleep_duration</th>\n",
       "      <td>772.000000</td>\n",
       "      <td>239.250000</td>\n",
       "    </tr>\n",
       "    <tr>\n",
       "      <th>precision</th>\n",
       "      <td>0.454739</td>\n",
       "      <td>0.148889</td>\n",
       "    </tr>\n",
       "    <tr>\n",
       "      <th>recall</th>\n",
       "      <td>0.560641</td>\n",
       "      <td>0.130713</td>\n",
       "    </tr>\n",
       "    <tr>\n",
       "      <th>sleep_efficiency</th>\n",
       "      <td>80.572475</td>\n",
       "      <td>18.118732</td>\n",
       "    </tr>\n",
       "    <tr>\n",
       "      <th>sleep_onset</th>\n",
       "      <td>129.000000</td>\n",
       "      <td>133.250000</td>\n",
       "    </tr>\n",
       "    <tr>\n",
       "      <th>sleep_onset_latency</th>\n",
       "      <td>47.500000</td>\n",
       "      <td>106.250000</td>\n",
       "    </tr>\n",
       "    <tr>\n",
       "      <th>specifity</th>\n",
       "      <td>0.867766</td>\n",
       "      <td>0.083789</td>\n",
       "    </tr>\n",
       "    <tr>\n",
       "      <th>total_sleep_duration</th>\n",
       "      <td>986.500000</td>\n",
       "      <td>196.750000</td>\n",
       "    </tr>\n",
       "    <tr>\n",
       "      <th>wake_after_sleep_onset</th>\n",
       "      <td>91.000000</td>\n",
       "      <td>138.750000</td>\n",
       "    </tr>\n",
       "    <tr>\n",
       "      <th>wake_onset</th>\n",
       "      <td>1029.500000</td>\n",
       "      <td>184.250000</td>\n",
       "    </tr>\n",
       "  </tbody>\n",
       "</table>\n",
       "</div>"
      ],
      "text/plain": [
       "                               data            \n",
       "                             median  <lambda_0>\n",
       "metric                                         \n",
       "accuracy                   0.560641    0.130713\n",
       "bed_interval_end        1051.500000  181.250000\n",
       "bed_interval_start        52.500000  121.000000\n",
       "f1                         0.464750    0.132176\n",
       "getup_latency              0.000000    4.000000\n",
       "kappa                      0.300200    0.181270\n",
       "mcc                        0.366766    0.180670\n",
       "net_sleep_duration       772.000000  239.250000\n",
       "precision                  0.454739    0.148889\n",
       "recall                     0.560641    0.130713\n",
       "sleep_efficiency          80.572475   18.118732\n",
       "sleep_onset              129.000000  133.250000\n",
       "sleep_onset_latency       47.500000  106.250000\n",
       "specifity                  0.867766    0.083789\n",
       "total_sleep_duration     986.500000  196.750000\n",
       "wake_after_sleep_onset    91.000000  138.750000\n",
       "wake_onset              1029.500000  184.250000"
      ]
     },
     "execution_count": 10,
     "metadata": {},
     "output_type": "execute_result"
    }
   ],
   "source": [
    "results.groupby(\"metric\").agg([np.median, lambda x: np.percentile(x, 75) - np.percentile(x, 25)])"
   ]
  },
  {
   "cell_type": "code",
   "execution_count": 11,
   "metadata": {},
   "outputs": [
    {
     "data": {
      "text/html": [
       "<div>\n",
       "<style scoped>\n",
       "    .dataframe tbody tr th:only-of-type {\n",
       "        vertical-align: middle;\n",
       "    }\n",
       "\n",
       "    .dataframe tbody tr th {\n",
       "        vertical-align: top;\n",
       "    }\n",
       "\n",
       "    .dataframe thead th {\n",
       "        text-align: right;\n",
       "    }\n",
       "</style>\n",
       "<table border=\"1\" class=\"dataframe\">\n",
       "  <thead>\n",
       "    <tr style=\"text-align: right;\">\n",
       "      <th></th>\n",
       "      <th>wake</th>\n",
       "      <th>n1</th>\n",
       "      <th>n2</th>\n",
       "      <th>n3</th>\n",
       "      <th>rem</th>\n",
       "    </tr>\n",
       "  </thead>\n",
       "  <tbody>\n",
       "    <tr>\n",
       "      <th>wake</th>\n",
       "      <td>54788.0</td>\n",
       "      <td>0.0</td>\n",
       "      <td>26071.0</td>\n",
       "      <td>0.0</td>\n",
       "      <td>0.0</td>\n",
       "    </tr>\n",
       "    <tr>\n",
       "      <th>n1</th>\n",
       "      <td>5435.0</td>\n",
       "      <td>0.0</td>\n",
       "      <td>17667.0</td>\n",
       "      <td>0.0</td>\n",
       "      <td>0.0</td>\n",
       "    </tr>\n",
       "    <tr>\n",
       "      <th>n2</th>\n",
       "      <td>10299.0</td>\n",
       "      <td>0.0</td>\n",
       "      <td>82784.0</td>\n",
       "      <td>0.0</td>\n",
       "      <td>0.0</td>\n",
       "    </tr>\n",
       "    <tr>\n",
       "      <th>n3</th>\n",
       "      <td>860.0</td>\n",
       "      <td>0.0</td>\n",
       "      <td>16224.0</td>\n",
       "      <td>0.0</td>\n",
       "      <td>0.0</td>\n",
       "    </tr>\n",
       "    <tr>\n",
       "      <th>rem</th>\n",
       "      <td>1751.0</td>\n",
       "      <td>0.0</td>\n",
       "      <td>30069.0</td>\n",
       "      <td>0.0</td>\n",
       "      <td>0.0</td>\n",
       "    </tr>\n",
       "  </tbody>\n",
       "</table>\n",
       "</div>"
      ],
      "text/plain": [
       "         wake   n1       n2   n3  rem\n",
       "wake  54788.0  0.0  26071.0  0.0  0.0\n",
       "n1     5435.0  0.0  17667.0  0.0  0.0\n",
       "n2    10299.0  0.0  82784.0  0.0  0.0\n",
       "n3      860.0  0.0  16224.0  0.0  0.0\n",
       "rem    1751.0  0.0  30069.0  0.0  0.0"
      ]
     },
     "execution_count": 11,
     "metadata": {},
     "output_type": "execute_result"
    }
   ],
   "source": [
    "confusion_matrix_acc = pd.read_csv(\n",
    "    path.joinpath(\"confusion_matrix_\" + algorithm + \"_benchmark_\" + mod + \"_\" + stage + \".csv\"), index_col=\"Unnamed: 0\"\n",
    ")\n",
    "confusion_matrix_acc"
   ]
  },
  {
   "cell_type": "markdown",
   "metadata": {
    "tags": []
   },
   "source": [
    "# 5 Stage\n",
    "# Acc + HRV"
   ]
  },
  {
   "cell_type": "code",
   "execution_count": 12,
   "metadata": {},
   "outputs": [],
   "source": [
    "stage = \"5stage\"\n",
    "mod = \"acc_hrv\""
   ]
  },
  {
   "cell_type": "code",
   "execution_count": 13,
   "metadata": {},
   "outputs": [],
   "source": [
    "full_results = pd.read_csv(path.joinpath(algorithm + \"_benchmark_\" + mod + \"_\" + stage + \".csv\"), index_col=\"metric\")\n",
    "full_results.columns.name = \"subject\"\n",
    "results = full_results.drop(index=\"confusion_matrix\")"
   ]
  },
  {
   "cell_type": "code",
   "execution_count": 14,
   "metadata": {},
   "outputs": [],
   "source": [
    "results = pd.DataFrame(results.stack(\"subject\"), columns=[\"data\"]).astype(\"float\")"
   ]
  },
  {
   "cell_type": "code",
   "execution_count": 15,
   "metadata": {},
   "outputs": [
    {
     "name": "stderr",
     "output_type": "stream",
     "text": [
      "/var/folders/kr/z18bsf7n4xsf9cd__hgnn7lh0000gn/T/ipykernel_74101/4132960266.py:1: FutureWarning: The provided callable <function median at 0x10792fd00> is currently using SeriesGroupBy.median. In a future version of pandas, the provided callable will be used directly. To keep current behavior pass the string \"median\" instead.\n",
      "  results.groupby(\"metric\").agg([np.median, lambda x: np.percentile(x, 75) - np.percentile(x, 25)])\n"
     ]
    },
    {
     "data": {
      "text/html": [
       "<div>\n",
       "<style scoped>\n",
       "    .dataframe tbody tr th:only-of-type {\n",
       "        vertical-align: middle;\n",
       "    }\n",
       "\n",
       "    .dataframe tbody tr th {\n",
       "        vertical-align: top;\n",
       "    }\n",
       "\n",
       "    .dataframe thead tr th {\n",
       "        text-align: left;\n",
       "    }\n",
       "\n",
       "    .dataframe thead tr:last-of-type th {\n",
       "        text-align: right;\n",
       "    }\n",
       "</style>\n",
       "<table border=\"1\" class=\"dataframe\">\n",
       "  <thead>\n",
       "    <tr>\n",
       "      <th></th>\n",
       "      <th colspan=\"2\" halign=\"left\">data</th>\n",
       "    </tr>\n",
       "    <tr>\n",
       "      <th></th>\n",
       "      <th>median</th>\n",
       "      <th>&lt;lambda_0&gt;</th>\n",
       "    </tr>\n",
       "    <tr>\n",
       "      <th>metric</th>\n",
       "      <th></th>\n",
       "      <th></th>\n",
       "    </tr>\n",
       "  </thead>\n",
       "  <tbody>\n",
       "    <tr>\n",
       "      <th>accuracy</th>\n",
       "      <td>0.648635</td>\n",
       "      <td>0.149262</td>\n",
       "    </tr>\n",
       "    <tr>\n",
       "      <th>bed_interval_end</th>\n",
       "      <td>1051.500000</td>\n",
       "      <td>181.250000</td>\n",
       "    </tr>\n",
       "    <tr>\n",
       "      <th>bed_interval_start</th>\n",
       "      <td>52.500000</td>\n",
       "      <td>121.000000</td>\n",
       "    </tr>\n",
       "    <tr>\n",
       "      <th>f1</th>\n",
       "      <td>0.596343</td>\n",
       "      <td>0.154900</td>\n",
       "    </tr>\n",
       "    <tr>\n",
       "      <th>getup_latency</th>\n",
       "      <td>2.000000</td>\n",
       "      <td>9.000000</td>\n",
       "    </tr>\n",
       "    <tr>\n",
       "      <th>kappa</th>\n",
       "      <td>0.460052</td>\n",
       "      <td>0.201197</td>\n",
       "    </tr>\n",
       "    <tr>\n",
       "      <th>mcc</th>\n",
       "      <td>0.503365</td>\n",
       "      <td>0.172288</td>\n",
       "    </tr>\n",
       "    <tr>\n",
       "      <th>net_sleep_duration</th>\n",
       "      <td>793.500000</td>\n",
       "      <td>205.250000</td>\n",
       "    </tr>\n",
       "    <tr>\n",
       "      <th>precision</th>\n",
       "      <td>0.657689</td>\n",
       "      <td>0.137593</td>\n",
       "    </tr>\n",
       "    <tr>\n",
       "      <th>recall</th>\n",
       "      <td>0.648635</td>\n",
       "      <td>0.149262</td>\n",
       "    </tr>\n",
       "    <tr>\n",
       "      <th>sleep_efficiency</th>\n",
       "      <td>82.075936</td>\n",
       "      <td>15.664927</td>\n",
       "    </tr>\n",
       "    <tr>\n",
       "      <th>sleep_onset</th>\n",
       "      <td>120.000000</td>\n",
       "      <td>133.250000</td>\n",
       "    </tr>\n",
       "    <tr>\n",
       "      <th>sleep_onset_latency</th>\n",
       "      <td>22.500000</td>\n",
       "      <td>80.250000</td>\n",
       "    </tr>\n",
       "    <tr>\n",
       "      <th>specifity</th>\n",
       "      <td>0.884085</td>\n",
       "      <td>0.064560</td>\n",
       "    </tr>\n",
       "    <tr>\n",
       "      <th>total_sleep_duration</th>\n",
       "      <td>986.500000</td>\n",
       "      <td>196.750000</td>\n",
       "    </tr>\n",
       "    <tr>\n",
       "      <th>wake_after_sleep_onset</th>\n",
       "      <td>99.000000</td>\n",
       "      <td>119.000000</td>\n",
       "    </tr>\n",
       "    <tr>\n",
       "      <th>wake_onset</th>\n",
       "      <td>1048.500000</td>\n",
       "      <td>175.500000</td>\n",
       "    </tr>\n",
       "  </tbody>\n",
       "</table>\n",
       "</div>"
      ],
      "text/plain": [
       "                               data            \n",
       "                             median  <lambda_0>\n",
       "metric                                         \n",
       "accuracy                   0.648635    0.149262\n",
       "bed_interval_end        1051.500000  181.250000\n",
       "bed_interval_start        52.500000  121.000000\n",
       "f1                         0.596343    0.154900\n",
       "getup_latency              2.000000    9.000000\n",
       "kappa                      0.460052    0.201197\n",
       "mcc                        0.503365    0.172288\n",
       "net_sleep_duration       793.500000  205.250000\n",
       "precision                  0.657689    0.137593\n",
       "recall                     0.648635    0.149262\n",
       "sleep_efficiency          82.075936   15.664927\n",
       "sleep_onset              120.000000  133.250000\n",
       "sleep_onset_latency       22.500000   80.250000\n",
       "specifity                  0.884085    0.064560\n",
       "total_sleep_duration     986.500000  196.750000\n",
       "wake_after_sleep_onset    99.000000  119.000000\n",
       "wake_onset              1048.500000  175.500000"
      ]
     },
     "execution_count": 15,
     "metadata": {},
     "output_type": "execute_result"
    }
   ],
   "source": [
    "results.groupby(\"metric\").agg([np.median, lambda x: np.percentile(x, 75) - np.percentile(x, 25)])"
   ]
  },
  {
   "cell_type": "code",
   "execution_count": 16,
   "metadata": {},
   "outputs": [
    {
     "data": {
      "text/html": [
       "<div>\n",
       "<style scoped>\n",
       "    .dataframe tbody tr th:only-of-type {\n",
       "        vertical-align: middle;\n",
       "    }\n",
       "\n",
       "    .dataframe tbody tr th {\n",
       "        vertical-align: top;\n",
       "    }\n",
       "\n",
       "    .dataframe thead th {\n",
       "        text-align: right;\n",
       "    }\n",
       "</style>\n",
       "<table border=\"1\" class=\"dataframe\">\n",
       "  <thead>\n",
       "    <tr style=\"text-align: right;\">\n",
       "      <th></th>\n",
       "      <th>wake</th>\n",
       "      <th>n1</th>\n",
       "      <th>n2</th>\n",
       "      <th>n3</th>\n",
       "      <th>rem</th>\n",
       "    </tr>\n",
       "  </thead>\n",
       "  <tbody>\n",
       "    <tr>\n",
       "      <th>wake</th>\n",
       "      <td>55853.0</td>\n",
       "      <td>286.0</td>\n",
       "      <td>19649.0</td>\n",
       "      <td>79.0</td>\n",
       "      <td>4992.0</td>\n",
       "    </tr>\n",
       "    <tr>\n",
       "      <th>n1</th>\n",
       "      <td>4170.0</td>\n",
       "      <td>266.0</td>\n",
       "      <td>16338.0</td>\n",
       "      <td>14.0</td>\n",
       "      <td>2314.0</td>\n",
       "    </tr>\n",
       "    <tr>\n",
       "      <th>n2</th>\n",
       "      <td>5136.0</td>\n",
       "      <td>161.0</td>\n",
       "      <td>81859.0</td>\n",
       "      <td>1501.0</td>\n",
       "      <td>4426.0</td>\n",
       "    </tr>\n",
       "    <tr>\n",
       "      <th>n3</th>\n",
       "      <td>355.0</td>\n",
       "      <td>0.0</td>\n",
       "      <td>14752.0</td>\n",
       "      <td>1670.0</td>\n",
       "      <td>307.0</td>\n",
       "    </tr>\n",
       "    <tr>\n",
       "      <th>rem</th>\n",
       "      <td>1475.0</td>\n",
       "      <td>112.0</td>\n",
       "      <td>12105.0</td>\n",
       "      <td>3.0</td>\n",
       "      <td>18125.0</td>\n",
       "    </tr>\n",
       "  </tbody>\n",
       "</table>\n",
       "</div>"
      ],
      "text/plain": [
       "         wake     n1       n2      n3      rem\n",
       "wake  55853.0  286.0  19649.0    79.0   4992.0\n",
       "n1     4170.0  266.0  16338.0    14.0   2314.0\n",
       "n2     5136.0  161.0  81859.0  1501.0   4426.0\n",
       "n3      355.0    0.0  14752.0  1670.0    307.0\n",
       "rem    1475.0  112.0  12105.0     3.0  18125.0"
      ]
     },
     "execution_count": 16,
     "metadata": {},
     "output_type": "execute_result"
    }
   ],
   "source": [
    "confusion_matrix_acc_hrv = pd.read_csv(\n",
    "    path.joinpath(\"confusion_matrix_\" + algorithm + \"_benchmark_\" + mod + \"_\" + stage + \".csv\"), index_col=\"Unnamed: 0\"\n",
    ")\n",
    "confusion_matrix_acc_hrv"
   ]
  },
  {
   "cell_type": "markdown",
   "metadata": {
    "tags": []
   },
   "source": [
    "# 5 Stage\n",
    "# ACC + HRV + RRV"
   ]
  },
  {
   "cell_type": "code",
   "execution_count": 17,
   "metadata": {},
   "outputs": [],
   "source": [
    "stage = \"5stage\"\n",
    "mod = \"acc_hrv_RRV\""
   ]
  },
  {
   "cell_type": "code",
   "execution_count": 18,
   "metadata": {},
   "outputs": [],
   "source": [
    "full_results = pd.read_csv(path.joinpath(algorithm + \"_benchmark_\" + mod + \"_\" + stage + \".csv\"), index_col=\"metric\")\n",
    "full_results.columns.name = \"subject\"\n",
    "results = full_results.drop(index=\"confusion_matrix\")"
   ]
  },
  {
   "cell_type": "code",
   "execution_count": 19,
   "metadata": {},
   "outputs": [],
   "source": [
    "results = pd.DataFrame(results.stack(\"subject\"), columns=[\"data\"]).astype(\"float\")"
   ]
  },
  {
   "cell_type": "code",
   "execution_count": 20,
   "metadata": {},
   "outputs": [
    {
     "name": "stderr",
     "output_type": "stream",
     "text": [
      "/var/folders/kr/z18bsf7n4xsf9cd__hgnn7lh0000gn/T/ipykernel_74101/4132960266.py:1: FutureWarning: The provided callable <function median at 0x10792fd00> is currently using SeriesGroupBy.median. In a future version of pandas, the provided callable will be used directly. To keep current behavior pass the string \"median\" instead.\n",
      "  results.groupby(\"metric\").agg([np.median, lambda x: np.percentile(x, 75) - np.percentile(x, 25)])\n"
     ]
    },
    {
     "data": {
      "text/html": [
       "<div>\n",
       "<style scoped>\n",
       "    .dataframe tbody tr th:only-of-type {\n",
       "        vertical-align: middle;\n",
       "    }\n",
       "\n",
       "    .dataframe tbody tr th {\n",
       "        vertical-align: top;\n",
       "    }\n",
       "\n",
       "    .dataframe thead tr th {\n",
       "        text-align: left;\n",
       "    }\n",
       "\n",
       "    .dataframe thead tr:last-of-type th {\n",
       "        text-align: right;\n",
       "    }\n",
       "</style>\n",
       "<table border=\"1\" class=\"dataframe\">\n",
       "  <thead>\n",
       "    <tr>\n",
       "      <th></th>\n",
       "      <th colspan=\"2\" halign=\"left\">data</th>\n",
       "    </tr>\n",
       "    <tr>\n",
       "      <th></th>\n",
       "      <th>median</th>\n",
       "      <th>&lt;lambda_0&gt;</th>\n",
       "    </tr>\n",
       "    <tr>\n",
       "      <th>metric</th>\n",
       "      <th></th>\n",
       "      <th></th>\n",
       "    </tr>\n",
       "  </thead>\n",
       "  <tbody>\n",
       "    <tr>\n",
       "      <th>accuracy</th>\n",
       "      <td>0.657431</td>\n",
       "      <td>0.118764</td>\n",
       "    </tr>\n",
       "    <tr>\n",
       "      <th>bed_interval_end</th>\n",
       "      <td>1051.500000</td>\n",
       "      <td>181.250000</td>\n",
       "    </tr>\n",
       "    <tr>\n",
       "      <th>bed_interval_start</th>\n",
       "      <td>52.500000</td>\n",
       "      <td>121.000000</td>\n",
       "    </tr>\n",
       "    <tr>\n",
       "      <th>f1</th>\n",
       "      <td>0.600825</td>\n",
       "      <td>0.123728</td>\n",
       "    </tr>\n",
       "    <tr>\n",
       "      <th>getup_latency</th>\n",
       "      <td>1.000000</td>\n",
       "      <td>3.250000</td>\n",
       "    </tr>\n",
       "    <tr>\n",
       "      <th>kappa</th>\n",
       "      <td>0.472891</td>\n",
       "      <td>0.172742</td>\n",
       "    </tr>\n",
       "    <tr>\n",
       "      <th>mcc</th>\n",
       "      <td>0.513862</td>\n",
       "      <td>0.156241</td>\n",
       "    </tr>\n",
       "    <tr>\n",
       "      <th>net_sleep_duration</th>\n",
       "      <td>759.500000</td>\n",
       "      <td>210.000000</td>\n",
       "    </tr>\n",
       "    <tr>\n",
       "      <th>precision</th>\n",
       "      <td>0.645528</td>\n",
       "      <td>0.134704</td>\n",
       "    </tr>\n",
       "    <tr>\n",
       "      <th>recall</th>\n",
       "      <td>0.657431</td>\n",
       "      <td>0.118764</td>\n",
       "    </tr>\n",
       "    <tr>\n",
       "      <th>sleep_efficiency</th>\n",
       "      <td>78.677060</td>\n",
       "      <td>15.796027</td>\n",
       "    </tr>\n",
       "    <tr>\n",
       "      <th>sleep_onset</th>\n",
       "      <td>124.000000</td>\n",
       "      <td>141.500000</td>\n",
       "    </tr>\n",
       "    <tr>\n",
       "      <th>sleep_onset_latency</th>\n",
       "      <td>35.500000</td>\n",
       "      <td>81.250000</td>\n",
       "    </tr>\n",
       "    <tr>\n",
       "      <th>specificity</th>\n",
       "      <td>0.902364</td>\n",
       "      <td>0.063433</td>\n",
       "    </tr>\n",
       "    <tr>\n",
       "      <th>total_sleep_duration</th>\n",
       "      <td>986.500000</td>\n",
       "      <td>196.750000</td>\n",
       "    </tr>\n",
       "    <tr>\n",
       "      <th>wake_after_sleep_onset</th>\n",
       "      <td>124.000000</td>\n",
       "      <td>127.250000</td>\n",
       "    </tr>\n",
       "    <tr>\n",
       "      <th>wake_onset</th>\n",
       "      <td>1045.000000</td>\n",
       "      <td>170.750000</td>\n",
       "    </tr>\n",
       "  </tbody>\n",
       "</table>\n",
       "</div>"
      ],
      "text/plain": [
       "                               data            \n",
       "                             median  <lambda_0>\n",
       "metric                                         \n",
       "accuracy                   0.657431    0.118764\n",
       "bed_interval_end        1051.500000  181.250000\n",
       "bed_interval_start        52.500000  121.000000\n",
       "f1                         0.600825    0.123728\n",
       "getup_latency              1.000000    3.250000\n",
       "kappa                      0.472891    0.172742\n",
       "mcc                        0.513862    0.156241\n",
       "net_sleep_duration       759.500000  210.000000\n",
       "precision                  0.645528    0.134704\n",
       "recall                     0.657431    0.118764\n",
       "sleep_efficiency          78.677060   15.796027\n",
       "sleep_onset              124.000000  141.500000\n",
       "sleep_onset_latency       35.500000   81.250000\n",
       "specificity                0.902364    0.063433\n",
       "total_sleep_duration     986.500000  196.750000\n",
       "wake_after_sleep_onset   124.000000  127.250000\n",
       "wake_onset              1045.000000  170.750000"
      ]
     },
     "execution_count": 20,
     "metadata": {},
     "output_type": "execute_result"
    }
   ],
   "source": [
    "results.groupby(\"metric\").agg([np.median, lambda x: np.percentile(x, 75) - np.percentile(x, 25)])"
   ]
  },
  {
   "cell_type": "code",
   "execution_count": 21,
   "metadata": {},
   "outputs": [
    {
     "data": {
      "text/html": [
       "<div>\n",
       "<style scoped>\n",
       "    .dataframe tbody tr th:only-of-type {\n",
       "        vertical-align: middle;\n",
       "    }\n",
       "\n",
       "    .dataframe tbody tr th {\n",
       "        vertical-align: top;\n",
       "    }\n",
       "\n",
       "    .dataframe thead th {\n",
       "        text-align: right;\n",
       "    }\n",
       "</style>\n",
       "<table border=\"1\" class=\"dataframe\">\n",
       "  <thead>\n",
       "    <tr style=\"text-align: right;\">\n",
       "      <th></th>\n",
       "      <th>wake</th>\n",
       "      <th>n1</th>\n",
       "      <th>n2</th>\n",
       "      <th>n3</th>\n",
       "      <th>rem</th>\n",
       "    </tr>\n",
       "  </thead>\n",
       "  <tbody>\n",
       "    <tr>\n",
       "      <th>wake</th>\n",
       "      <td>60158.0</td>\n",
       "      <td>419.0</td>\n",
       "      <td>17272.0</td>\n",
       "      <td>3.0</td>\n",
       "      <td>3007.0</td>\n",
       "    </tr>\n",
       "    <tr>\n",
       "      <th>n1</th>\n",
       "      <td>4824.0</td>\n",
       "      <td>329.0</td>\n",
       "      <td>16492.0</td>\n",
       "      <td>0.0</td>\n",
       "      <td>1457.0</td>\n",
       "    </tr>\n",
       "    <tr>\n",
       "      <th>n2</th>\n",
       "      <td>5736.0</td>\n",
       "      <td>206.0</td>\n",
       "      <td>84054.0</td>\n",
       "      <td>266.0</td>\n",
       "      <td>2821.0</td>\n",
       "    </tr>\n",
       "    <tr>\n",
       "      <th>n3</th>\n",
       "      <td>374.0</td>\n",
       "      <td>3.0</td>\n",
       "      <td>16040.0</td>\n",
       "      <td>409.0</td>\n",
       "      <td>258.0</td>\n",
       "    </tr>\n",
       "    <tr>\n",
       "      <th>rem</th>\n",
       "      <td>2016.0</td>\n",
       "      <td>162.0</td>\n",
       "      <td>13660.0</td>\n",
       "      <td>0.0</td>\n",
       "      <td>15982.0</td>\n",
       "    </tr>\n",
       "  </tbody>\n",
       "</table>\n",
       "</div>"
      ],
      "text/plain": [
       "         wake     n1       n2     n3      rem\n",
       "wake  60158.0  419.0  17272.0    3.0   3007.0\n",
       "n1     4824.0  329.0  16492.0    0.0   1457.0\n",
       "n2     5736.0  206.0  84054.0  266.0   2821.0\n",
       "n3      374.0    3.0  16040.0  409.0    258.0\n",
       "rem    2016.0  162.0  13660.0    0.0  15982.0"
      ]
     },
     "execution_count": 21,
     "metadata": {},
     "output_type": "execute_result"
    }
   ],
   "source": [
    "confusion_matrix_acc_hrv_rrv = pd.read_csv(\n",
    "    path.joinpath(\"confusion_matrix_\" + algorithm + \"_benchmark_\" + mod + \"_\" + stage + \".csv\"), index_col=\"Unnamed: 0\"\n",
    ")\n",
    "confusion_matrix_acc_hrv_rrv"
   ]
  },
  {
   "cell_type": "markdown",
   "metadata": {
    "tags": []
   },
   "source": [
    "# 5 Stage\n",
    "# ACC + HRV + EDR"
   ]
  },
  {
   "cell_type": "code",
   "execution_count": 22,
   "metadata": {},
   "outputs": [],
   "source": [
    "stage = \"5stage\"\n",
    "mod = \"acc_hrv_EDR\""
   ]
  },
  {
   "cell_type": "code",
   "execution_count": 23,
   "metadata": {},
   "outputs": [],
   "source": [
    "full_results = pd.read_csv(path.joinpath(algorithm + \"_benchmark_\" + mod + \"_\" + stage + \".csv\"), index_col=\"metric\")\n",
    "full_results.columns.name = \"subject\"\n",
    "results = full_results.drop(index=\"confusion_matrix\")"
   ]
  },
  {
   "cell_type": "code",
   "execution_count": 24,
   "metadata": {},
   "outputs": [],
   "source": [
    "results = pd.DataFrame(results.stack(\"subject\"), columns=[\"data\"]).astype(\"float\")"
   ]
  },
  {
   "cell_type": "code",
   "execution_count": 25,
   "metadata": {},
   "outputs": [
    {
     "name": "stderr",
     "output_type": "stream",
     "text": [
      "/var/folders/kr/z18bsf7n4xsf9cd__hgnn7lh0000gn/T/ipykernel_74101/4132960266.py:1: FutureWarning: The provided callable <function median at 0x10792fd00> is currently using SeriesGroupBy.median. In a future version of pandas, the provided callable will be used directly. To keep current behavior pass the string \"median\" instead.\n",
      "  results.groupby(\"metric\").agg([np.median, lambda x: np.percentile(x, 75) - np.percentile(x, 25)])\n"
     ]
    },
    {
     "data": {
      "text/html": [
       "<div>\n",
       "<style scoped>\n",
       "    .dataframe tbody tr th:only-of-type {\n",
       "        vertical-align: middle;\n",
       "    }\n",
       "\n",
       "    .dataframe tbody tr th {\n",
       "        vertical-align: top;\n",
       "    }\n",
       "\n",
       "    .dataframe thead tr th {\n",
       "        text-align: left;\n",
       "    }\n",
       "\n",
       "    .dataframe thead tr:last-of-type th {\n",
       "        text-align: right;\n",
       "    }\n",
       "</style>\n",
       "<table border=\"1\" class=\"dataframe\">\n",
       "  <thead>\n",
       "    <tr>\n",
       "      <th></th>\n",
       "      <th colspan=\"2\" halign=\"left\">data</th>\n",
       "    </tr>\n",
       "    <tr>\n",
       "      <th></th>\n",
       "      <th>median</th>\n",
       "      <th>&lt;lambda_0&gt;</th>\n",
       "    </tr>\n",
       "    <tr>\n",
       "      <th>metric</th>\n",
       "      <th></th>\n",
       "      <th></th>\n",
       "    </tr>\n",
       "  </thead>\n",
       "  <tbody>\n",
       "    <tr>\n",
       "      <th>accuracy</th>\n",
       "      <td>0.636781</td>\n",
       "      <td>0.130655</td>\n",
       "    </tr>\n",
       "    <tr>\n",
       "      <th>bed_interval_end</th>\n",
       "      <td>1051.500000</td>\n",
       "      <td>181.250000</td>\n",
       "    </tr>\n",
       "    <tr>\n",
       "      <th>bed_interval_start</th>\n",
       "      <td>52.500000</td>\n",
       "      <td>121.000000</td>\n",
       "    </tr>\n",
       "    <tr>\n",
       "      <th>f1</th>\n",
       "      <td>0.572351</td>\n",
       "      <td>0.147957</td>\n",
       "    </tr>\n",
       "    <tr>\n",
       "      <th>getup_latency</th>\n",
       "      <td>2.000000</td>\n",
       "      <td>6.250000</td>\n",
       "    </tr>\n",
       "    <tr>\n",
       "      <th>kappa</th>\n",
       "      <td>0.451791</td>\n",
       "      <td>0.186391</td>\n",
       "    </tr>\n",
       "    <tr>\n",
       "      <th>mcc</th>\n",
       "      <td>0.485605</td>\n",
       "      <td>0.164035</td>\n",
       "    </tr>\n",
       "    <tr>\n",
       "      <th>net_sleep_duration</th>\n",
       "      <td>792.000000</td>\n",
       "      <td>177.250000</td>\n",
       "    </tr>\n",
       "    <tr>\n",
       "      <th>precision</th>\n",
       "      <td>0.609113</td>\n",
       "      <td>0.139403</td>\n",
       "    </tr>\n",
       "    <tr>\n",
       "      <th>recall</th>\n",
       "      <td>0.636781</td>\n",
       "      <td>0.130655</td>\n",
       "    </tr>\n",
       "    <tr>\n",
       "      <th>sleep_efficiency</th>\n",
       "      <td>81.759684</td>\n",
       "      <td>15.028112</td>\n",
       "    </tr>\n",
       "    <tr>\n",
       "      <th>sleep_onset</th>\n",
       "      <td>121.000000</td>\n",
       "      <td>134.250000</td>\n",
       "    </tr>\n",
       "    <tr>\n",
       "      <th>sleep_onset_latency</th>\n",
       "      <td>31.000000</td>\n",
       "      <td>86.250000</td>\n",
       "    </tr>\n",
       "    <tr>\n",
       "      <th>specifity</th>\n",
       "      <td>0.889002</td>\n",
       "      <td>0.063030</td>\n",
       "    </tr>\n",
       "    <tr>\n",
       "      <th>total_sleep_duration</th>\n",
       "      <td>986.500000</td>\n",
       "      <td>196.750000</td>\n",
       "    </tr>\n",
       "    <tr>\n",
       "      <th>wake_after_sleep_onset</th>\n",
       "      <td>100.000000</td>\n",
       "      <td>112.500000</td>\n",
       "    </tr>\n",
       "    <tr>\n",
       "      <th>wake_onset</th>\n",
       "      <td>1047.000000</td>\n",
       "      <td>169.250000</td>\n",
       "    </tr>\n",
       "  </tbody>\n",
       "</table>\n",
       "</div>"
      ],
      "text/plain": [
       "                               data            \n",
       "                             median  <lambda_0>\n",
       "metric                                         \n",
       "accuracy                   0.636781    0.130655\n",
       "bed_interval_end        1051.500000  181.250000\n",
       "bed_interval_start        52.500000  121.000000\n",
       "f1                         0.572351    0.147957\n",
       "getup_latency              2.000000    6.250000\n",
       "kappa                      0.451791    0.186391\n",
       "mcc                        0.485605    0.164035\n",
       "net_sleep_duration       792.000000  177.250000\n",
       "precision                  0.609113    0.139403\n",
       "recall                     0.636781    0.130655\n",
       "sleep_efficiency          81.759684   15.028112\n",
       "sleep_onset              121.000000  134.250000\n",
       "sleep_onset_latency       31.000000   86.250000\n",
       "specifity                  0.889002    0.063030\n",
       "total_sleep_duration     986.500000  196.750000\n",
       "wake_after_sleep_onset   100.000000  112.500000\n",
       "wake_onset              1047.000000  169.250000"
      ]
     },
     "execution_count": 25,
     "metadata": {},
     "output_type": "execute_result"
    }
   ],
   "source": [
    "results.groupby(\"metric\").agg([np.median, lambda x: np.percentile(x, 75) - np.percentile(x, 25)])"
   ]
  },
  {
   "cell_type": "code",
   "execution_count": 26,
   "metadata": {
    "tags": []
   },
   "outputs": [
    {
     "data": {
      "text/html": [
       "<div>\n",
       "<style scoped>\n",
       "    .dataframe tbody tr th:only-of-type {\n",
       "        vertical-align: middle;\n",
       "    }\n",
       "\n",
       "    .dataframe tbody tr th {\n",
       "        vertical-align: top;\n",
       "    }\n",
       "\n",
       "    .dataframe thead th {\n",
       "        text-align: right;\n",
       "    }\n",
       "</style>\n",
       "<table border=\"1\" class=\"dataframe\">\n",
       "  <thead>\n",
       "    <tr style=\"text-align: right;\">\n",
       "      <th></th>\n",
       "      <th>wake</th>\n",
       "      <th>n1</th>\n",
       "      <th>n2</th>\n",
       "      <th>n3</th>\n",
       "      <th>rem</th>\n",
       "    </tr>\n",
       "  </thead>\n",
       "  <tbody>\n",
       "    <tr>\n",
       "      <th>wake</th>\n",
       "      <td>55576.0</td>\n",
       "      <td>62.0</td>\n",
       "      <td>20821.0</td>\n",
       "      <td>32.0</td>\n",
       "      <td>4368.0</td>\n",
       "    </tr>\n",
       "    <tr>\n",
       "      <th>n1</th>\n",
       "      <td>4041.0</td>\n",
       "      <td>53.0</td>\n",
       "      <td>17148.0</td>\n",
       "      <td>3.0</td>\n",
       "      <td>1857.0</td>\n",
       "    </tr>\n",
       "    <tr>\n",
       "      <th>n2</th>\n",
       "      <td>5305.0</td>\n",
       "      <td>30.0</td>\n",
       "      <td>83158.0</td>\n",
       "      <td>538.0</td>\n",
       "      <td>4052.0</td>\n",
       "    </tr>\n",
       "    <tr>\n",
       "      <th>n3</th>\n",
       "      <td>397.0</td>\n",
       "      <td>0.0</td>\n",
       "      <td>15842.0</td>\n",
       "      <td>549.0</td>\n",
       "      <td>296.0</td>\n",
       "    </tr>\n",
       "    <tr>\n",
       "      <th>rem</th>\n",
       "      <td>1840.0</td>\n",
       "      <td>55.0</td>\n",
       "      <td>13294.0</td>\n",
       "      <td>0.0</td>\n",
       "      <td>16631.0</td>\n",
       "    </tr>\n",
       "  </tbody>\n",
       "</table>\n",
       "</div>"
      ],
      "text/plain": [
       "         wake    n1       n2     n3      rem\n",
       "wake  55576.0  62.0  20821.0   32.0   4368.0\n",
       "n1     4041.0  53.0  17148.0    3.0   1857.0\n",
       "n2     5305.0  30.0  83158.0  538.0   4052.0\n",
       "n3      397.0   0.0  15842.0  549.0    296.0\n",
       "rem    1840.0  55.0  13294.0    0.0  16631.0"
      ]
     },
     "execution_count": 26,
     "metadata": {},
     "output_type": "execute_result"
    }
   ],
   "source": [
    "confusion_matrix_acc_hrv_edr = pd.read_csv(\n",
    "    path.joinpath(\"confusion_matrix_\" + algorithm + \"_benchmark_\" + mod + \"_\" + stage + \".csv\"), index_col=\"Unnamed: 0\"\n",
    ")\n",
    "confusion_matrix_acc_hrv_edr"
   ]
  },
  {
   "cell_type": "code",
   "execution_count": 27,
   "metadata": {},
   "outputs": [
    {
     "ename": "ValueError",
     "evalue": "Multi-dimensional indexing (e.g. `obj[:, None]`) is no longer supported. Convert to a numpy array before indexing instead.",
     "output_type": "error",
     "traceback": [
      "\u001b[0;31m---------------------------------------------------------------------------\u001b[0m",
      "\u001b[0;31mValueError\u001b[0m                                Traceback (most recent call last)",
      "\u001b[0;32m/var/folders/kr/z18bsf7n4xsf9cd__hgnn7lh0000gn/T/ipykernel_74101/896497410.py\u001b[0m in \u001b[0;36m<cell line: 2>\u001b[0;34m()\u001b[0m\n\u001b[1;32m      1\u001b[0m \u001b[0mfig\u001b[0m\u001b[0;34m,\u001b[0m \u001b[0maxs\u001b[0m \u001b[0;34m=\u001b[0m \u001b[0mplt\u001b[0m\u001b[0;34m.\u001b[0m\u001b[0msubplots\u001b[0m\u001b[0;34m(\u001b[0m\u001b[0mncols\u001b[0m\u001b[0;34m=\u001b[0m\u001b[0;36m2\u001b[0m\u001b[0;34m,\u001b[0m \u001b[0mnrows\u001b[0m\u001b[0;34m=\u001b[0m\u001b[0;36m2\u001b[0m\u001b[0;34m,\u001b[0m \u001b[0mfigsize\u001b[0m\u001b[0;34m=\u001b[0m\u001b[0;34m(\u001b[0m\u001b[0;36m12\u001b[0m\u001b[0;34m,\u001b[0m \u001b[0;36m12\u001b[0m\u001b[0;34m)\u001b[0m\u001b[0;34m)\u001b[0m\u001b[0;34m\u001b[0m\u001b[0;34m\u001b[0m\u001b[0m\n\u001b[1;32m      2\u001b[0m sns.heatmap(\n\u001b[0;32m----> 3\u001b[0;31m     conf_matrix(\n\u001b[0m\u001b[1;32m      4\u001b[0m         confusion_matrix_acc.rename(\n\u001b[1;32m      5\u001b[0m             \u001b[0mcolumns\u001b[0m\u001b[0;34m=\u001b[0m\u001b[0;34m{\u001b[0m\u001b[0;34m\"wake\"\u001b[0m\u001b[0;34m:\u001b[0m \u001b[0;34m\"Wake\"\u001b[0m\u001b[0;34m,\u001b[0m \u001b[0;34m\"n1\"\u001b[0m\u001b[0;34m:\u001b[0m \u001b[0;34m\"N1\"\u001b[0m\u001b[0;34m,\u001b[0m \u001b[0;34m\"n2\"\u001b[0m\u001b[0;34m:\u001b[0m \u001b[0;34m\"N2\"\u001b[0m\u001b[0;34m,\u001b[0m \u001b[0;34m\"n3\"\u001b[0m\u001b[0;34m:\u001b[0m \u001b[0;34m\"N3\"\u001b[0m\u001b[0;34m,\u001b[0m \u001b[0;34m\"rem\"\u001b[0m\u001b[0;34m:\u001b[0m \u001b[0;34m\"REM\"\u001b[0m\u001b[0;34m}\u001b[0m\u001b[0;34m,\u001b[0m\u001b[0;34m\u001b[0m\u001b[0;34m\u001b[0m\u001b[0m\n",
      "\u001b[0;32m/var/folders/kr/z18bsf7n4xsf9cd__hgnn7lh0000gn/T/ipykernel_74101/1128970439.py\u001b[0m in \u001b[0;36mconf_matrix\u001b[0;34m(confusion_matrix)\u001b[0m\n\u001b[1;32m      1\u001b[0m \u001b[0;32mdef\u001b[0m \u001b[0mconf_matrix\u001b[0m\u001b[0;34m(\u001b[0m\u001b[0mconfusion_matrix\u001b[0m\u001b[0;34m)\u001b[0m\u001b[0;34m:\u001b[0m\u001b[0;34m\u001b[0m\u001b[0;34m\u001b[0m\u001b[0m\n\u001b[0;32m----> 2\u001b[0;31m     \u001b[0mx\u001b[0m \u001b[0;34m=\u001b[0m \u001b[0mconfusion_matrix\u001b[0m\u001b[0;34m.\u001b[0m\u001b[0msum\u001b[0m\u001b[0;34m(\u001b[0m\u001b[0maxis\u001b[0m\u001b[0;34m=\u001b[0m\u001b[0;36m1\u001b[0m\u001b[0;34m)\u001b[0m\u001b[0;34m[\u001b[0m\u001b[0;34m:\u001b[0m\u001b[0;34m,\u001b[0m \u001b[0mnp\u001b[0m\u001b[0;34m.\u001b[0m\u001b[0mnewaxis\u001b[0m\u001b[0;34m]\u001b[0m\u001b[0;34m\u001b[0m\u001b[0;34m\u001b[0m\u001b[0m\n\u001b[0m\u001b[1;32m      3\u001b[0m     \u001b[0mconfusion_matrix\u001b[0m \u001b[0;34m/=\u001b[0m \u001b[0mx\u001b[0m\u001b[0;34m\u001b[0m\u001b[0;34m\u001b[0m\u001b[0m\n\u001b[1;32m      4\u001b[0m     \u001b[0mconfusion_matrix\u001b[0m \u001b[0;34m*=\u001b[0m \u001b[0;36m100\u001b[0m\u001b[0;34m\u001b[0m\u001b[0;34m\u001b[0m\u001b[0m\n\u001b[1;32m      5\u001b[0m     \u001b[0mconfusion_matrix\u001b[0m \u001b[0;34m=\u001b[0m \u001b[0mround\u001b[0m\u001b[0;34m(\u001b[0m\u001b[0mconfusion_matrix\u001b[0m\u001b[0;34m,\u001b[0m \u001b[0;36m2\u001b[0m\u001b[0;34m)\u001b[0m\u001b[0;34m\u001b[0m\u001b[0;34m\u001b[0m\u001b[0m\n",
      "\u001b[0;32m~/code/Empkins/sleep-analysis/.venv/lib/python3.10/site-packages/pandas/core/series.py\u001b[0m in \u001b[0;36m__getitem__\u001b[0;34m(self, key)\u001b[0m\n\u001b[1;32m   1151\u001b[0m             \u001b[0;32mreturn\u001b[0m \u001b[0mself\u001b[0m\u001b[0;34m.\u001b[0m\u001b[0m_get_rows_with_mask\u001b[0m\u001b[0;34m(\u001b[0m\u001b[0mkey\u001b[0m\u001b[0;34m)\u001b[0m\u001b[0;34m\u001b[0m\u001b[0;34m\u001b[0m\u001b[0m\n\u001b[1;32m   1152\u001b[0m \u001b[0;34m\u001b[0m\u001b[0m\n\u001b[0;32m-> 1153\u001b[0;31m         \u001b[0;32mreturn\u001b[0m \u001b[0mself\u001b[0m\u001b[0;34m.\u001b[0m\u001b[0m_get_with\u001b[0m\u001b[0;34m(\u001b[0m\u001b[0mkey\u001b[0m\u001b[0;34m)\u001b[0m\u001b[0;34m\u001b[0m\u001b[0;34m\u001b[0m\u001b[0m\n\u001b[0m\u001b[1;32m   1154\u001b[0m \u001b[0;34m\u001b[0m\u001b[0m\n\u001b[1;32m   1155\u001b[0m     \u001b[0;32mdef\u001b[0m \u001b[0m_get_with\u001b[0m\u001b[0;34m(\u001b[0m\u001b[0mself\u001b[0m\u001b[0;34m,\u001b[0m \u001b[0mkey\u001b[0m\u001b[0;34m)\u001b[0m\u001b[0;34m:\u001b[0m\u001b[0;34m\u001b[0m\u001b[0;34m\u001b[0m\u001b[0m\n",
      "\u001b[0;32m~/code/Empkins/sleep-analysis/.venv/lib/python3.10/site-packages/pandas/core/series.py\u001b[0m in \u001b[0;36m_get_with\u001b[0;34m(self, key)\u001b[0m\n\u001b[1;32m   1161\u001b[0m             )\n\u001b[1;32m   1162\u001b[0m         \u001b[0;32melif\u001b[0m \u001b[0misinstance\u001b[0m\u001b[0;34m(\u001b[0m\u001b[0mkey\u001b[0m\u001b[0;34m,\u001b[0m \u001b[0mtuple\u001b[0m\u001b[0;34m)\u001b[0m\u001b[0;34m:\u001b[0m\u001b[0;34m\u001b[0m\u001b[0;34m\u001b[0m\u001b[0m\n\u001b[0;32m-> 1163\u001b[0;31m             \u001b[0;32mreturn\u001b[0m \u001b[0mself\u001b[0m\u001b[0;34m.\u001b[0m\u001b[0m_get_values_tuple\u001b[0m\u001b[0;34m(\u001b[0m\u001b[0mkey\u001b[0m\u001b[0;34m)\u001b[0m\u001b[0;34m\u001b[0m\u001b[0;34m\u001b[0m\u001b[0m\n\u001b[0m\u001b[1;32m   1164\u001b[0m \u001b[0;34m\u001b[0m\u001b[0m\n\u001b[1;32m   1165\u001b[0m         \u001b[0;32melif\u001b[0m \u001b[0;32mnot\u001b[0m \u001b[0mis_list_like\u001b[0m\u001b[0;34m(\u001b[0m\u001b[0mkey\u001b[0m\u001b[0;34m)\u001b[0m\u001b[0;34m:\u001b[0m\u001b[0;34m\u001b[0m\u001b[0;34m\u001b[0m\u001b[0m\n",
      "\u001b[0;32m~/code/Empkins/sleep-analysis/.venv/lib/python3.10/site-packages/pandas/core/series.py\u001b[0m in \u001b[0;36m_get_values_tuple\u001b[0;34m(self, key)\u001b[0m\n\u001b[1;32m   1201\u001b[0m             \u001b[0;31m# the asarray is needed to avoid returning a 2D DatetimeArray\u001b[0m\u001b[0;34m\u001b[0m\u001b[0;34m\u001b[0m\u001b[0m\n\u001b[1;32m   1202\u001b[0m             \u001b[0mresult\u001b[0m \u001b[0;34m=\u001b[0m \u001b[0mnp\u001b[0m\u001b[0;34m.\u001b[0m\u001b[0masarray\u001b[0m\u001b[0;34m(\u001b[0m\u001b[0mself\u001b[0m\u001b[0;34m.\u001b[0m\u001b[0m_values\u001b[0m\u001b[0;34m[\u001b[0m\u001b[0mkey\u001b[0m\u001b[0;34m]\u001b[0m\u001b[0;34m)\u001b[0m\u001b[0;34m\u001b[0m\u001b[0;34m\u001b[0m\u001b[0m\n\u001b[0;32m-> 1203\u001b[0;31m             \u001b[0mdisallow_ndim_indexing\u001b[0m\u001b[0;34m(\u001b[0m\u001b[0mresult\u001b[0m\u001b[0;34m)\u001b[0m\u001b[0;34m\u001b[0m\u001b[0;34m\u001b[0m\u001b[0m\n\u001b[0m\u001b[1;32m   1204\u001b[0m             \u001b[0;32mreturn\u001b[0m \u001b[0mresult\u001b[0m\u001b[0;34m\u001b[0m\u001b[0;34m\u001b[0m\u001b[0m\n\u001b[1;32m   1205\u001b[0m \u001b[0;34m\u001b[0m\u001b[0m\n",
      "\u001b[0;32m~/code/Empkins/sleep-analysis/.venv/lib/python3.10/site-packages/pandas/core/indexers/utils.py\u001b[0m in \u001b[0;36mdisallow_ndim_indexing\u001b[0;34m(result)\u001b[0m\n\u001b[1;32m    339\u001b[0m     \"\"\"\n\u001b[1;32m    340\u001b[0m     \u001b[0;32mif\u001b[0m \u001b[0mnp\u001b[0m\u001b[0;34m.\u001b[0m\u001b[0mndim\u001b[0m\u001b[0;34m(\u001b[0m\u001b[0mresult\u001b[0m\u001b[0;34m)\u001b[0m \u001b[0;34m>\u001b[0m \u001b[0;36m1\u001b[0m\u001b[0;34m:\u001b[0m\u001b[0;34m\u001b[0m\u001b[0;34m\u001b[0m\u001b[0m\n\u001b[0;32m--> 341\u001b[0;31m         raise ValueError(\n\u001b[0m\u001b[1;32m    342\u001b[0m             \u001b[0;34m\"Multi-dimensional indexing (e.g. `obj[:, None]`) is no longer \"\u001b[0m\u001b[0;34m\u001b[0m\u001b[0;34m\u001b[0m\u001b[0m\n\u001b[1;32m    343\u001b[0m             \u001b[0;34m\"supported. Convert to a numpy array before indexing instead.\"\u001b[0m\u001b[0;34m\u001b[0m\u001b[0;34m\u001b[0m\u001b[0m\n",
      "\u001b[0;31mValueError\u001b[0m: Multi-dimensional indexing (e.g. `obj[:, None]`) is no longer supported. Convert to a numpy array before indexing instead."
     ]
    },
    {
     "data": {
      "application/vnd.jupyter.widget-view+json": {
       "model_id": "87942f659ace420799b11f99cb5791d8",
       "version_major": 2,
       "version_minor": 0
      },
      "image/png": "[encoded data removed]",
      "text/html": [
       "\n",
       "            <div style=\"display: inline-block;\">\n",
       "                <div class=\"jupyter-widgets widget-label\" style=\"text-align: center;\">\n",
       "                    Figure\n",
       "                </div>\n",
       "                <img src='data:image/png;base64,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' width=1200.0/>\n",
       "            </div>\n",
       "        "
      ],
      "text/plain": [
       "Canvas(toolbar=Toolbar(toolitems=[('Home', 'Reset original view', 'home', 'home'), ('Back', 'Back to previous …"
      ]
     },
     "metadata": {},
     "output_type": "display_data"
    }
   ],
   "source": [
    "fig, axs = plt.subplots(ncols=2, nrows=2, figsize=(12, 12))\n",
    "sns.heatmap(\n",
    "    conf_matrix(\n",
    "        confusion_matrix_acc.rename(\n",
    "            columns={\"wake\": \"Wake\", \"n1\": \"N1\", \"n2\": \"N2\", \"n3\": \"N3\", \"rem\": \"REM\"},\n",
    "            index={\"wake\": \"Wake\", \"n1\": \"N1\", \"n2\": \"N2\", \"n3\": \"N3\", \"rem\": \"REM\"},\n",
    "        )\n",
    "    ),\n",
    "    fmt=\",.2f\",\n",
    "    annot=True,\n",
    "    ax=axs[0, 0],\n",
    "    cmap=\"Greens\",\n",
    ")\n",
    "sns.heatmap(\n",
    "    conf_matrix(\n",
    "        confusion_matrix_acc_hrv.rename(\n",
    "            columns={\"wake\": \"Wake\", \"n1\": \"N1\", \"n2\": \"N2\", \"n3\": \"N3\", \"rem\": \"REM\"},\n",
    "            index={\"wake\": \"Wake\", \"n1\": \"N1\", \"n2\": \"N2\", \"n3\": \"N3\", \"rem\": \"REM\"},\n",
    "        )\n",
    "    ),\n",
    "    fmt=\",.2f\",\n",
    "    annot=True,\n",
    "    ax=axs[0, 1],\n",
    "    cmap=\"Greens\",\n",
    ")\n",
    "sns.heatmap(\n",
    "    conf_matrix(\n",
    "        confusion_matrix_acc_hrv_rrv.rename(\n",
    "            columns={\"wake\": \"Wake\", \"n1\": \"N1\", \"n2\": \"N2\", \"n3\": \"N3\", \"rem\": \"REM\"},\n",
    "            index={\"wake\": \"Wake\", \"n1\": \"N1\", \"n2\": \"N2\", \"n3\": \"N3\", \"rem\": \"REM\"},\n",
    "        )\n",
    "    ),\n",
    "    fmt=\",.2f\",\n",
    "    annot=True,\n",
    "    ax=axs[1, 0],\n",
    "    cmap=\"Greens\",\n",
    ")\n",
    "sns.heatmap(\n",
    "    conf_matrix(\n",
    "        confusion_matrix_acc_hrv_edr.rename(\n",
    "            columns={\"wake\": \"Wake\", \"n1\": \"N1\", \"n2\": \"N2\", \"n3\": \"N3\", \"rem\": \"REM\"},\n",
    "            index={\"wake\": \"Wake\", \"n1\": \"N1\", \"n2\": \"N2\", \"n3\": \"N3\", \"rem\": \"REM\"},\n",
    "        )\n",
    "    ),\n",
    "    fmt=\",.2f\",\n",
    "    annot=True,\n",
    "    ax=axs[1, 1],\n",
    "    cmap=\"Greens\",\n",
    ")\n",
    "axs[0, 0].set_title(\"ACT\")\n",
    "axs[0, 0].set_ylabel(\"True\")\n",
    "axs[0, 0].set_xlabel(\"Predicted\")\n",
    "\n",
    "axs[0, 1].set_title(\"ACT + HRV\")\n",
    "axs[0, 1].set_ylabel(\"True\")\n",
    "axs[0, 1].set_xlabel(\"Predicted\")\n",
    "\n",
    "axs[1, 0].set_title(\"ACT + HRV + RRV\")\n",
    "axs[1, 0].set_ylabel(\"True\")\n",
    "axs[1, 0].set_xlabel(\"Predicted\")\n",
    "\n",
    "axs[1, 1].set_title(\"ACT + HRV + ED-RRV\")\n",
    "axs[1, 1].set_ylabel(\"True\")\n",
    "axs[1, 1].set_xlabel(\"Predicted\")\n",
    "plt.savefig(\"confusionmatrix_\" + algorithm + \"_\" + stage + \".pdf\", format=\"pdf\", bbox_inches=\"tight\")"
   ]
  },
  {
   "cell_type": "code",
   "execution_count": null,
   "metadata": {},
   "outputs": [],
   "source": [
    "# sns.set_theme(context=\"paper\", style=\"white\", palette=\"faculties\", font_scale=2)\n",
    "\n",
    "fig, ax = plt.subplots(figsize=(10, 10))\n",
    "sns.heatmap(\n",
    "    conf_matrix(\n",
    "        confusion_matrix_acc_hrv_rrv.rename(\n",
    "            columns={\"wake\": \"Wake\", \"n1\": \"N1\", \"n2\": \"N2\", \"n3\": \"N3\", \"rem\": \"REM\"},\n",
    "            index={\"wake\": \"Wake\", \"n1\": \"N1\", \"n2\": \"N2\", \"n3\": \"N3\", \"rem\": \"REM\"},\n",
    "        )\n",
    "    ),\n",
    "    fmt=\",.2f\",\n",
    "    annot=True,\n",
    "    ax=ax,\n",
    "    cmap=\"Greens\",\n",
    ")\n",
    "ax.set_title(\"ACT + HRV + RRV\")\n",
    "\n",
    "plt.savefig(\"single_confusionmatrix_\" + algorithm + \"_\" + stage + \".pdf\", format=\"pdf\", bbox_inches=\"tight\")"
   ]
  },
  {
   "cell_type": "markdown",
   "metadata": {},
   "source": [
    "### Params"
   ]
  },
  {
   "cell_type": "code",
   "execution_count": null,
   "metadata": {},
   "outputs": [],
   "source": [
    "# display(\n",
    "#    optuna.get_all_study_summaries(\"sqlite:///\" + str(db_path) + \"/\" + algorithm + \"_acc_\" + stage + \".db\")[\n",
    "#        0\n",
    "#    ].best_trial.params\n",
    "# )\n",
    "# display(\n",
    "#    optuna.get_all_study_summaries(\"sqlite:///\" + str(db_path) + \"/\" + algorithm + \"_acc_hrv_\" + stage + \".db\")[\n",
    "#        0\n",
    "#    ].best_trial.params\n",
    "# )\n",
    "# display(\n",
    "#    optuna.get_all_study_summaries(\"sqlite:///\" + str(db_path) + \"/\" + algorithm + \"_acc_hrv_RRV_\" + stage + \".db\")[\n",
    "#        0\n",
    "#    ].best_trial.params\n",
    "# )\n",
    "# display(\n",
    "#    optuna.get_all_study_summaries(\"sqlite:///\" + str(db_path) + \"/\" + algorithm + \"_acc_hrv_EDR_\" + stage + \".db\")[\n",
    "#        0\n",
    "#    ].best_trial.params\n",
    "# )"
   ]
  },
  {
   "cell_type": "markdown",
   "metadata": {
    "tags": []
   },
   "source": [
    "# 3 Stage\n",
    "# Acc"
   ]
  },
  {
   "cell_type": "code",
   "execution_count": null,
   "metadata": {},
   "outputs": [],
   "source": [
    "stage = \"3stage\"\n",
    "mod = \"acc\""
   ]
  },
  {
   "cell_type": "code",
   "execution_count": null,
   "metadata": {},
   "outputs": [],
   "source": [
    "full_results = pd.read_csv(path.joinpath(algorithm + \"_benchmark_\" + mod + \"_\" + stage + \".csv\"), index_col=\"metric\")\n",
    "full_results.columns.name = \"subject\"\n",
    "results = full_results.drop(index=\"confusion_matrix\")"
   ]
  },
  {
   "cell_type": "code",
   "execution_count": null,
   "metadata": {},
   "outputs": [],
   "source": [
    "results = pd.DataFrame(results.stack(\"subject\"), columns=[\"data\"]).astype(\"float\")"
   ]
  },
  {
   "cell_type": "code",
   "execution_count": null,
   "metadata": {},
   "outputs": [],
   "source": [
    "results.groupby(\"metric\").agg([np.median, lambda x: np.percentile(x, 75) - np.percentile(x, 25)])"
   ]
  },
  {
   "cell_type": "code",
   "execution_count": null,
   "metadata": {},
   "outputs": [],
   "source": [
    "confusion_matrix_acc = pd.read_csv(\n",
    "    path.joinpath(\"confusion_matrix_\" + algorithm + \"_benchmark_\" + mod + \"_\" + stage + \".csv\"), index_col=\"Unnamed: 0\"\n",
    ")\n",
    "confusion_matrix_acc"
   ]
  },
  {
   "cell_type": "markdown",
   "metadata": {
    "tags": []
   },
   "source": [
    "# 3 Stage\n",
    "# Acc + HRV"
   ]
  },
  {
   "cell_type": "code",
   "execution_count": null,
   "metadata": {},
   "outputs": [],
   "source": [
    "stage = \"3stage\"\n",
    "mod = \"acc_hrv\""
   ]
  },
  {
   "cell_type": "code",
   "execution_count": null,
   "metadata": {},
   "outputs": [],
   "source": [
    "full_results = pd.read_csv(path.joinpath(algorithm + \"_benchmark_\" + mod + \"_\" + stage + \".csv\"), index_col=\"metric\")\n",
    "full_results.columns.name = \"subject\"\n",
    "results = full_results.drop(index=\"confusion_matrix\")"
   ]
  },
  {
   "cell_type": "code",
   "execution_count": null,
   "metadata": {},
   "outputs": [],
   "source": [
    "results = pd.DataFrame(results.stack(\"subject\"), columns=[\"data\"]).astype(\"float\")"
   ]
  },
  {
   "cell_type": "code",
   "execution_count": null,
   "metadata": {},
   "outputs": [],
   "source": [
    "results.groupby(\"metric\").agg([np.median, lambda x: np.percentile(x, 75) - np.percentile(x, 25)])"
   ]
  },
  {
   "cell_type": "code",
   "execution_count": null,
   "metadata": {},
   "outputs": [],
   "source": [
    "confusion_matrix_acc_hrv = pd.read_csv(\n",
    "    path.joinpath(\"confusion_matrix_\" + algorithm + \"_benchmark_\" + mod + \"_\" + stage + \".csv\"), index_col=\"Unnamed: 0\"\n",
    ")\n",
    "confusion_matrix_acc_hrv"
   ]
  },
  {
   "cell_type": "markdown",
   "metadata": {
    "tags": []
   },
   "source": [
    "# 3 Stage\n",
    "# Acc + HRV + RRV"
   ]
  },
  {
   "cell_type": "code",
   "execution_count": null,
   "metadata": {},
   "outputs": [],
   "source": [
    "stage = \"3stage\"\n",
    "mod = \"acc_hrv_RRV\""
   ]
  },
  {
   "cell_type": "code",
   "execution_count": null,
   "metadata": {},
   "outputs": [],
   "source": [
    "full_results = pd.read_csv(path.joinpath(algorithm + \"_benchmark_\" + mod + \"_\" + stage + \".csv\"), index_col=\"metric\")\n",
    "full_results.columns.name = \"subject\"\n",
    "results = full_results.drop(index=\"confusion_matrix\")"
   ]
  },
  {
   "cell_type": "code",
   "execution_count": null,
   "metadata": {},
   "outputs": [],
   "source": [
    "results = pd.DataFrame(results.stack(\"subject\"), columns=[\"data\"]).astype(\"float\")"
   ]
  },
  {
   "cell_type": "code",
   "execution_count": null,
   "metadata": {},
   "outputs": [],
   "source": [
    "results.groupby(\"metric\").agg([np.median, lambda x: np.percentile(x, 75) - np.percentile(x, 25)])"
   ]
  },
  {
   "cell_type": "code",
   "execution_count": null,
   "metadata": {},
   "outputs": [],
   "source": [
    "confusion_matrix_acc_hrv_rrv = pd.read_csv(\n",
    "    path.joinpath(\"confusion_matrix_\" + algorithm + \"_benchmark_\" + mod + \"_\" + stage + \".csv\"), index_col=\"Unnamed: 0\"\n",
    ")\n",
    "confusion_matrix_acc_hrv_rrv"
   ]
  },
  {
   "cell_type": "markdown",
   "metadata": {
    "tags": []
   },
   "source": [
    "# 3 Stage\n",
    "# Acc + HRV + EDR"
   ]
  },
  {
   "cell_type": "code",
   "execution_count": null,
   "metadata": {},
   "outputs": [],
   "source": [
    "stage = \"3stage\"\n",
    "mod = \"acc_hrv_EDR\""
   ]
  },
  {
   "cell_type": "code",
   "execution_count": null,
   "metadata": {},
   "outputs": [],
   "source": [
    "full_results = pd.read_csv(path.joinpath(algorithm + \"_benchmark_\" + mod + \"_\" + stage + \".csv\"), index_col=\"metric\")\n",
    "full_results.columns.name = \"subject\"\n",
    "results = full_results.drop(index=\"confusion_matrix\")"
   ]
  },
  {
   "cell_type": "code",
   "execution_count": null,
   "metadata": {},
   "outputs": [],
   "source": [
    "results = pd.DataFrame(results.stack(\"subject\"), columns=[\"data\"]).astype(\"float\")"
   ]
  },
  {
   "cell_type": "code",
   "execution_count": null,
   "metadata": {},
   "outputs": [],
   "source": [
    "results.groupby(\"metric\").agg([np.median, lambda x: np.percentile(x, 75) - np.percentile(x, 25)])"
   ]
  },
  {
   "cell_type": "code",
   "execution_count": null,
   "metadata": {},
   "outputs": [],
   "source": [
    "confusion_matrix_acc_hrv_edr = pd.read_csv(\n",
    "    path.joinpath(\"confusion_matrix_\" + algorithm + \"_benchmark_\" + mod + \"_\" + stage + \".csv\"), index_col=\"Unnamed: 0\"\n",
    ")\n",
    "confusion_matrix_acc_hrv_edr"
   ]
  },
  {
   "cell_type": "code",
   "execution_count": null,
   "metadata": {},
   "outputs": [],
   "source": [
    "sns.set_theme(context=\"talk\", style=\"white\", palette=\"faculties\", font_scale=1.2)"
   ]
  },
  {
   "cell_type": "code",
   "execution_count": null,
   "metadata": {},
   "outputs": [],
   "source": [
    "fig, axs = plt.subplots(ncols=2, nrows=2, figsize=(18, 18))\n",
    "sns.heatmap(\n",
    "    conf_matrix(\n",
    "        confusion_matrix_acc.rename(\n",
    "            columns={\"wake\": \"Wake\", \"nrem\": \"NREM\", \"rem\": \"REM\"}, index={\"wake\": \"Wake\", \"nrem\": \"NREM\", \"rem\": \"REM\"}\n",
    "        )\n",
    "    ),\n",
    "    fmt=\",.2f\",\n",
    "    annot=True,\n",
    "    ax=axs[0, 0],\n",
    "    cmap=\"Greens\",\n",
    ")\n",
    "sns.heatmap(\n",
    "    conf_matrix(\n",
    "        confusion_matrix_acc_hrv.rename(\n",
    "            columns={\"wake\": \"Wake\", \"nrem\": \"NREM\", \"rem\": \"REM\"}, index={\"wake\": \"Wake\", \"nrem\": \"NREM\", \"rem\": \"REM\"}\n",
    "        )\n",
    "    ),\n",
    "    fmt=\",.2f\",\n",
    "    annot=True,\n",
    "    ax=axs[0, 1],\n",
    "    cmap=\"Greens\",\n",
    ")\n",
    "sns.heatmap(\n",
    "    conf_matrix(\n",
    "        confusion_matrix_acc_hrv_rrv.rename(\n",
    "            columns={\"wake\": \"Wake\", \"nrem\": \"NREM\", \"rem\": \"REM\"}, index={\"wake\": \"Wake\", \"nrem\": \"NREM\", \"rem\": \"REM\"}\n",
    "        )\n",
    "    ),\n",
    "    fmt=\",.2f\",\n",
    "    annot=True,\n",
    "    ax=axs[1, 0],\n",
    "    cmap=\"Greens\",\n",
    ")\n",
    "sns.heatmap(\n",
    "    conf_matrix(\n",
    "        confusion_matrix_acc_hrv_edr.rename(\n",
    "            columns={\"wake\": \"Wake\", \"nrem\": \"NREM\", \"rem\": \"REM\"}, index={\"wake\": \"Wake\", \"nrem\": \"NREM\", \"rem\": \"REM\"}\n",
    "        )\n",
    "    ),\n",
    "    fmt=\",.2f\",\n",
    "    annot=True,\n",
    "    ax=axs[1, 1],\n",
    "    cmap=\"Greens\",\n",
    ")\n",
    "axs[0, 0].set_title(\"ACT\")\n",
    "axs[0, 0].set_ylabel(\"True\")\n",
    "axs[0, 0].set_xlabel(\"Predicted\")\n",
    "\n",
    "axs[0, 1].set_title(\"ACT + HRV\")\n",
    "axs[0, 1].set_ylabel(\"True\")\n",
    "axs[0, 1].set_xlabel(\"Predicted\")\n",
    "\n",
    "axs[1, 0].set_title(\"ACT + HRV + RRV\")\n",
    "axs[1, 0].set_ylabel(\"True\")\n",
    "axs[1, 0].set_xlabel(\"Predicted\")\n",
    "\n",
    "axs[1, 1].set_title(\"ACT + HRV + ED-RRV\")\n",
    "axs[1, 1].set_ylabel(\"True\")\n",
    "axs[1, 1].set_xlabel(\"Predicted\")\n",
    "\n",
    "plt.savefig(\"confusionmatrix_\" + algorithm + \"_\" + stage + \".pdf\", format=\"pdf\", bbox_inches=\"tight\")"
   ]
  },
  {
   "cell_type": "code",
   "execution_count": null,
   "metadata": {
    "tags": []
   },
   "outputs": [],
   "source": [
    "fig, ax = plt.subplots(figsize=(10, 10))\n",
    "sns.heatmap(\n",
    "    conf_matrix(\n",
    "        confusion_matrix_acc_hrv_rrv.rename(\n",
    "            columns={\"wake\": \"Wake\", \"nrem\": \"NREM\", \"rem\": \"REM\"},\n",
    "            index={\"wake\": \"Wake\", \"nrem\": \"NREM\", \"rem\": \"REM\"},\n",
    "        )\n",
    "    ),\n",
    "    fmt=\",.2f\",\n",
    "    annot=True,\n",
    "    ax=ax,\n",
    "    cmap=\"Greens\",\n",
    ")\n",
    "ax.set_title(\"ACT + HRV + RRV\")\n",
    "\n",
    "plt.savefig(\"single_confusionmatrix_\" + algorithm + \"_\" + stage + \".pdf\", format=\"pdf\", bbox_inches=\"tight\")"
   ]
  },
  {
   "cell_type": "markdown",
   "metadata": {},
   "source": [
    "### Params"
   ]
  },
  {
   "cell_type": "code",
   "execution_count": null,
   "metadata": {},
   "outputs": [],
   "source": [
    "# display(\n",
    "#    optuna.get_all_study_summaries(\"sqlite:///\" + str(db_path) + \"/\" + algorithm + \"_acc_\" + stage + \".db\")[\n",
    "#        0\n",
    "#    ].best_trial.params\n",
    "# )\n",
    "# display(\n",
    "#    optuna.get_all_study_summaries(\"sqlite:///\" + str(db_path) + \"/\" + algorithm + \"_acc_hrv_\" + stage + \".db\")[\n",
    "#        0\n",
    "#    ].best_trial.params\n",
    "# )\n",
    "# display(\n",
    "#    optuna.get_all_study_summaries(\"sqlite:///\" + str(db_path) + \"/\" + algorithm + \"_acc_hrv_RRV_\" + stage + \".db\")[\n",
    "#        0\n",
    "#    ].best_trial.params\n",
    "# )\n",
    "# display(\n",
    "#    optuna.get_all_study_summaries(\"sqlite:///\" + str(db_path) + \"/\" + algorithm + \"_acc_hrv_EDR_\" + stage + \".db\")[\n",
    "#        0\n",
    "#    ].best_trial.params\n",
    "# )"
   ]
  },
  {
   "cell_type": "markdown",
   "metadata": {},
   "source": [
    "### n_trials"
   ]
  },
  {
   "cell_type": "code",
   "execution_count": null,
   "metadata": {},
   "outputs": [],
   "source": [
    "#[\n",
    "#    optuna.get_all_study_summaries(\"sqlite:///\" + str(db_path) + \"/\" + algorithm + \"_acc_\" + stage + \".db\")[0].n_trials,\n",
    "#    optuna.get_all_study_summaries(\"sqlite:///\" + str(db_path) + \"/\" + algorithm + \"_acc_hrv_\" + stage + \".db\")[\n",
    "#        0\n",
    "#    ].n_trials,\n",
    "#    optuna.get_all_study_summaries(\"sqlite:///\" + str(db_path) + \"/\" + algorithm + \"_acc_hrv_RRV_\" + stage + \".db\")[\n",
    "#        0\n",
    "#    ].n_trials,\n",
    "#    optuna.get_all_study_summaries(\"sqlite:///\" + str(db_path) + \"/\" + algorithm + \"_acc_hrv_EDR_\" + stage + \".db\")[\n",
    "#        0\n",
    "#    ].n_trials,\n",
    "#]"
   ]
  },
  {
   "cell_type": "markdown",
   "metadata": {
    "tags": []
   },
   "source": [
    "# Binary\n",
    "# Acc only"
   ]
  },
  {
   "cell_type": "code",
   "execution_count": null,
   "metadata": {},
   "outputs": [],
   "source": [
    "stage = \"binary\"\n",
    "mod = \"acc\""
   ]
  },
  {
   "cell_type": "code",
   "execution_count": null,
   "metadata": {},
   "outputs": [],
   "source": [
    "full_results = pd.read_csv(path.joinpath(algorithm + \"_benchmark_\" + mod + \"_\" + stage + \".csv\"), index_col=\"metric\")\n",
    "full_results.columns.name = \"subject\"\n",
    "results = full_results.drop(index=\"confusion_matrix\")"
   ]
  },
  {
   "cell_type": "code",
   "execution_count": null,
   "metadata": {},
   "outputs": [],
   "source": [
    "results = pd.DataFrame(results.stack(\"subject\"), columns=[\"data\"]).astype(\"float\")"
   ]
  },
  {
   "cell_type": "code",
   "execution_count": null,
   "metadata": {},
   "outputs": [],
   "source": [
    "results.groupby(\"metric\").agg([np.median, lambda x: np.percentile(x, 75) - np.percentile(x, 25)])"
   ]
  },
  {
   "cell_type": "code",
   "execution_count": null,
   "metadata": {},
   "outputs": [],
   "source": [
    "confusion_matrix_acc = pd.read_csv(\n",
    "    path.joinpath(\"confusion_matrix_\" + algorithm + \"_benchmark_\" + mod + \"_\" + stage + \".csv\"), index_col=\"Unnamed: 0\"\n",
    ")\n",
    "confusion_matrix_acc"
   ]
  },
  {
   "cell_type": "markdown",
   "metadata": {
    "tags": []
   },
   "source": [
    "# Binary\n",
    "# Acc + HRV"
   ]
  },
  {
   "cell_type": "code",
   "execution_count": null,
   "metadata": {},
   "outputs": [],
   "source": [
    "stage = \"binary\"\n",
    "mod = \"acc_hrv\""
   ]
  },
  {
   "cell_type": "code",
   "execution_count": null,
   "metadata": {},
   "outputs": [],
   "source": [
    "full_results = pd.read_csv(path.joinpath(algorithm + \"_benchmark_\" + mod + \"_\" + stage + \".csv\"), index_col=\"metric\")\n",
    "full_results.columns.name = \"subject\"\n",
    "results = full_results.drop(index=\"confusion_matrix\")"
   ]
  },
  {
   "cell_type": "code",
   "execution_count": null,
   "metadata": {},
   "outputs": [],
   "source": [
    "results = pd.DataFrame(results.stack(\"subject\"), columns=[\"data\"]).astype(\"float\")"
   ]
  },
  {
   "cell_type": "code",
   "execution_count": null,
   "metadata": {},
   "outputs": [],
   "source": [
    "results.groupby(\"metric\").agg([np.median, lambda x: np.percentile(x, 75) - np.percentile(x, 25)])"
   ]
  },
  {
   "cell_type": "code",
   "execution_count": null,
   "metadata": {},
   "outputs": [],
   "source": [
    "confusion_matrix_acc_hrv = pd.read_csv(\n",
    "    path.joinpath(\"confusion_matrix_\" + algorithm + \"_benchmark_\" + mod + \"_\" + stage + \".csv\"), index_col=\"Unnamed: 0\"\n",
    ")\n",
    "confusion_matrix_acc_hrv"
   ]
  },
  {
   "cell_type": "markdown",
   "metadata": {
    "tags": []
   },
   "source": [
    "# Binary\n",
    "# Acc + HRV + RRV"
   ]
  },
  {
   "cell_type": "code",
   "execution_count": null,
   "metadata": {},
   "outputs": [],
   "source": [
    "stage = \"binary\"\n",
    "mod = \"acc_hrv_RRV\""
   ]
  },
  {
   "cell_type": "code",
   "execution_count": null,
   "metadata": {},
   "outputs": [],
   "source": [
    "full_results = pd.read_csv(path.joinpath(algorithm + \"_benchmark_\" + mod + \"_\" + stage + \".csv\"), index_col=\"metric\")\n",
    "full_results.columns.name = \"subject\"\n",
    "results = full_results.drop(index=\"confusion_matrix\")"
   ]
  },
  {
   "cell_type": "code",
   "execution_count": null,
   "metadata": {},
   "outputs": [],
   "source": [
    "results = pd.DataFrame(results.stack(\"subject\"), columns=[\"data\"]).astype(\"float\")"
   ]
  },
  {
   "cell_type": "code",
   "execution_count": null,
   "metadata": {},
   "outputs": [],
   "source": [
    "results.groupby(\"metric\").agg([np.median, lambda x: np.percentile(x, 75) - np.percentile(x, 25)])"
   ]
  },
  {
   "cell_type": "code",
   "execution_count": null,
   "metadata": {},
   "outputs": [],
   "source": [
    "confusion_matrix_acc_hrv_rrv = pd.read_csv(\n",
    "    path.joinpath(\"confusion_matrix_\" + algorithm + \"_benchmark_\" + mod + \"_\" + stage + \".csv\"), index_col=\"Unnamed: 0\"\n",
    ")\n",
    "confusion_matrix_acc_hrv_rrv"
   ]
  },
  {
   "cell_type": "markdown",
   "metadata": {
    "tags": []
   },
   "source": [
    "# Binary\n",
    "# Acc + HRV + EDR"
   ]
  },
  {
   "cell_type": "code",
   "execution_count": null,
   "metadata": {},
   "outputs": [],
   "source": [
    "stage = \"binary\"\n",
    "mod = \"acc_hrv_EDR\""
   ]
  },
  {
   "cell_type": "code",
   "execution_count": null,
   "metadata": {},
   "outputs": [],
   "source": [
    "full_results = pd.read_csv(path.joinpath(algorithm + \"_benchmark_\" + mod + \"_\" + stage + \".csv\"), index_col=\"metric\")\n",
    "full_results.columns.name = \"subject\"\n",
    "results = full_results.drop(index=\"confusion_matrix\")"
   ]
  },
  {
   "cell_type": "code",
   "execution_count": null,
   "metadata": {},
   "outputs": [],
   "source": [
    "results = pd.DataFrame(results.stack(\"subject\"), columns=[\"data\"]).astype(\"float\")"
   ]
  },
  {
   "cell_type": "code",
   "execution_count": null,
   "metadata": {},
   "outputs": [],
   "source": [
    "results.groupby(\"metric\").agg([np.median, lambda x: np.percentile(x, 75) - np.percentile(x, 25)])"
   ]
  },
  {
   "cell_type": "code",
   "execution_count": null,
   "metadata": {},
   "outputs": [],
   "source": [
    "confusion_matrix_acc_hrv_edr = pd.read_csv(\n",
    "    path.joinpath(\"confusion_matrix_\" + algorithm + \"_benchmark_\" + mod + \"_\" + stage + \".csv\"), index_col=\"Unnamed: 0\"\n",
    ")\n",
    "confusion_matrix_acc_hrv_edr"
   ]
  },
  {
   "cell_type": "code",
   "execution_count": null,
   "metadata": {},
   "outputs": [],
   "source": [
    "sns.set_theme(context=\"poster\", style=\"white\", palette=\"faculties\", font_scale=1.2)"
   ]
  },
  {
   "cell_type": "code",
   "execution_count": null,
   "metadata": {},
   "outputs": [],
   "source": [
    "fig, axs = plt.subplots(ncols=2, nrows=2, figsize=(20, 20))\n",
    "\n",
    "sns.heatmap(\n",
    "    conf_matrix(\n",
    "        confusion_matrix_acc.rename(\n",
    "            columns={\"wake\": \"Wake\", \"sleep\": \"Sleep\"}, index={\"wake\": \"Wake\", \"sleep\": \"Sleep\"}\n",
    "        )\n",
    "    ),\n",
    "    fmt=\",.2f\",\n",
    "    annot=True,\n",
    "    ax=axs[0, 0],\n",
    "    cmap=\"Greens\",\n",
    ")\n",
    "sns.heatmap(\n",
    "    conf_matrix(\n",
    "        confusion_matrix_acc_hrv.rename(\n",
    "            columns={\"wake\": \"Wake\", \"sleep\": \"Sleep\"}, index={\"wake\": \"Wake\", \"sleep\": \"Sleep\"}\n",
    "        )\n",
    "    ),\n",
    "    fmt=\",.2f\",\n",
    "    annot=True,\n",
    "    ax=axs[0, 1],\n",
    "    cmap=\"Greens\",\n",
    ")\n",
    "sns.heatmap(\n",
    "    conf_matrix(\n",
    "        confusion_matrix_acc_hrv_rrv.rename(\n",
    "            columns={\"wake\": \"Wake\", \"sleep\": \"Sleep\"}, index={\"wake\": \"Wake\", \"sleep\": \"Sleep\"}\n",
    "        )\n",
    "    ),\n",
    "    fmt=\",.2f\",\n",
    "    annot=True,\n",
    "    ax=axs[1, 0],\n",
    "    cmap=\"Greens\",\n",
    ")\n",
    "sns.heatmap(\n",
    "    conf_matrix(\n",
    "        confusion_matrix_acc_hrv_edr.rename(\n",
    "            columns={\"wake\": \"Wake\", \"sleep\": \"Sleep\"}, index={\"wake\": \"Wake\", \"sleep\": \"Sleep\"}\n",
    "        )\n",
    "    ),\n",
    "    fmt=\",.2f\",\n",
    "    annot=True,\n",
    "    ax=axs[1, 1],\n",
    "    cmap=\"Greens\",\n",
    ")\n",
    "axs[0, 0].set_title(\"ACT\")\n",
    "axs[0, 0].set_ylabel(\"True\")\n",
    "axs[0, 0].set_xlabel(\"Predicted\")\n",
    "\n",
    "axs[0, 1].set_title(\"ACT + HRV\")\n",
    "axs[0, 1].set_ylabel(\"True\")\n",
    "axs[0, 1].set_xlabel(\"Predicted\")\n",
    "\n",
    "axs[1, 0].set_title(\"ACT + HRV + RRV\")\n",
    "axs[1, 0].set_ylabel(\"True\")\n",
    "axs[1, 0].set_xlabel(\"Predicted\")\n",
    "\n",
    "axs[1, 1].set_title(\"ACT + HRV + ED-RRV\")\n",
    "axs[1, 1].set_ylabel(\"True\")\n",
    "axs[1, 1].set_xlabel(\"Predicted\")\n",
    "\n",
    "plt.savefig(\"confusionmatrix_\" + algorithm + \"_\" + stage + \".pdf\", format=\"pdf\", bbox_inches=\"tight\")"
   ]
  },
  {
   "cell_type": "markdown",
   "metadata": {},
   "source": [
    "### Params"
   ]
  },
  {
   "cell_type": "code",
   "execution_count": null,
   "metadata": {},
   "outputs": [],
   "source": [
    "# display(\n",
    "#    optuna.get_all_study_summaries(\"sqlite:///\" + str(db_path) + \"/\" + algorithm + \"_acc_\" + stage + \".db\")[\n",
    "#        0\n",
    "#    ].best_trial.params\n",
    "# )\n",
    "# display(\n",
    "#    optuna.get_all_study_summaries(\"sqlite:///\" + str(db_path) + \"/\" + algorithm + \"_acc_hrv_\" + stage + \".db\")[\n",
    "#        0\n",
    "#    ].best_trial.params\n",
    "# )\n",
    "# display(\n",
    "#    optuna.get_all_study_summaries(\"sqlite:///\" + str(db_path) + \"/\" + algorithm + \"_acc_hrv_RRV_\" + stage + \".db\")[\n",
    "#        0\n",
    "#    ].best_trial.params\n",
    "# )\n",
    "# display(\n",
    "#    optuna.get_all_study_summaries(\"sqlite:///\" + str(db_path) + \"/\" + algorithm + \"_acc_hrv_EDR_\" + stage + \".db\")[\n",
    "#        0\n",
    "#    ].best_trial.params\n",
    "# )"
   ]
  },
  {
   "cell_type": "markdown",
   "metadata": {},
   "source": [
    "### n_trials"
   ]
  },
  {
   "cell_type": "code",
   "execution_count": null,
   "metadata": {},
   "outputs": [],
   "source": [
    "#\n",
    "#  optuna.get_all_study_summaries(\"sqlite:///\" + str(db_path) + \"/\" + algorithm + \"_acc_\" + stage + \".db\")[0].n_trials,\n",
    "#  optuna.get_all_study_summaries(\"sqlite:///\" + str(db_path) + \"/\" + algorithm + \"_acc_hrv_\" + stage + \".db\")[\n",
    "#      0\n",
    "#  ].n_trials,\n",
    "#  optuna.get_all_study_summaries(\"sqlite:///\" + str(db_path) + \"/\" + algorithm + \"_acc_hrv_RRV_\" + stage + \".db\")[\n",
    "#      0\n",
    "#  ].n_trials,\n",
    "#  optuna.get_all_study_summaries(\"sqlite:///\" + str(db_path) + \"/\" + algorithm + \"_acc_hrv_EDR_\" + stage + \".db\")[\n",
    "#      0\n",
    "#  ].n_trials,\n",
    "#"
   ]
  },
  {
   "cell_type": "markdown",
   "metadata": {},
   "source": [
    "# Number of stages"
   ]
  },
  {
   "cell_type": "code",
   "execution_count": null,
   "metadata": {},
   "outputs": [],
   "source": [
    "confusion_matrix = pd.read_csv(\n",
    "    path.joinpath(\"confusion_matrix_\" + algorithm + \"_benchmark_\" + mod + \"_\" + \"5stage\" + \".csv\"),\n",
    "    index_col=\"Unnamed: 0\",\n",
    ")\n",
    "five_count = confusion_matrix.sum(axis=1)"
   ]
  },
  {
   "cell_type": "code",
   "execution_count": null,
   "metadata": {},
   "outputs": [],
   "source": [
    "confusion_matrix = pd.read_csv(\n",
    "    path.joinpath(\"confusion_matrix_\" + algorithm + \"_benchmark_\" + mod + \"_\" + \"3stage\" + \".csv\"),\n",
    "    index_col=\"Unnamed: 0\",\n",
    ")\n",
    "three_count = confusion_matrix.sum(axis=1)"
   ]
  },
  {
   "cell_type": "code",
   "execution_count": null,
   "metadata": {},
   "outputs": [],
   "source": [
    "confusion_matrix = pd.read_csv(\n",
    "    path.joinpath(\"confusion_matrix_\" + algorithm + \"_benchmark_\" + mod + \"_\" + \"binary\" + \".csv\"),\n",
    "    index_col=\"Unnamed: 0\",\n",
    ")\n",
    "binary_count = confusion_matrix.sum(axis=1)"
   ]
  },
  {
   "cell_type": "code",
   "execution_count": null,
   "metadata": {},
   "outputs": [],
   "source": [
    "fig, ax = plt.subplots(ncols=3, figsize=(35, 7))\n",
    "sns.barplot(\n",
    "    pd.DataFrame(five_count).T.rename(columns={\"wake\":\"Wake\", \"n1\":\"N1\", \"n2\":\"N2\", \"n3\":\"N3\", \"rem\":\"REM\"}),\n",
    "    ax=ax[0],\n",
    "    palette=[\"#002F6C\", \"#41748D\", \"#779FB5\", \"#AAC3D1\", \"#FFB81C\"],\n",
    ")\n",
    "sns.barplot(pd.DataFrame(three_count).T.rename(columns={\"wake\":\"Wake\", \"nrem\":\"NREM\", \"rem\":\"REM\"}), ax=ax[1])\n",
    "sns.barplot(pd.DataFrame(binary_count).T.rename(columns={\"wake\":\"Wake\", \"sleep\":\"Sleep\"}), ax=ax[2])\n",
    "ax[0].set_ylim(0, 110000)\n",
    "ax[0].set(yticklabels=[])  # remove the tick labels\n",
    "ax[0].set_ylabel(\"Number of epochs\")\n",
    "ax[0].set_title(\"Experiment 1\")\n",
    "ax[1].set_ylim(0, 155000)\n",
    "ax[1].set(yticklabels=[])  # remove the tick labels\n",
    "ax[1].set_ylabel(\"Number of epochs\")\n",
    "ax[1].set_title(\"Experiment 2\")\n",
    "ax[2].set_ylim(0, 190000)\n",
    "ax[2].set(yticklabels=[])  # remove the tick labels\n",
    "ax[2].set_ylabel(\"Number of epochs\")\n",
    "ax[2].set_title(\"Experiment 3\")\n",
    "\n",
    "\n",
    "\n",
    "for i in ax[0].containers:\n",
    "    ax[0].bar_label(\n",
    "        i,\n",
    "    )\n",
    "for i in ax[1].containers:\n",
    "    ax[1].bar_label(\n",
    "        i,\n",
    "    )\n",
    "for i in ax[2].containers:\n",
    "    ax[2].bar_label(\n",
    "        i,\n",
    "    )\n",
    "\n",
    "plt.savefig(\"sleep_phases_count.pdf\", format=\"pdf\", bbox_inches=\"tight\")"
   ]
  },
  {
   "cell_type": "code",
   "execution_count": null,
   "metadata": {},
   "outputs": [],
   "source": [
    "from fau_colors import colors_dark, colors_light  # v2021 colors\n",
    "\n",
    "colors_light"
   ]
  },
  {
   "cell_type": "code",
   "execution_count": null,
   "metadata": {},
   "outputs": [],
   "source": []
  }
 ],
 "metadata": {
  "kernelspec": {
   "display_name": "sleep-analysis",
   "language": "python",
   "name": "sleep-analysis"
  },
  "language_info": {
   "codemirror_mode": {
    "name": "ipython",
    "version": 3
   },
   "file_extension": ".py",
   "mimetype": "text/x-python",
   "name": "python",
   "nbconvert_exporter": "python",
   "pygments_lexer": "ipython3",
   "version": "3.10.10"
  }
 },
 "nbformat": 4,
 "nbformat_minor": 4
}

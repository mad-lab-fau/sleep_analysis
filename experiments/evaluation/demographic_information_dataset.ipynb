{
 "cells": [
  {
   "cell_type": "code",
   "execution_count": null,
   "metadata": {},
   "outputs": [],
   "source": [
    "import numpy as np\n",
    "import pandas as pd\n",
    "\n",
    "from pathlib import Path\n",
    "import matplotlib.pyplot as plt\n",
    "import seaborn as sns"
   ]
  },
  {
   "cell_type": "code",
   "execution_count": null,
   "metadata": {},
   "outputs": [],
   "source": [
    "%load_ext autoreload\n",
    "%autoreload 2"
   ]
  },
  {
   "cell_type": "code",
   "execution_count": null,
   "metadata": {},
   "outputs": [],
   "source": [
    "import pickle"
   ]
  },
  {
   "cell_type": "code",
   "execution_count": null,
   "metadata": {},
   "outputs": [],
   "source": [
    "from sleep_analysis.datasets.mesadataset import MesaDataset"
   ]
  },
  {
   "cell_type": "code",
   "execution_count": null,
   "metadata": {
    "jupyter": {
     "source_hidden": true
    },
    "tags": []
   },
   "outputs": [],
   "source": [
    "test_idx_list = [\n",
    "    \"0027\",\n",
    "    \"0077\",\n",
    "    \"0111\",\n",
    "    \"0169\",\n",
    "    \"0193\",\n",
    "    \"0197\",\n",
    "    \"0204\",\n",
    "    \"0269\",\n",
    "    \"0306\",\n",
    "    \"0372\",\n",
    "    \"0388\",\n",
    "    \"0393\",\n",
    "    \"0408\",\n",
    "    \"0474\",\n",
    "    \"0526\",\n",
    "    \"0548\",\n",
    "    \"0586\",\n",
    "    \"0599\",\n",
    "    \"0672\",\n",
    "    \"0683\",\n",
    "    \"0807\",\n",
    "    \"0856\",\n",
    "    \"0889\",\n",
    "    \"0921\",\n",
    "    \"0923\",\n",
    "    \"0934\",\n",
    "    \"0935\",\n",
    "    \"0962\",\n",
    "    \"0967\",\n",
    "    \"0968\",\n",
    "    \"1080\",\n",
    "    \"1113\",\n",
    "    \"1164\",\n",
    "    \"1187\",\n",
    "    \"1209\",\n",
    "    \"1294\",\n",
    "    \"1297\",\n",
    "    \"1308\",\n",
    "    \"1395\",\n",
    "    \"1453\",\n",
    "    \"1474\",\n",
    "    \"1476\",\n",
    "    \"1497\",\n",
    "    \"1502\",\n",
    "    \"1552\",\n",
    "    \"1563\",\n",
    "    \"1570\",\n",
    "    \"1584\",\n",
    "    \"1589\",\n",
    "    \"1620\",\n",
    "    \"1672\",\n",
    "    \"1677\",\n",
    "    \"1704\",\n",
    "    \"1707\",\n",
    "    \"1735\",\n",
    "    \"1766\",\n",
    "    \"1768\",\n",
    "    \"1797\",\n",
    "    \"1821\",\n",
    "    \"1844\",\n",
    "    \"1856\",\n",
    "    \"1874\",\n",
    "    \"1878\",\n",
    "    \"1884\",\n",
    "    \"1921\",\n",
    "    \"1964\",\n",
    "    \"2003\",\n",
    "    \"2043\",\n",
    "    \"2119\",\n",
    "    \"2139\",\n",
    "    \"2145\",\n",
    "    \"2163\",\n",
    "    \"2193\",\n",
    "    \"2251\",\n",
    "    \"2279\",\n",
    "    \"2372\",\n",
    "    \"2388\",\n",
    "    \"2397\",\n",
    "    \"2429\",\n",
    "    \"2464\",\n",
    "    \"2519\",\n",
    "    \"2604\",\n",
    "    \"2614\",\n",
    "    \"2659\",\n",
    "    \"2685\",\n",
    "    \"2701\",\n",
    "    \"2738\",\n",
    "    \"2762\",\n",
    "    \"2780\",\n",
    "    \"2820\",\n",
    "    \"2834\",\n",
    "    \"2913\",\n",
    "    \"2930\",\n",
    "    \"2952\",\n",
    "    \"2987\",\n",
    "    \"2988\",\n",
    "    \"2995\",\n",
    "    \"3003\",\n",
    "    \"3006\",\n",
    "    \"3028\",\n",
    "    \"3053\",\n",
    "    \"3066\",\n",
    "    \"3094\",\n",
    "    \"3104\",\n",
    "    \"3112\",\n",
    "    \"3224\",\n",
    "    \"3297\",\n",
    "    \"3317\",\n",
    "    \"3337\",\n",
    "    \"3344\",\n",
    "    \"3352\",\n",
    "    \"3375\",\n",
    "    \"3415\",\n",
    "    \"3423\",\n",
    "    \"3486\",\n",
    "    \"3516\",\n",
    "    \"3520\",\n",
    "    \"3529\",\n",
    "    \"3537\",\n",
    "    \"3622\",\n",
    "    \"3630\",\n",
    "    \"3634\",\n",
    "    \"3656\",\n",
    "    \"3664\",\n",
    "    \"3690\",\n",
    "    \"3717\",\n",
    "    \"3745\",\n",
    "    \"3760\",\n",
    "    \"3793\",\n",
    "    \"3795\",\n",
    "    \"3803\",\n",
    "    \"3855\",\n",
    "    \"3892\",\n",
    "    \"3971\",\n",
    "    \"3974\",\n",
    "    \"3976\",\n",
    "    \"4017\",\n",
    "    \"4128\",\n",
    "    \"4190\",\n",
    "    \"4199\",\n",
    "    \"4240\",\n",
    "    \"4277\",\n",
    "    \"4301\",\n",
    "    \"4330\",\n",
    "    \"4334\",\n",
    "    \"4379\",\n",
    "    \"4394\",\n",
    "    \"4480\",\n",
    "    \"4488\",\n",
    "    \"4500\",\n",
    "    \"4515\",\n",
    "    \"4541\",\n",
    "    \"4563\",\n",
    "    \"4580\",\n",
    "    \"4592\",\n",
    "    \"4641\",\n",
    "    \"4648\",\n",
    "    \"4677\",\n",
    "    \"4723\",\n",
    "    \"4729\",\n",
    "    \"4777\",\n",
    "    \"4826\",\n",
    "    \"4888\",\n",
    "    \"4980\",\n",
    "    \"5002\",\n",
    "    \"5006\",\n",
    "    \"5009\",\n",
    "    \"5096\",\n",
    "    \"5103\",\n",
    "    \"5104\",\n",
    "    \"5131\",\n",
    "    \"5167\",\n",
    "    \"5261\",\n",
    "    \"5292\",\n",
    "    \"5298\",\n",
    "    \"5304\",\n",
    "    \"5318\",\n",
    "    \"5351\",\n",
    "    \"5362\",\n",
    "    \"5393\",\n",
    "    \"5427\",\n",
    "    \"5440\",\n",
    "    \"5532\",\n",
    "    \"5550\",\n",
    "    \"5608\",\n",
    "    \"5656\",\n",
    "    \"5680\",\n",
    "    \"5722\",\n",
    "    \"5784\",\n",
    "    \"5792\",\n",
    "    \"5847\",\n",
    "    \"5882\",\n",
    "    \"5888\",\n",
    "    \"5896\",\n",
    "    \"5906\",\n",
    "    \"6000\",\n",
    "    \"6009\",\n",
    "    \"6027\",\n",
    "    \"6029\",\n",
    "    \"6050\",\n",
    "    \"6115\",\n",
    "    \"6205\",\n",
    "    \"6262\",\n",
    "    \"6274\",\n",
    "    \"6280\",\n",
    "    \"6291\",\n",
    "    \"6292\",\n",
    "    \"6298\",\n",
    "    \"6306\",\n",
    "    \"6311\",\n",
    "    \"6333\",\n",
    "    \"6384\",\n",
    "    \"6460\",\n",
    "    \"6462\",\n",
    "    \"6501\",\n",
    "    \"6509\",\n",
    "    \"6566\",\n",
    "    \"6610\",\n",
    "    \"6632\",\n",
    "    \"6671\",\n",
    "    \"6697\",\n",
    "    \"6726\",\n",
    "    \"6784\",\n",
    "    \"6807\",\n",
    "]\n",
    "with open(\"test_idx.pkl\", \"wb\") as f:\n",
    "    pickle.dump(test_idx_list, f)"
   ]
  },
  {
   "cell_type": "code",
   "execution_count": null,
   "metadata": {},
   "outputs": [],
   "source": [
    "dataset = MesaDataset()\n",
    "test_subj = dataset.get_subset(mesa_id=test_idx_list)"
   ]
  },
  {
   "cell_type": "code",
   "execution_count": null,
   "metadata": {},
   "outputs": [],
   "source": [
    "# test_set_info = [subj.information for subj in test_subj]"
   ]
  },
  {
   "cell_type": "code",
   "execution_count": null,
   "metadata": {},
   "outputs": [],
   "source": [
    "# df_test_info = pd.concat(test_set_info, axis=1)\n",
    "# df_test_info = df_test_info.T\n",
    "# df_test_info.columns.name = \"info\"\n",
    "# df_test_info = df_test_info.rename(columns={'race1c':'race',\n",
    "#                                 \"gender1\":\"gender\",\n",
    "#                                 \"sleepage5c\":\"age\",\n",
    "#                                 \"overall5\":\"PSG_quality\",\n",
    "#                                 \"whiirs5c\": \"WHIIRS_score\",\n",
    "#                                 \"slpapnea5\":\"sleep_apnea\",\n",
    "#                                 \"insmnia5\":\"insomnia\",\n",
    "#                                 \"rstlesslgs5\":\"resstles_legs\",\n",
    "#                                 \"actquality5\":\"quality_actigraphy\",\n",
    "#                                 \"ahi_a0h4\": \"AH-Index\",\n",
    "#                                 \"extrahrs5\":\"extra_work_hours\"})\n",
    "# df_test_info.index.name = \"subject\"\n",
    "# df_test_info.to_pickle(\"mesa_test_info.pkl\")\n",
    "# df_test_info"
   ]
  },
  {
   "cell_type": "code",
   "execution_count": null,
   "metadata": {},
   "outputs": [],
   "source": [
    "df_test_info = pd.read_pickle(\"mesa_test_info.pkl\")\n",
    "df_test_info"
   ]
  },
  {
   "cell_type": "code",
   "execution_count": null,
   "metadata": {},
   "outputs": [],
   "source": [
    "train_idx_list = list(set(dataset.index[\"mesa_id\"]) - set(test_idx_list))"
   ]
  },
  {
   "cell_type": "code",
   "execution_count": null,
   "metadata": {},
   "outputs": [],
   "source": [
    "train_subj = dataset.get_subset(mesa_id=train_idx_list)"
   ]
  },
  {
   "cell_type": "code",
   "execution_count": null,
   "metadata": {},
   "outputs": [],
   "source": [
    "# train_set_info = [subj.information for subj in train_subj]"
   ]
  },
  {
   "cell_type": "code",
   "execution_count": null,
   "metadata": {},
   "outputs": [],
   "source": [
    "# df_train_info = pd.concat(train_set_info, axis=1)\n",
    "# df_train_info = df_train_info.T\n",
    "# df_train_info.columns.name = \"info\"\n",
    "# df_train_info = df_train_info.rename(columns={'race1c':'race',\n",
    "#                                 \"gender1\":\"gender\",\n",
    "#                                 \"sleepage5c\":\"age\",\n",
    "#                                 \"overall5\":\"PSG_quality\",\n",
    "#                                 \"whiirs5c\": \"WHIIRS_score\",\n",
    "#                                 \"slpapnea5\":\"sleep_apnea\",\n",
    "#                                 \"insmnia5\":\"insomnia\",\n",
    "#                                 \"rstlesslgs5\":\"resstles_legs\",\n",
    "#                                 \"actquality5\":\"quality_actigraphy\",\n",
    "#                                 \"ahi_a0h4\": \"AH-Index\",\n",
    "#                                 \"extrahrs5\":\"extra_work_hours\"})\n",
    "# df_train_info.index.name = \"subject\"\n",
    "# df_train_info.to_pickle(\"mesa_train_info.pkl\")\n",
    "# df_train_info"
   ]
  },
  {
   "cell_type": "code",
   "execution_count": null,
   "metadata": {},
   "outputs": [],
   "source": [
    "df_train_info = pd.read_pickle(\"mesa_train_info.pkl\")\n",
    "df_train_info"
   ]
  },
  {
   "cell_type": "markdown",
   "metadata": {},
   "source": [
    "## Age"
   ]
  },
  {
   "cell_type": "code",
   "execution_count": null,
   "metadata": {},
   "outputs": [],
   "source": [
    "# Train:\n",
    "df_train_info.agg([\"mean\", \"std\"])"
   ]
  },
  {
   "cell_type": "code",
   "execution_count": null,
   "metadata": {},
   "outputs": [],
   "source": [
    "# Test:\n",
    "df_test_info.agg([\"mean\", \"std\"])"
   ]
  },
  {
   "cell_type": "markdown",
   "metadata": {},
   "source": [
    "## Gender"
   ]
  },
  {
   "cell_type": "code",
   "execution_count": null,
   "metadata": {},
   "outputs": [],
   "source": [
    "# Train\n",
    "df_train_info[\"gender\"].value_counts()"
   ]
  },
  {
   "cell_type": "code",
   "execution_count": null,
   "metadata": {},
   "outputs": [],
   "source": [
    "# Test\n",
    "df_test_info[\"gender\"].value_counts()"
   ]
  },
  {
   "cell_type": "code",
   "execution_count": null,
   "metadata": {},
   "outputs": [],
   "source": []
  }
 ],
 "metadata": {
  "kernelspec": {
   "display_name": "sleep-analysis",
   "language": "python",
   "name": "sleep-analysis"
  },
  "language_info": {
   "codemirror_mode": {
    "name": "ipython",
    "version": 3
   },
   "file_extension": ".py",
   "mimetype": "text/x-python",
   "name": "python",
   "nbconvert_exporter": "python",
   "pygments_lexer": "ipython3",
   "version": "3.10.10"
  }
 },
 "nbformat": 4,
 "nbformat_minor": 4
}

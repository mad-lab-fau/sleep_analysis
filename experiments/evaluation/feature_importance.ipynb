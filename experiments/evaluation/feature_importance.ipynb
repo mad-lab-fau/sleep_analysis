{
 "cells": [
  {
   "cell_type": "code",
   "execution_count": null,
   "metadata": {},
   "outputs": [],
   "source": [
    "import numpy as np\n",
    "import pandas as pd\n",
    "\n",
    "from pathlib import Path\n",
    "import matplotlib.pyplot as plt\n",
    "import seaborn as sns"
   ]
  },
  {
   "cell_type": "code",
   "execution_count": null,
   "metadata": {},
   "outputs": [],
   "source": [
    "%load_ext autoreload\n",
    "%autoreload 2"
   ]
  },
  {
   "cell_type": "code",
   "execution_count": null,
   "metadata": {},
   "outputs": [],
   "source": [
    "from fau_colors import register_cmaps\n",
    "\n",
    "register_cmaps()\n",
    "\n",
    "sns.set_theme(context=\"talk\", style=\"white\", palette=\"faculties\", font_scale=1.2)\n",
    "\n",
    "%matplotlib widget"
   ]
  },
  {
   "cell_type": "code",
   "execution_count": null,
   "metadata": {},
   "outputs": [],
   "source": []
  },
  {
   "cell_type": "code",
   "execution_count": null,
   "metadata": {},
   "outputs": [],
   "source": [
    "import pickle\n",
    "import shap\n",
    "from sleep_analysis.datasets.mesadataset import MesaDataset"
   ]
  },
  {
   "cell_type": "markdown",
   "metadata": {},
   "source": [
    "# Algorithm = XGB"
   ]
  },
  {
   "cell_type": "markdown",
   "metadata": {},
   "source": [
    "# 5 stage"
   ]
  },
  {
   "cell_type": "code",
   "execution_count": null,
   "metadata": {},
   "outputs": [],
   "source": [
    "stage = \"5stage\"\n",
    "\n",
    "algorithm = \"xgb\""
   ]
  },
  {
   "cell_type": "code",
   "execution_count": null,
   "metadata": {},
   "outputs": [],
   "source": [
    "path = Path.cwd().parents[1].joinpath(\"exports/results_per_algorithm/\")\n",
    "path = path.joinpath(algorithm)\n",
    "# path where database files are stored\n",
    "model_path = path.joinpath(\"models\")"
   ]
  },
  {
   "cell_type": "code",
   "execution_count": null,
   "metadata": {},
   "outputs": [],
   "source": [
    "dataset = MesaDataset()\n",
    "\n",
    "with open(\"test_idx.pkl\", \"rb\") as f:\n",
    "    test_idx_list = pickle.load(f)"
   ]
  },
  {
   "cell_type": "code",
   "execution_count": null,
   "metadata": {},
   "outputs": [],
   "source": [
    "data = dataset.get_subset(mesa_id=test_idx_list)"
   ]
  },
  {
   "cell_type": "markdown",
   "metadata": {},
   "source": [
    "# ACC + HRV + RRV"
   ]
  },
  {
   "cell_type": "code",
   "execution_count": null,
   "metadata": {},
   "outputs": [],
   "source": [
    "modality = \"acc_hrv_RRV\""
   ]
  },
  {
   "cell_type": "code",
   "execution_count": null,
   "metadata": {
    "tags": []
   },
   "outputs": [],
   "source": [
    "with open(model_path.joinpath(algorithm + \"_benchmark_\" + modality + \"_\" + stage + \".obj\"), \"rb\") as f:\n",
    "    pipeline = pickle.load(f)"
   ]
  },
  {
   "cell_type": "code",
   "execution_count": null,
   "metadata": {},
   "outputs": [],
   "source": [
    "model = pipeline.optimized_pipeline_"
   ]
  },
  {
   "cell_type": "code",
   "execution_count": null,
   "metadata": {},
   "outputs": [],
   "source": [
    "model.classifier"
   ]
  },
  {
   "cell_type": "code",
   "execution_count": null,
   "metadata": {},
   "outputs": [],
   "source": [
    "explainer = shap.TreeExplainer(model.classifier)"
   ]
  },
  {
   "cell_type": "code",
   "execution_count": null,
   "metadata": {},
   "outputs": [],
   "source": [
    "features, ground_truth = data.get_concat_dataset(\n",
    "    data, modality=[\"acc\", \"hrv\", \"RRV\"]\n",
    ")  # data.get_concat_dataset(data, modality=[\"acc\", \"hrv\", \"RRV\"])\n",
    "features = features.droplevel(0)\n",
    "features = features.reset_index(drop=True)"
   ]
  },
  {
   "cell_type": "code",
   "execution_count": null,
   "metadata": {},
   "outputs": [],
   "source": [
    "features = features.rename(\n",
    "    columns={\n",
    "        \"270_RRV_MCVBB\": \"RRV_MCVBB_270\",\n",
    "        \"270_RRV_CVBB\": \"RRV_CVBB_270\",\n",
    "        \"150_RRV_CVBB\": \"RRV_CVBB_150\",\n",
    "        \"270_EDR_MCVBB\": \"EDR_MCVBB_270\",\n",
    "        \"270_EDR_CVBB\": \"EDR_CVBB_270\",\n",
    "        \"150_EDR_CVBB\": \"EDR_CVBB_150\",\n",
    "        \"_acc_mean_19\": \"ACT_Mean_19\",\n",
    "        \"_acc_anyact_centered_19\": \"ACT_Any_centered_19\",\n",
    "        \"_acc_mean_centered_19\": \"ACT_Mean_centered_19\",\n",
    "        \"270_RRV_MedianBB\": \"RRV_MedianBB_270\",\n",
    "        \"270_RRV_SampEn\": \"RRV_SampEn_270\",\n",
    "        \"270_EDR_MedianBB\": \"EDR_MedianBB_270\",\n",
    "        \"270_EDR_SampEn\": \"EDR_SampEn_270\",\n",
    "        \"_hrv_Modified_csi\": \"HRV_Modified_csi\",\n",
    "        \"_hrv_median_nni\": \"HRV_Median_NN\",\n",
    "        \"210_RRV_CVBB\": \"RRV_CVBB_210\",\n",
    "        \"210_EDR_CVBB\": \"EDR_CVBB_210\",\n",
    "        \"_acc_std_19\": \"ACT_SD_19\",\n",
    "        \"150_RRV_MeanBB\": \"RRV_MeanBB_150\",\n",
    "        \"150_EDR_MeanBB\": \"EDR_MeanBB_150\",\n",
    "        \"_hrv_ratio_sd2_sd1\": \"HRV_SD2SD1\",\n",
    "        \"270_RRV_SD2SD1\": \"RRV_SD2SD1_270\",\n",
    "        \"150_RRV_MCVBB\": \"RRV_MCVBB_150\",\n",
    "        \"210_RRV_MCVBB\": \"RRV_MCVBB_210\",\n",
    "        \"270_EDR_SD2SD1\": \"EDR_SD2SD1_270\",\n",
    "        \"150_EDR_MCVBB\": \"EDR_MCVBB_150\",\n",
    "        \"210_EDR_MCVBB\": \"EDR_MCVBB_210\",\n",
    "        \"_acc_anyact_19\": \"ACT_Any_19\",\n",
    "        \"150_RRV_SD2\": \"RRV_SD2_150\",\n",
    "        \"270_RRV_SD2\": \"RRV_SD2_270\",\n",
    "        \"150_EDR_SD2\": \"EDR_SD2_150\",\n",
    "        \"270_EDR_SD2\": \"EDR_SD2_270\",\n",
    "        \"_hrv_ratio_sd1_sd2\": \"HRV_SD2SD1\",\n",
    "        \"_acc_max_19\": \"ACT_Max_19\",\n",
    "        \"_acc_skew_centered_19\": \"ACT_Skew_centered_19\",\n",
    "        \"_hrv_nni_20\": \"HRV_NN_20\",\n",
    "        \"_hrv_csi\": \"HRV_CSI\",\n",
    "        \"_hrv_std_hr\": \"HRV_std_HR\",\n",
    "        \"hrv_max_hr\": \"HRV_Max_HR\",\n",
    "    }\n",
    ")"
   ]
  },
  {
   "cell_type": "code",
   "execution_count": null,
   "metadata": {
    "tags": []
   },
   "outputs": [],
   "source": [
    "shap_values = explainer.shap_values(features)"
   ]
  },
  {
   "cell_type": "code",
   "execution_count": null,
   "metadata": {
    "tags": []
   },
   "outputs": [],
   "source": [
    "plt.close(\"all\")\n",
    "fig, ax = plt.subplots()\n",
    "shap.summary_plot(shap_values, features, class_inds=[0, 1, 2, 3, 4])\n",
    "\n",
    "handles, labels = ax.get_legend_handles_labels()\n",
    "labels = [\"Wake\", \"N1\", \"N2\", \"N3\", \"REM\"]\n",
    "ax.legend(handles, labels)\n",
    "\n",
    "plt.savefig(\n",
    "    \"Feature_importance_\" + algorithm + \"_\" + modality + \"_\" + stage + \".pdf\", format=\"pdf\", bbox_inches=\"tight\"\n",
    ")\n",
    "# 0 = wake, 1 = N1, 2 = N2, 3 = N3, 4 = REM"
   ]
  },
  {
   "cell_type": "code",
   "execution_count": null,
   "metadata": {},
   "outputs": [],
   "source": [
    "# shap.force_plot(explainer.expected_value[0], shap_values[0])"
   ]
  },
  {
   "cell_type": "markdown",
   "metadata": {},
   "source": [
    "# ACC + HRV + EDR"
   ]
  },
  {
   "cell_type": "code",
   "execution_count": null,
   "metadata": {},
   "outputs": [],
   "source": [
    "modality = \"acc_hrv_EDR\""
   ]
  },
  {
   "cell_type": "code",
   "execution_count": null,
   "metadata": {
    "jupyter": {
     "outputs_hidden": true
    },
    "tags": []
   },
   "outputs": [],
   "source": [
    "with open(model_path.joinpath(algorithm + \"_benchmark_\" + modality + \"_\" + stage + \".obj\"), \"rb\") as f:\n",
    "    pipeline = pickle.load(f)"
   ]
  },
  {
   "cell_type": "code",
   "execution_count": null,
   "metadata": {},
   "outputs": [],
   "source": [
    "model = pipeline.optimized_pipeline_"
   ]
  },
  {
   "cell_type": "code",
   "execution_count": null,
   "metadata": {},
   "outputs": [],
   "source": [
    "model.classifier"
   ]
  },
  {
   "cell_type": "code",
   "execution_count": null,
   "metadata": {},
   "outputs": [],
   "source": [
    "explainer = shap.TreeExplainer(model.classifier)"
   ]
  },
  {
   "cell_type": "code",
   "execution_count": null,
   "metadata": {
    "tags": []
   },
   "outputs": [],
   "source": [
    "features, ground_truth = data.get_concat_dataset(\n",
    "    data, modality=[\"acc\", \"hrv\", \"EDR\"]\n",
    ")  # data.get_concat_dataset(data, modality=[\"acc\", \"hrv\", \"RRV\"])\n",
    "features = features.droplevel(0)\n",
    "features = features.reset_index(drop=True)"
   ]
  },
  {
   "cell_type": "code",
   "execution_count": null,
   "metadata": {
    "tags": []
   },
   "outputs": [],
   "source": [
    "features = features.rename(\n",
    "    columns={\n",
    "        \"270_RRV_MCVBB\": \"RRV_MCVBB_270\",\n",
    "        \"270_RRV_CVBB\": \"RRV_CVBB_270\",\n",
    "        \"150_RRV_CVBB\": \"RRV_CVBB_150\",\n",
    "        \"270_EDR_MCVBB\": \"EDR_MCVBB_270\",\n",
    "        \"270_EDR_CVBB\": \"EDR_CVBB_270\",\n",
    "        \"150_EDR_CVBB\": \"EDR_CVBB_150\",\n",
    "        \"_acc_mean_19\": \"ACT_Mean_19\",\n",
    "        \"_acc_anyact_centered_19\": \"ACT_Any_centered_19\",\n",
    "        \"_acc_mean_centered_19\": \"ACT_Mean_centered_19\",\n",
    "        \"270_RRV_MedianBB\": \"RRV_MedianBB_270\",\n",
    "        \"270_RRV_SampEn\": \"RRV_SampEn_270\",\n",
    "        \"270_EDR_MedianBB\": \"EDR_MedianBB_270\",\n",
    "        \"270_EDR_SampEn\": \"EDR_SampEn_270\",\n",
    "        \"_hrv_Modified_csi\": \"HRV_Modified_csi\",\n",
    "        \"_hrv_median_nni\": \"HRV_Median_NN\",\n",
    "        \"210_RRV_CVBB\": \"RRV_CVBB_210\",\n",
    "        \"210_EDR_CVBB\": \"EDR_CVBB_210\",\n",
    "        \"_acc_std_19\": \"ACT_SD_19\",\n",
    "        \"150_RRV_MeanBB\": \"RRV_MeanBB_150\",\n",
    "        \"150_EDR_MeanBB\": \"EDR_MeanBB_150\",\n",
    "        \"_hrv_ratio_sd2_sd1\": \"HRV_SD2SD1\",\n",
    "        \"270_RRV_SD2SD1\": \"RRV_SD2SD1_270\",\n",
    "        \"150_RRV_MCVBB\": \"RRV_MCVBB_150\",\n",
    "        \"210_RRV_MCVBB\": \"RRV_MCVBB_210\",\n",
    "        \"270_EDR_SD2SD1\": \"EDR_SD2SD1_270\",\n",
    "        \"150_EDR_MCVBB\": \"EDR_MCVBB_150\",\n",
    "        \"210_EDR_MCVBB\": \"EDR_MCVBB_210\",\n",
    "        \"_acc_anyact_19\": \"ACT_Any_19\",\n",
    "        \"150_RRV_SD2\": \"RRV_SD2_150\",\n",
    "        \"270_RRV_SD2\": \"RRV_SD2_270\",\n",
    "        \"150_EDR_SD2\": \"EDR_SD2_150\",\n",
    "        \"270_EDR_SD2\": \"EDR_SD2_270\",\n",
    "        \"_hrv_ratio_sd1_sd2\": \"HRV_SD2SD1\",\n",
    "        \"_acc_max_19\": \"ACT_Max_19\",\n",
    "        \"_acc_skew_centered_19\": \"ACT_Skew_centered_19\",\n",
    "        \"_hrv_nni_20\": \"HRV_NN_20\",\n",
    "        \"_hrv_csi\": \"HRV_CSI\",\n",
    "        \"_hrv_std_hr\": \"HRV_std_HR\",\n",
    "        \"hrv_max_hr\": \"HRV_Max_HR\",\n",
    "        \"_hrv_hf\": \"HRV_HF\",\n",
    "        \"_hrv_max_hr\": \"HRV_Max_HR\",\n",
    "    }\n",
    ")"
   ]
  },
  {
   "cell_type": "code",
   "execution_count": null,
   "metadata": {},
   "outputs": [],
   "source": [
    "shap_values = explainer.shap_values(features)"
   ]
  },
  {
   "cell_type": "code",
   "execution_count": null,
   "metadata": {},
   "outputs": [],
   "source": [
    "plt.close(\"all\")\n",
    "fig, ax = plt.subplots()\n",
    "shap.summary_plot(shap_values, features, class_inds=[0, 1, 2, 3, 4])\n",
    "\n",
    "handles, labels = ax.get_legend_handles_labels()\n",
    "labels = [\"Wake\", \"N1\", \"N2\", \"N3\", \"REM\"]\n",
    "ax.legend(handles, labels)\n",
    "plt.savefig(\n",
    "    \"Feature_importance_\" + algorithm + \"_\" + modality + \"_\" + stage + \".pdf\", format=\"pdf\", bbox_inches=\"tight\"\n",
    ")\n",
    "# 0 = wake, 1 = N1, 2 = N2, 3 = N3, 4 = REM"
   ]
  },
  {
   "cell_type": "markdown",
   "metadata": {},
   "source": [
    "# 3 stage"
   ]
  },
  {
   "cell_type": "code",
   "execution_count": null,
   "metadata": {},
   "outputs": [],
   "source": [
    "stage = \"3stage\""
   ]
  },
  {
   "cell_type": "markdown",
   "metadata": {},
   "source": [
    "# ACC + HRV + RRV"
   ]
  },
  {
   "cell_type": "code",
   "execution_count": null,
   "metadata": {},
   "outputs": [],
   "source": [
    "modality = \"acc_hrv_RRV\""
   ]
  },
  {
   "cell_type": "code",
   "execution_count": null,
   "metadata": {
    "jupyter": {
     "outputs_hidden": true
    },
    "tags": []
   },
   "outputs": [],
   "source": [
    "with open(model_path.joinpath(algorithm + \"_benchmark_\" + modality + \"_\" + stage + \".obj\"), \"rb\") as f:\n",
    "    pipeline = pickle.load(f)"
   ]
  },
  {
   "cell_type": "code",
   "execution_count": null,
   "metadata": {},
   "outputs": [],
   "source": [
    "model = pipeline.optimized_pipeline_"
   ]
  },
  {
   "cell_type": "code",
   "execution_count": null,
   "metadata": {},
   "outputs": [],
   "source": [
    "model.classifier"
   ]
  },
  {
   "cell_type": "code",
   "execution_count": null,
   "metadata": {},
   "outputs": [],
   "source": [
    "explainer = shap.TreeExplainer(model.classifier)"
   ]
  },
  {
   "cell_type": "code",
   "execution_count": null,
   "metadata": {},
   "outputs": [],
   "source": [
    "features, ground_truth = data.get_concat_dataset(\n",
    "    data, modality=[\"acc\", \"hrv\", \"RRV\"]\n",
    ")  # data.get_concat_dataset(data, modality=[\"acc\", \"hrv\", \"RRV\"])\n",
    "features = features.droplevel(0)\n",
    "features = features.reset_index(drop=True)"
   ]
  },
  {
   "cell_type": "code",
   "execution_count": null,
   "metadata": {},
   "outputs": [],
   "source": [
    "features = features.rename(\n",
    "    columns={\n",
    "        \"270_RRV_MCVBB\": \"RRV_MCVBB_270\",\n",
    "        \"270_RRV_CVBB\": \"RRV_CVBB_270\",\n",
    "        \"150_RRV_CVBB\": \"RRV_CVBB_150\",\n",
    "        \"270_EDR_MCVBB\": \"EDR_MCVBB_270\",\n",
    "        \"270_EDR_CVBB\": \"EDR_CVBB_270\",\n",
    "        \"150_EDR_CVBB\": \"EDR_CVBB_150\",\n",
    "        \"_acc_mean_19\": \"ACT_Mean_19\",\n",
    "        \"_acc_anyact_centered_19\": \"ACT_Any_centered_19\",\n",
    "        \"_acc_mean_centered_19\": \"ACT_Mean_centered_19\",\n",
    "        \"270_RRV_MedianBB\": \"RRV_MedianBB_270\",\n",
    "        \"270_RRV_SampEn\": \"RRV_SampEn_270\",\n",
    "        \"270_EDR_MedianBB\": \"EDR_MedianBB_270\",\n",
    "        \"270_EDR_SampEn\": \"EDR_SampEn_270\",\n",
    "        \"_hrv_Modified_csi\": \"HRV_Modified_csi\",\n",
    "        \"_hrv_median_nni\": \"HRV_Median_NN\",\n",
    "        \"210_RRV_CVBB\": \"RRV_CVBB_210\",\n",
    "        \"210_EDR_CVBB\": \"EDR_CVBB_210\",\n",
    "        \"_acc_std_19\": \"ACT_SD_19\",\n",
    "        \"150_RRV_MeanBB\": \"RRV_MeanBB_150\",\n",
    "        \"150_EDR_MeanBB\": \"EDR_MeanBB_150\",\n",
    "        \"_hrv_ratio_sd2_sd1\": \"HRV_SD2SD1\",\n",
    "        \"270_RRV_SD2SD1\": \"RRV_SD2SD1_270\",\n",
    "        \"150_RRV_MCVBB\": \"RRV_MCVBB_150\",\n",
    "        \"210_RRV_MCVBB\": \"RRV_MCVBB_210\",\n",
    "        \"270_EDR_SD2SD1\": \"EDR_SD2SD1_270\",\n",
    "        \"150_EDR_MCVBB\": \"EDR_MCVBB_150\",\n",
    "        \"210_EDR_MCVBB\": \"EDR_MCVBB_210\",\n",
    "        \"_acc_anyact_19\": \"ACT_Any_19\",\n",
    "        \"150_RRV_SD2\": \"RRV_SD2_150\",\n",
    "        \"270_RRV_SD2\": \"RRV_SD2_270\",\n",
    "        \"150_EDR_SD2\": \"EDR_SD2_150\",\n",
    "        \"270_EDR_SD2\": \"EDR_SD2_270\",\n",
    "        \"_hrv_ratio_sd1_sd2\": \"HRV_SD2SD1\",\n",
    "        \"_acc_max_19\": \"ACT_Max_19\",\n",
    "        \"_acc_skew_centered_19\": \"ACT_Skew_centered_19\",\n",
    "        \"_hrv_nni_20\": \"HRV_NN_20\",\n",
    "        \"_hrv_csi\": \"HRV_CSI\",\n",
    "        \"_hrv_std_hr\": \"HRV_std_HR\",\n",
    "        \"hrv_max_hr\": \"HRV_Max_HR\",\n",
    "        \"_hrv_hf\": \"HRV_HF\",\n",
    "        \"_hrv_max_hr\": \"HRV_Max_HR\",\n",
    "    }\n",
    ")"
   ]
  },
  {
   "cell_type": "code",
   "execution_count": null,
   "metadata": {},
   "outputs": [],
   "source": [
    "shap_values = explainer.shap_values(features)"
   ]
  },
  {
   "cell_type": "code",
   "execution_count": null,
   "metadata": {},
   "outputs": [],
   "source": [
    "plt.close(\"all\")\n",
    "fig, ax = plt.subplots()\n",
    "shap.summary_plot(shap_values, features, class_inds=[0, 1, 2])\n",
    "\n",
    "handles, labels = ax.get_legend_handles_labels()\n",
    "labels = [\"Wake\", \"NREM\", \"REM\"]\n",
    "ax.legend(handles, labels)\n",
    "\n",
    "plt.savefig(\n",
    "    \"Feature_importance_\" + algorithm + \"_\" + modality + \"_\" + stage + \".pdf\", format=\"pdf\", bbox_inches=\"tight\"\n",
    ")\n",
    "\n",
    "# 0 = wake, 1 = NREM, 2 = REM"
   ]
  },
  {
   "cell_type": "markdown",
   "metadata": {},
   "source": [
    "# ACC + HRV + EDR"
   ]
  },
  {
   "cell_type": "code",
   "execution_count": null,
   "metadata": {},
   "outputs": [],
   "source": [
    "modality = \"acc_hrv_EDR\""
   ]
  },
  {
   "cell_type": "code",
   "execution_count": null,
   "metadata": {
    "jupyter": {
     "outputs_hidden": true
    },
    "tags": []
   },
   "outputs": [],
   "source": [
    "with open(model_path.joinpath(algorithm + \"_benchmark_\" + modality + \"_\" + stage + \".obj\"), \"rb\") as f:\n",
    "    pipeline = pickle.load(f)"
   ]
  },
  {
   "cell_type": "code",
   "execution_count": null,
   "metadata": {},
   "outputs": [],
   "source": [
    "model = pipeline.optimized_pipeline_"
   ]
  },
  {
   "cell_type": "code",
   "execution_count": null,
   "metadata": {},
   "outputs": [],
   "source": [
    "model.classifier"
   ]
  },
  {
   "cell_type": "code",
   "execution_count": null,
   "metadata": {},
   "outputs": [],
   "source": [
    "explainer = shap.TreeExplainer(model.classifier)"
   ]
  },
  {
   "cell_type": "code",
   "execution_count": null,
   "metadata": {
    "tags": []
   },
   "outputs": [],
   "source": [
    "features, ground_truth = data.get_concat_dataset(\n",
    "    data, modality=[\"acc\", \"hrv\", \"EDR\"]\n",
    ")  # data.get_concat_dataset(data, modality=[\"acc\", \"hrv\", \"RRV\"])\n",
    "features = features.droplevel(0)\n",
    "features = features.reset_index(drop=True)"
   ]
  },
  {
   "cell_type": "code",
   "execution_count": null,
   "metadata": {
    "tags": []
   },
   "outputs": [],
   "source": [
    "features = features.rename(\n",
    "    columns={\n",
    "        \"270_RRV_MCVBB\": \"RRV_MCVBB_270\",\n",
    "        \"270_RRV_CVBB\": \"RRV_CVBB_270\",\n",
    "        \"150_RRV_CVBB\": \"RRV_CVBB_150\",\n",
    "        \"270_EDR_MCVBB\": \"EDR_MCVBB_270\",\n",
    "        \"270_EDR_CVBB\": \"EDR_CVBB_270\",\n",
    "        \"150_EDR_CVBB\": \"EDR_CVBB_150\",\n",
    "        \"_acc_mean_19\": \"ACT_Mean_19\",\n",
    "        \"_acc_anyact_centered_19\": \"ACT_Any_centered_19\",\n",
    "        \"_acc_mean_centered_19\": \"ACT_Mean_centered_19\",\n",
    "        \"270_RRV_MedianBB\": \"RRV_MedianBB_270\",\n",
    "        \"270_RRV_SampEn\": \"RRV_SampEn_270\",\n",
    "        \"270_EDR_MedianBB\": \"EDR_MedianBB_270\",\n",
    "        \"270_EDR_SampEn\": \"EDR_SampEn_270\",\n",
    "        \"_hrv_Modified_csi\": \"HRV_Modified_csi\",\n",
    "        \"_hrv_median_nni\": \"HRV_Median_NN\",\n",
    "        \"210_RRV_CVBB\": \"RRV_CVBB_210\",\n",
    "        \"210_EDR_CVBB\": \"EDR_CVBB_210\",\n",
    "        \"_acc_std_19\": \"ACT_SD_19\",\n",
    "        \"150_RRV_MeanBB\": \"RRV_MeanBB_150\",\n",
    "        \"150_EDR_MeanBB\": \"EDR_MeanBB_150\",\n",
    "        \"_hrv_ratio_sd2_sd1\": \"HRV_SD2SD1\",\n",
    "        \"270_RRV_SD2SD1\": \"RRV_SD2SD1_270\",\n",
    "        \"150_RRV_MCVBB\": \"RRV_MCVBB_150\",\n",
    "        \"210_RRV_MCVBB\": \"RRV_MCVBB_210\",\n",
    "        \"270_EDR_SD2SD1\": \"EDR_SD2SD1_270\",\n",
    "        \"150_EDR_MCVBB\": \"EDR_MCVBB_150\",\n",
    "        \"210_EDR_MCVBB\": \"EDR_MCVBB_210\",\n",
    "        \"_acc_anyact_19\": \"ACT_Any_19\",\n",
    "        \"150_RRV_SD2\": \"RRV_SD2_150\",\n",
    "        \"270_RRV_SD2\": \"RRV_SD2_270\",\n",
    "        \"150_EDR_SD2\": \"EDR_SD2_150\",\n",
    "        \"270_EDR_SD2\": \"EDR_SD2_270\",\n",
    "        \"_hrv_ratio_sd1_sd2\": \"HRV_SD2SD1\",\n",
    "        \"_acc_max_19\": \"ACT_Max_19\",\n",
    "        \"_acc_skew_centered_19\": \"ACT_Skew_centered_19\",\n",
    "        \"_hrv_nni_20\": \"HRV_NN_20\",\n",
    "        \"_hrv_csi\": \"HRV_CSI\",\n",
    "        \"_hrv_std_hr\": \"HRV_std_HR\",\n",
    "        \"_hrv_max_hr\": \"HRV_Max_HR\",\n",
    "        \"_hrv_hf\": \"HRV_HF\",\n",
    "        \"_acc_median_centered_19\": \"ACC_Median_centered_19\",\n",
    "        \"_acc_std_centered_19\": \"ACT_SD_centered_19\",\n",
    "        \"_acc_skew_19\": \"ACT_Skew_19\",\n",
    "        \"_acc_median_19\": \"ACT_Median_19\",\n",
    "    }\n",
    ")"
   ]
  },
  {
   "cell_type": "code",
   "execution_count": null,
   "metadata": {},
   "outputs": [],
   "source": [
    "shap_values = explainer.shap_values(features, check_additivity=False)"
   ]
  },
  {
   "cell_type": "code",
   "execution_count": null,
   "metadata": {},
   "outputs": [],
   "source": [
    "plt.close(\"all\")\n",
    "fig, ax = plt.subplots()\n",
    "shap.summary_plot(shap_values, features, class_inds=[0, 1, 2])\n",
    "\n",
    "handles, labels = ax.get_legend_handles_labels()\n",
    "labels = [\"Wake\", \"NREM\", \"REM\"]\n",
    "ax.legend(handles, labels)\n",
    "\n",
    "# Change the colormap of the artists\n",
    "for fc in plt.gcf().get_children():\n",
    "    for fcc in fc.get_children():\n",
    "        if hasattr(fcc, \"set_cmap\"):\n",
    "            fcc.set_cmap(newcmp)\n",
    "\n",
    "plt.savefig(\n",
    "    \"Feature_importance_\" + algorithm + \"_\" + modality + \"_\" + stage + \".pdf\", format=\"pdf\", bbox_inches=\"tight\"\n",
    ")\n",
    "# 0 = wake, 1 = NREM, 2 = REM"
   ]
  },
  {
   "cell_type": "markdown",
   "metadata": {},
   "source": [
    "# Binary"
   ]
  },
  {
   "cell_type": "code",
   "execution_count": null,
   "metadata": {},
   "outputs": [],
   "source": [
    "stage = \"binary\""
   ]
  },
  {
   "cell_type": "markdown",
   "metadata": {},
   "source": [
    "# ACC + HRV + RRV"
   ]
  },
  {
   "cell_type": "code",
   "execution_count": null,
   "metadata": {},
   "outputs": [],
   "source": [
    "modality = \"acc_hrv_RRV\""
   ]
  },
  {
   "cell_type": "code",
   "execution_count": null,
   "metadata": {},
   "outputs": [],
   "source": [
    "with open(model_path.joinpath(algorithm + \"_benchmark_\" + modality + \"_\" + stage + \".obj\"), \"rb\") as f:\n",
    "    pipeline = pickle.load(f)"
   ]
  },
  {
   "cell_type": "code",
   "execution_count": null,
   "metadata": {},
   "outputs": [],
   "source": [
    "model = pipeline.optimized_pipeline_"
   ]
  },
  {
   "cell_type": "code",
   "execution_count": null,
   "metadata": {},
   "outputs": [],
   "source": [
    "model.classifier"
   ]
  },
  {
   "cell_type": "code",
   "execution_count": null,
   "metadata": {},
   "outputs": [],
   "source": [
    "explainer = shap.TreeExplainer(model.classifier)"
   ]
  },
  {
   "cell_type": "code",
   "execution_count": null,
   "metadata": {},
   "outputs": [],
   "source": [
    "features, ground_truth = data.get_concat_dataset(\n",
    "    data, modality=[\"acc\", \"hrv\", \"RRV\"]\n",
    ")  # data.get_concat_dataset(data, modality=[\"acc\", \"hrv\", \"RRV\"])\n",
    "features = features.droplevel(0)\n",
    "features = features.reset_index(drop=True)"
   ]
  },
  {
   "cell_type": "code",
   "execution_count": null,
   "metadata": {},
   "outputs": [],
   "source": [
    "features = features.rename(\n",
    "    columns={\n",
    "        \"270_RRV_MCVBB\": \"RRV_MCVBB_270\",\n",
    "        \"270_RRV_CVBB\": \"RRV_CVBB_270\",\n",
    "        \"150_RRV_CVBB\": \"RRV_CVBB_150\",\n",
    "        \"270_EDR_MCVBB\": \"EDR_MCVBB_270\",\n",
    "        \"270_EDR_CVBB\": \"EDR_CVBB_270\",\n",
    "        \"150_EDR_CVBB\": \"EDR_CVBB_150\",\n",
    "        \"_acc_mean_19\": \"ACT_Mean_19\",\n",
    "        \"_acc_anyact_centered_19\": \"ACT_Any_centered_19\",\n",
    "        \"_acc_mean_centered_19\": \"ACT_Mean_centered_19\",\n",
    "        \"270_RRV_MedianBB\": \"RRV_MedianBB_270\",\n",
    "        \"270_RRV_SampEn\": \"RRV_SampEn_270\",\n",
    "        \"270_EDR_MedianBB\": \"EDR_MedianBB_270\",\n",
    "        \"270_EDR_SampEn\": \"EDR_SampEn_270\",\n",
    "        \"_hrv_Modified_csi\": \"HRV_Modified_csi\",\n",
    "        \"_hrv_median_nni\": \"HRV_Median_NN\",\n",
    "        \"210_RRV_CVBB\": \"RRV_CVBB_210\",\n",
    "        \"210_EDR_CVBB\": \"EDR_CVBB_210\",\n",
    "        \"_acc_std_19\": \"ACT_SD_19\",\n",
    "        \"150_RRV_MeanBB\": \"RRV_MeanBB_150\",\n",
    "        \"150_EDR_MeanBB\": \"EDR_MeanBB_150\",\n",
    "        \"_hrv_ratio_sd2_sd1\": \"HRV_SD2SD1\",\n",
    "        \"270_RRV_SD2SD1\": \"RRV_SD2SD1_270\",\n",
    "        \"150_RRV_MCVBB\": \"RRV_MCVBB_150\",\n",
    "        \"210_RRV_MCVBB\": \"RRV_MCVBB_210\",\n",
    "        \"270_EDR_SD2SD1\": \"EDR_SD2SD1_270\",\n",
    "        \"150_EDR_MCVBB\": \"EDR_MCVBB_150\",\n",
    "        \"210_EDR_MCVBB\": \"EDR_MCVBB_210\",\n",
    "        \"_acc_anyact_19\": \"ACT_Any_19\",\n",
    "        \"150_RRV_SD2\": \"RRV_SD2_150\",\n",
    "        \"270_RRV_SD2\": \"RRV_SD2_270\",\n",
    "        \"150_EDR_SD2\": \"EDR_SD2_150\",\n",
    "        \"270_EDR_SD2\": \"EDR_SD2_270\",\n",
    "        \"_hrv_ratio_sd1_sd2\": \"HRV_SD2SD1\",\n",
    "        \"_acc_max_19\": \"ACT_Max_19\",\n",
    "        \"_acc_skew_centered_19\": \"ACT_Skew_centered_19\",\n",
    "        \"_hrv_nni_20\": \"HRV_NN_20\",\n",
    "        \"_hrv_csi\": \"HRV_CSI\",\n",
    "        \"_hrv_std_hr\": \"HRV_std_HR\",\n",
    "        \"_hrv_max_hr\": \"HRV_Max_HR\",\n",
    "        \"_hrv_hf\": \"HRV_HF\",\n",
    "        \"_acc_median_centered_19\": \"ACC_Median_centered_19\",\n",
    "        \"_acc_std_centered_19\": \"ACT_SD_centered_19\",\n",
    "        \"_acc_skew_19\": \"ACT_Skew_19\",\n",
    "        \"_acc_median_19\": \"ACT_Median_19\",\n",
    "        \"270_RRV_MeanBB\": \"RRV_MeanBB_270\",\n",
    "        \"210_RRV_MedianBB\": \"RRV_MedianBB_210\",\n",
    "        \"150_RRV_MedianBB\": \"RRV_MedianBB_150\",\n",
    "        \"210_RRV_MeanBB\": \"RRV_MeanBB_210\",\n",
    "        \"270_EDR_MeanBB\": \"EDR_MeanBB_270\",\n",
    "        \"210_EDR_MedianBB\": \"EDR_MedianBB_210\",\n",
    "        \"150_EDR_MedianBB\": \"EDR_MedianBB_150\",\n",
    "        \"210_EDR_MeanBB\": \"EDR_MeanBB_210\",\n",
    "    }\n",
    ")"
   ]
  },
  {
   "cell_type": "code",
   "execution_count": null,
   "metadata": {},
   "outputs": [],
   "source": [
    "shap_values = explainer.shap_values(features)"
   ]
  },
  {
   "cell_type": "code",
   "execution_count": null,
   "metadata": {},
   "outputs": [],
   "source": [
    "plt.close(\"all\")\n",
    "fig, ax = plt.subplots()\n",
    "shap.summary_plot(shap_values, features, color=\"coolwarm\")\n",
    "\n",
    "handles, labels = ax.get_legend_handles_labels()\n",
    "plt.savefig(\n",
    "    \"Feature_importance_\" + algorithm + \"_\" + modality + \"_\" + stage + \".pdf\", format=\"pdf\", bbox_inches=\"tight\"\n",
    ")\n",
    "# 0 = Wake, 1 = Sleep"
   ]
  },
  {
   "cell_type": "code",
   "execution_count": null,
   "metadata": {},
   "outputs": [],
   "source": [
    "# compute SHAP values\n",
    "data = dataset.get_subset(mesa_id=test_idx_list)"
   ]
  },
  {
   "cell_type": "code",
   "execution_count": null,
   "metadata": {},
   "outputs": [],
   "source": [
    "features, ground_truth = data.get_concat_dataset(\n",
    "    data, modality=[\"acc\", \"hrv\", \"RRV\"]\n",
    ")  # data.get_concat_dataset(data, modality=[\"acc\", \"hrv\", \"RRV\"])\n",
    "features = features.droplevel(0)\n",
    "features = features.reset_index(drop=True)"
   ]
  },
  {
   "cell_type": "code",
   "execution_count": null,
   "metadata": {},
   "outputs": [],
   "source": [
    "explainer = shap.Explainer(model.classifier, features)"
   ]
  },
  {
   "cell_type": "code",
   "execution_count": null,
   "metadata": {},
   "outputs": [],
   "source": [
    "heatmap_data = data[45]"
   ]
  },
  {
   "cell_type": "code",
   "execution_count": null,
   "metadata": {},
   "outputs": [],
   "source": [
    "from sleep_analysis.plotting.sleep_phases import plot_sleep_stages_without_artefacts"
   ]
  },
  {
   "cell_type": "code",
   "execution_count": null,
   "metadata": {
    "tags": []
   },
   "outputs": [],
   "source": [
    "plt.close(\"all\")\n",
    "\n",
    "plot_sleep_stages_without_artefacts(heatmap_data.ground_truth[\"5stage\"])"
   ]
  },
  {
   "cell_type": "code",
   "execution_count": null,
   "metadata": {
    "tags": []
   },
   "outputs": [],
   "source": [
    "heatmap_features, heatmap_ground_truth = data.get_concat_dataset(heatmap_data, modality=[\"acc\", \"hrv\", \"RRV\"])"
   ]
  },
  {
   "cell_type": "code",
   "execution_count": null,
   "metadata": {
    "tags": []
   },
   "outputs": [],
   "source": [
    "shap_values = explainer(heatmap_features, check_additivity=False)"
   ]
  },
  {
   "cell_type": "code",
   "execution_count": null,
   "metadata": {
    "tags": []
   },
   "outputs": [],
   "source": [
    "df_sleep_stage = heatmap_data.ground_truth[\"5stage\"].replace({\"A\": -2, \"Artefakt\": -1, 0: 0, 1: 2, 2: 3, 3: 4, 4: 1})\n",
    "df_sleep_stage = df_sleep_stage[df_sleep_stage != -1]"
   ]
  },
  {
   "cell_type": "code",
   "execution_count": null,
   "metadata": {
    "tags": []
   },
   "outputs": [],
   "source": [
    "plt.close(\"all\")\n",
    "fig, axs = plt.subplots(figsize=(60, 30))\n",
    "shap.plots.heatmap(shap_values, max_display=10)\n",
    "axs.plot(df_sleep_stage, alpha=0.5, color=\"gray\")\n",
    "plt.savefig(\"heatmap_subj45\" + algorithm + \"_\" + modality + \"_\" + stage + \".svg\", format=\"svg\", bbox_inches=\"tight\")"
   ]
  },
  {
   "cell_type": "code",
   "execution_count": null,
   "metadata": {},
   "outputs": [],
   "source": []
  },
  {
   "cell_type": "code",
   "execution_count": null,
   "metadata": {},
   "outputs": [],
   "source": [
    "clustering = shap.utils.hclust(\n",
    "    features, ground_truth\n",
    ")  # by default this trains (X.shape[1] choose 2) 2-feature XGBoost models\n",
    "shap.plots.bar(shap_values, clustering=clustering)"
   ]
  },
  {
   "cell_type": "markdown",
   "metadata": {},
   "source": [
    "# ACC + HRV + EDR"
   ]
  },
  {
   "cell_type": "code",
   "execution_count": null,
   "metadata": {},
   "outputs": [],
   "source": [
    "modality = \"acc_hrv_EDR\""
   ]
  },
  {
   "cell_type": "code",
   "execution_count": null,
   "metadata": {},
   "outputs": [],
   "source": [
    "with open(model_path.joinpath(algorithm + \"_benchmark_\" + modality + \"_\" + stage + \".obj\"), \"rb\") as f:\n",
    "    pipeline = pickle.load(f)"
   ]
  },
  {
   "cell_type": "code",
   "execution_count": null,
   "metadata": {},
   "outputs": [],
   "source": [
    "model = pipeline.optimized_pipeline_"
   ]
  },
  {
   "cell_type": "code",
   "execution_count": null,
   "metadata": {},
   "outputs": [],
   "source": [
    "model.classifier"
   ]
  },
  {
   "cell_type": "code",
   "execution_count": null,
   "metadata": {},
   "outputs": [],
   "source": [
    "explainer = shap.TreeExplainer(model.classifier)"
   ]
  },
  {
   "cell_type": "code",
   "execution_count": null,
   "metadata": {
    "tags": []
   },
   "outputs": [],
   "source": [
    "features, ground_truth = data.get_concat_dataset(\n",
    "    data, modality=[\"acc\", \"hrv\", \"EDR\"]\n",
    ")  # data.get_concat_dataset(data, modality=[\"acc\", \"hrv\", \"RRV\"])\n",
    "features = features.droplevel(0)\n",
    "features = features.reset_index(drop=True)"
   ]
  },
  {
   "cell_type": "code",
   "execution_count": null,
   "metadata": {
    "tags": []
   },
   "outputs": [],
   "source": [
    "features = features.rename(\n",
    "    columns={\n",
    "        \"270_RRV_MCVBB\": \"RRV_MCVBB_270\",\n",
    "        \"270_RRV_CVBB\": \"RRV_CVBB_270\",\n",
    "        \"150_RRV_CVBB\": \"RRV_CVBB_150\",\n",
    "        \"270_EDR_MCVBB\": \"EDR_MCVBB_270\",\n",
    "        \"270_EDR_CVBB\": \"EDR_CVBB_270\",\n",
    "        \"150_EDR_CVBB\": \"EDR_CVBB_150\",\n",
    "        \"_acc_mean_19\": \"ACT_Mean_19\",\n",
    "        \"_acc_anyact_centered_19\": \"ACT_Any_centered_19\",\n",
    "        \"_acc_mean_centered_19\": \"ACT_Mean_centered_19\",\n",
    "        \"270_RRV_MedianBB\": \"RRV_MedianBB_270\",\n",
    "        \"270_RRV_SampEn\": \"RRV_SampEn_270\",\n",
    "        \"270_EDR_MedianBB\": \"EDR_MedianBB_270\",\n",
    "        \"270_EDR_SampEn\": \"EDR_SampEn_270\",\n",
    "        \"_hrv_Modified_csi\": \"HRV_Modified_csi\",\n",
    "        \"_hrv_median_nni\": \"HRV_Median_NN\",\n",
    "        \"210_RRV_CVBB\": \"RRV_CVBB_210\",\n",
    "        \"210_EDR_CVBB\": \"EDR_CVBB_210\",\n",
    "        \"_acc_std_19\": \"ACT_SD_19\",\n",
    "        \"150_RRV_MeanBB\": \"RRV_MeanBB_150\",\n",
    "        \"150_EDR_MeanBB\": \"EDR_MeanBB_150\",\n",
    "        \"_hrv_ratio_sd2_sd1\": \"HRV_SD2SD1\",\n",
    "        \"270_RRV_SD2SD1\": \"RRV_SD2SD1_270\",\n",
    "        \"150_RRV_MCVBB\": \"RRV_MCVBB_150\",\n",
    "        \"210_RRV_MCVBB\": \"RRV_MCVBB_210\",\n",
    "        \"270_EDR_SD2SD1\": \"EDR_SD2SD1_270\",\n",
    "        \"150_EDR_MCVBB\": \"EDR_MCVBB_150\",\n",
    "        \"210_EDR_MCVBB\": \"EDR_MCVBB_210\",\n",
    "        \"_acc_anyact_19\": \"ACT_Any_19\",\n",
    "        \"150_RRV_SD2\": \"RRV_SD2_150\",\n",
    "        \"270_RRV_SD2\": \"RRV_SD2_270\",\n",
    "        \"150_EDR_SD2\": \"EDR_SD2_150\",\n",
    "        \"270_EDR_SD2\": \"EDR_SD2_270\",\n",
    "        \"_hrv_ratio_sd1_sd2\": \"HRV_SD2SD1\",\n",
    "        \"_acc_max_19\": \"ACT_Max_19\",\n",
    "        \"_acc_skew_centered_19\": \"ACT_Skew_centered_19\",\n",
    "        \"_hrv_nni_20\": \"HRV_NN_20\",\n",
    "        \"_hrv_csi\": \"HRV_CSI\",\n",
    "        \"_hrv_std_hr\": \"HRV_std_HR\",\n",
    "        \"_hrv_max_hr\": \"HRV_Max_HR\",\n",
    "        \"_hrv_hf\": \"HRV_HF\",\n",
    "        \"_acc_median_centered_19\": \"ACC_Median_centered_19\",\n",
    "        \"_acc_std_centered_19\": \"ACT_SD_centered_19\",\n",
    "        \"_acc_skew_19\": \"ACT_Skew_19\",\n",
    "        \"_acc_median_19\": \"ACT_Median_19\",\n",
    "        \"270_RRV_MeanBB\": \"RRV_MeanBB_270\",\n",
    "        \"210_RRV_MedianBB\": \"RRV_MedianBB_210\",\n",
    "        \"150_RRV_MedianBB\": \"RRV_MedianBB_150\",\n",
    "        \"210_RRV_MeanBB\": \"RRV_MeanBB_210\",\n",
    "        \"270_EDR_MeanBB\": \"EDR_MeanBB_270\",\n",
    "        \"210_EDR_MedianBB\": \"EDR_MedianBB_210\",\n",
    "        \"150_EDR_MedianBB\": \"EDR_MedianBB_150\",\n",
    "        \"210_EDR_MeanBB\": \"EDR_MeanBB_210\",\n",
    "        \"_acc_anyact_centered_18\": \"ACT_Any_centered_18\",\n",
    "        \"_acc_median_centered_18\": \"ACC_Median_centered_18\",\n",
    "        \"_acc_anyact_10\": \"ACT_Any_10\",\n",
    "    }\n",
    ")"
   ]
  },
  {
   "cell_type": "code",
   "execution_count": null,
   "metadata": {},
   "outputs": [],
   "source": [
    "shap_values = explainer.shap_values(features)"
   ]
  },
  {
   "cell_type": "code",
   "execution_count": null,
   "metadata": {},
   "outputs": [],
   "source": [
    "from fau_colors import colors"
   ]
  },
  {
   "cell_type": "code",
   "execution_count": null,
   "metadata": {},
   "outputs": [],
   "source": [
    "from fau_colors import cmaps\n",
    "\n",
    "cmaps.faculties"
   ]
  },
  {
   "cell_type": "code",
   "execution_count": null,
   "metadata": {},
   "outputs": [],
   "source": [
    "plt.close(\"all\")\n",
    "fig, ax = plt.subplots()\n",
    "shap.summary_plot(shap_values, features, color=cmaps.faculties)\n",
    "\n",
    "handles, labels = ax.get_legend_handles_labels()\n",
    "\n",
    "## Change the colormap of the artists\n",
    "# for fc in plt.gcf().get_children():\n",
    "#    for fcc in fc.get_children():\n",
    "#        if hasattr(fcc, \"set_cmap\"):\n",
    "#            fcc.set_cmap()\n",
    "\n",
    "plt.savefig(\n",
    "    \"Feature_importance_\" + algorithm + \"_\" + modality + \"_\" + stage + \".pdf\", format=\"pdf\", bbox_inches=\"tight\"\n",
    ")\n",
    "# 0 = Wake, 1 = Sleep"
   ]
  }
 ],
 "metadata": {
  "kernelspec": {
   "display_name": "sleep-analysis",
   "language": "python",
   "name": "sleep-analysis"
  },
  "language_info": {
   "codemirror_mode": {
    "name": "ipython",
    "version": 3
   },
   "file_extension": ".py",
   "mimetype": "text/x-python",
   "name": "python",
   "nbconvert_exporter": "python",
   "pygments_lexer": "ipython3",
   "version": "3.9.19"
  }
 },
 "nbformat": 4,
 "nbformat_minor": 4
}

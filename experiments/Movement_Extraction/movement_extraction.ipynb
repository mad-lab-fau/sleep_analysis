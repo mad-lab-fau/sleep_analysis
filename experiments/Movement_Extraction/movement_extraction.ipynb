{
 "cells": [
  {
   "cell_type": "code",
   "execution_count": 1,
   "metadata": {},
   "outputs": [],
   "source": [
    "from sleep_analysis.datasets.d04_main_dataset import D04MainStudy\n",
    "import numpy as np\n",
    "import pandas as pd\n",
    "import os\n",
    "from sklearn import preprocessing"
   ]
  },
  {
   "cell_type": "code",
   "execution_count": 32,
   "metadata": {},
   "outputs": [],
   "source": [
    "from sleep_analysis.preprocessing.d04_main.movement import preprocess_movement_df, preprocess_movement, _threshold, _normalize"
   ]
  },
  {
   "cell_type": "code",
   "execution_count": 3,
   "metadata": {},
   "outputs": [],
   "source": [
    "from empkins_io.sync import SyncedDataset\n",
    "\n",
    "import matplotlib.pyplot as plt\n",
    "import seaborn as sns\n",
    "\n",
    "%load_ext autoreload\n",
    "%autoreload 2"
   ]
  },
  {
   "cell_type": "code",
   "execution_count": 4,
   "metadata": {},
   "outputs": [],
   "source": [
    "from biopsykit.signals.ecg import EcgProcessor"
   ]
  },
  {
   "cell_type": "code",
   "execution_count": 5,
   "metadata": {},
   "outputs": [],
   "source": [
    "from empkins_micro.emrad.radar import get_rpeaks, get_peak_probabilities"
   ]
  },
  {
   "cell_type": "code",
   "execution_count": 6,
   "metadata": {},
   "outputs": [],
   "source": [
    "from fau_colors import cmaps, register_fausans_font"
   ]
  },
  {
   "cell_type": "code",
   "execution_count": 7,
   "metadata": {},
   "outputs": [],
   "source": [
    "%matplotlib widget"
   ]
  },
  {
   "cell_type": "code",
   "execution_count": 8,
   "metadata": {},
   "outputs": [
    {
     "data": {
      "text/html": [
       "<svg  width=\"330\" height=\"55\"><rect x=\"0\" y=\"0\" width=\"55\" height=\"55\" style=\"fill:#002f6c;stroke-width:2;stroke:rgb(255,255,255)\"/><rect x=\"55\" y=\"0\" width=\"55\" height=\"55\" style=\"fill:#779fb5;stroke-width:2;stroke:rgb(255,255,255)\"/><rect x=\"110\" y=\"0\" width=\"55\" height=\"55\" style=\"fill:#ffb81c;stroke-width:2;stroke:rgb(255,255,255)\"/><rect x=\"165\" y=\"0\" width=\"55\" height=\"55\" style=\"fill:#00a3e0;stroke-width:2;stroke:rgb(255,255,255)\"/><rect x=\"220\" y=\"0\" width=\"55\" height=\"55\" style=\"fill:#43b02a;stroke-width:2;stroke:rgb(255,255,255)\"/><rect x=\"275\" y=\"0\" width=\"55\" height=\"55\" style=\"fill:#c8102e;stroke-width:2;stroke:rgb(255,255,255)\"/></svg>"
      ],
      "text/plain": [
       "[(0.0, 0.1843137254901961, 0.4235294117647059),\n",
       " (0.4666666666666667, 0.6235294117647059, 0.7098039215686275),\n",
       " (1.0, 0.7215686274509804, 0.10980392156862745),\n",
       " (0.0, 0.6392156862745098, 0.8784313725490196),\n",
       " (0.2627450980392157, 0.6901960784313725, 0.16470588235294117),\n",
       " (0.7843137254901961, 0.06274509803921569, 0.1803921568627451)]"
      ]
     },
     "execution_count": 8,
     "metadata": {},
     "output_type": "execute_result"
    }
   ],
   "source": [
    "register_fausans_font()\n",
    "plt.close(\"all\")\n",
    "\n",
    "palette = sns.color_palette(cmaps.faculties)\n",
    "sns.set_theme(context=\"notebook\", style=\"ticks\", font=\"sans-serif\", palette=palette)\n",
    "\n",
    "plt.rcParams[\"figure.figsize\"] = (10, 5)\n",
    "plt.rcParams[\"pdf.fonttype\"] = 42\n",
    "plt.rcParams[\"mathtext.default\"] = \"regular\"\n",
    "\n",
    "palette"
   ]
  },
  {
   "cell_type": "code",
   "execution_count": 9,
   "metadata": {},
   "outputs": [],
   "source": [
    "### General Settings\n",
    "id = 4\n",
    "\n",
    "# General Radar Settings\n",
    "fs_radar = 1953.125"
   ]
  },
  {
   "cell_type": "code",
   "execution_count": 10,
   "metadata": {},
   "outputs": [],
   "source": [
    "dataset = D04MainStudy()"
   ]
  },
  {
   "cell_type": "code",
   "execution_count": 11,
   "metadata": {},
   "outputs": [
    {
     "data": {
      "text/html": [
       "<h4 style=\"margin-bottom: 0.1em;\">D04MainStudy [44 groups/rows]</h3>\n",
       "<div style=\"margin-top: 0em\">\n",
       "<style scoped>\n",
       "    .dataframe tbody tr th:only-of-type {\n",
       "        vertical-align: middle;\n",
       "    }\n",
       "\n",
       "    .dataframe tbody tr th {\n",
       "        vertical-align: top;\n",
       "    }\n",
       "\n",
       "    .dataframe thead th {\n",
       "        text-align: right;\n",
       "    }\n",
       "</style>\n",
       "<table style=\"margin-left: 3em;\">\n",
       "  <thead>\n",
       "    <tr style=\"text-align: right;\">\n",
       "      <th style=\"text-align: center;\"></th>\n",
       "      <th style=\"text-align: center;\">subj_id</th>\n",
       "    </tr>\n",
       "  </thead>\n",
       "  <tbody>\n",
       "    <tr>\n",
       "      <th style=\"text-align: center;\">0</th>\n",
       "      <td style=\"text-align: center; padding-left: 2em; padding-right: 2em;\">01</td>\n",
       "    </tr>\n",
       "    <tr>\n",
       "      <th style=\"text-align: center;\">1</th>\n",
       "      <td style=\"text-align: center; padding-left: 2em; padding-right: 2em;\">02</td>\n",
       "    </tr>\n",
       "    <tr>\n",
       "      <th style=\"text-align: center;\">2</th>\n",
       "      <td style=\"text-align: center; padding-left: 2em; padding-right: 2em;\">03</td>\n",
       "    </tr>\n",
       "    <tr>\n",
       "      <th style=\"text-align: center;\">3</th>\n",
       "      <td style=\"text-align: center; padding-left: 2em; padding-right: 2em;\">04</td>\n",
       "    </tr>\n",
       "    <tr>\n",
       "      <th style=\"text-align: center;\">4</th>\n",
       "      <td style=\"text-align: center; padding-left: 2em; padding-right: 2em;\">05</td>\n",
       "    </tr>\n",
       "    <tr>\n",
       "      <th style=\"text-align: center;\">5</th>\n",
       "      <td style=\"text-align: center; padding-left: 2em; padding-right: 2em;\">06</td>\n",
       "    </tr>\n",
       "    <tr>\n",
       "      <th style=\"text-align: center;\">6</th>\n",
       "      <td style=\"text-align: center; padding-left: 2em; padding-right: 2em;\">07</td>\n",
       "    </tr>\n",
       "    <tr>\n",
       "      <th style=\"text-align: center;\">7</th>\n",
       "      <td style=\"text-align: center; padding-left: 2em; padding-right: 2em;\">08</td>\n",
       "    </tr>\n",
       "    <tr>\n",
       "      <th style=\"text-align: center;\">8</th>\n",
       "      <td style=\"text-align: center; padding-left: 2em; padding-right: 2em;\">09</td>\n",
       "    </tr>\n",
       "    <tr>\n",
       "      <th style=\"text-align: center;\">9</th>\n",
       "      <td style=\"text-align: center; padding-left: 2em; padding-right: 2em;\">10</td>\n",
       "    </tr>\n",
       "    <tr>\n",
       "      <th style=\"text-align: center;\">10</th>\n",
       "      <td style=\"text-align: center; padding-left: 2em; padding-right: 2em;\">11</td>\n",
       "    </tr>\n",
       "    <tr>\n",
       "      <th style=\"text-align: center;\">11</th>\n",
       "      <td style=\"text-align: center; padding-left: 2em; padding-right: 2em;\">12</td>\n",
       "    </tr>\n",
       "    <tr>\n",
       "      <th style=\"text-align: center;\">12</th>\n",
       "      <td style=\"text-align: center; padding-left: 2em; padding-right: 2em;\">13</td>\n",
       "    </tr>\n",
       "    <tr>\n",
       "      <th style=\"text-align: center;\">13</th>\n",
       "      <td style=\"text-align: center; padding-left: 2em; padding-right: 2em;\">14</td>\n",
       "    </tr>\n",
       "    <tr>\n",
       "      <th style=\"text-align: center;\">14</th>\n",
       "      <td style=\"text-align: center; padding-left: 2em; padding-right: 2em;\">15</td>\n",
       "    </tr>\n",
       "    <tr>\n",
       "      <th style=\"text-align: center;\">15</th>\n",
       "      <td style=\"text-align: center; padding-left: 2em; padding-right: 2em;\">16</td>\n",
       "    </tr>\n",
       "    <tr>\n",
       "      <th style=\"text-align: center;\">16</th>\n",
       "      <td style=\"text-align: center; padding-left: 2em; padding-right: 2em;\">17</td>\n",
       "    </tr>\n",
       "    <tr>\n",
       "      <th style=\"text-align: center;\">17</th>\n",
       "      <td style=\"text-align: center; padding-left: 2em; padding-right: 2em;\">18</td>\n",
       "    </tr>\n",
       "    <tr>\n",
       "      <th style=\"text-align: center;\">18</th>\n",
       "      <td style=\"text-align: center; padding-left: 2em; padding-right: 2em;\">19</td>\n",
       "    </tr>\n",
       "    <tr>\n",
       "      <th style=\"text-align: center;\">19</th>\n",
       "      <td style=\"text-align: center; padding-left: 2em; padding-right: 2em;\">20</td>\n",
       "    </tr>\n",
       "    <tr>\n",
       "      <th style=\"text-align: center;\">20</th>\n",
       "      <td style=\"text-align: center; padding-left: 2em; padding-right: 2em;\">21</td>\n",
       "    </tr>\n",
       "    <tr>\n",
       "      <th style=\"text-align: center;\">21</th>\n",
       "      <td style=\"text-align: center; padding-left: 2em; padding-right: 2em;\">22</td>\n",
       "    </tr>\n",
       "    <tr>\n",
       "      <th style=\"text-align: center;\">22</th>\n",
       "      <td style=\"text-align: center; padding-left: 2em; padding-right: 2em;\">23</td>\n",
       "    </tr>\n",
       "    <tr>\n",
       "      <th style=\"text-align: center;\">23</th>\n",
       "      <td style=\"text-align: center; padding-left: 2em; padding-right: 2em;\">24</td>\n",
       "    </tr>\n",
       "    <tr>\n",
       "      <th style=\"text-align: center;\">24</th>\n",
       "      <td style=\"text-align: center; padding-left: 2em; padding-right: 2em;\">25</td>\n",
       "    </tr>\n",
       "    <tr>\n",
       "      <th style=\"text-align: center;\">25</th>\n",
       "      <td style=\"text-align: center; padding-left: 2em; padding-right: 2em;\">26</td>\n",
       "    </tr>\n",
       "    <tr>\n",
       "      <th style=\"text-align: center;\">26</th>\n",
       "      <td style=\"text-align: center; padding-left: 2em; padding-right: 2em;\">27</td>\n",
       "    </tr>\n",
       "    <tr>\n",
       "      <th style=\"text-align: center;\">27</th>\n",
       "      <td style=\"text-align: center; padding-left: 2em; padding-right: 2em;\">28</td>\n",
       "    </tr>\n",
       "    <tr>\n",
       "      <th style=\"text-align: center;\">28</th>\n",
       "      <td style=\"text-align: center; padding-left: 2em; padding-right: 2em;\">29</td>\n",
       "    </tr>\n",
       "    <tr>\n",
       "      <th style=\"text-align: center;\">29</th>\n",
       "      <td style=\"text-align: center; padding-left: 2em; padding-right: 2em;\">30</td>\n",
       "    </tr>\n",
       "    <tr>\n",
       "      <th style=\"text-align: center;\">30</th>\n",
       "      <td style=\"text-align: center; padding-left: 2em; padding-right: 2em;\">31</td>\n",
       "    </tr>\n",
       "    <tr>\n",
       "      <th style=\"text-align: center;\">31</th>\n",
       "      <td style=\"text-align: center; padding-left: 2em; padding-right: 2em;\">32</td>\n",
       "    </tr>\n",
       "    <tr>\n",
       "      <th style=\"text-align: center;\">32</th>\n",
       "      <td style=\"text-align: center; padding-left: 2em; padding-right: 2em;\">33</td>\n",
       "    </tr>\n",
       "    <tr>\n",
       "      <th style=\"text-align: center;\">33</th>\n",
       "      <td style=\"text-align: center; padding-left: 2em; padding-right: 2em;\">34</td>\n",
       "    </tr>\n",
       "    <tr>\n",
       "      <th style=\"text-align: center;\">34</th>\n",
       "      <td style=\"text-align: center; padding-left: 2em; padding-right: 2em;\">35</td>\n",
       "    </tr>\n",
       "    <tr>\n",
       "      <th style=\"text-align: center;\">35</th>\n",
       "      <td style=\"text-align: center; padding-left: 2em; padding-right: 2em;\">36</td>\n",
       "    </tr>\n",
       "    <tr>\n",
       "      <th style=\"text-align: center;\">36</th>\n",
       "      <td style=\"text-align: center; padding-left: 2em; padding-right: 2em;\">37</td>\n",
       "    </tr>\n",
       "    <tr>\n",
       "      <th style=\"text-align: center;\">37</th>\n",
       "      <td style=\"text-align: center; padding-left: 2em; padding-right: 2em;\">38</td>\n",
       "    </tr>\n",
       "    <tr>\n",
       "      <th style=\"text-align: center;\">38</th>\n",
       "      <td style=\"text-align: center; padding-left: 2em; padding-right: 2em;\">39</td>\n",
       "    </tr>\n",
       "    <tr>\n",
       "      <th style=\"text-align: center;\">39</th>\n",
       "      <td style=\"text-align: center; padding-left: 2em; padding-right: 2em;\">40</td>\n",
       "    </tr>\n",
       "    <tr>\n",
       "      <th style=\"text-align: center;\">40</th>\n",
       "      <td style=\"text-align: center; padding-left: 2em; padding-right: 2em;\">41</td>\n",
       "    </tr>\n",
       "    <tr>\n",
       "      <th style=\"text-align: center;\">41</th>\n",
       "      <td style=\"text-align: center; padding-left: 2em; padding-right: 2em;\">42</td>\n",
       "    </tr>\n",
       "    <tr>\n",
       "      <th style=\"text-align: center;\">42</th>\n",
       "      <td style=\"text-align: center; padding-left: 2em; padding-right: 2em;\">43</td>\n",
       "    </tr>\n",
       "    <tr>\n",
       "      <th style=\"text-align: center;\">43</th>\n",
       "      <td style=\"text-align: center; padding-left: 2em; padding-right: 2em;\">44</td>\n",
       "    </tr>\n",
       "  </tbody>\n",
       "</table>\n",
       "</div>"
      ],
      "text/plain": [
       "D04MainStudy [44 groups/rows]\n",
       "\n",
       "      subj_id\n",
       "   0       01\n",
       "   1       02\n",
       "   2       03\n",
       "   3       04\n",
       "   4       05\n",
       "   5       06\n",
       "   6       07\n",
       "   7       08\n",
       "   8       09\n",
       "   9       10\n",
       "   10      11\n",
       "   11      12\n",
       "   12      13\n",
       "   13      14\n",
       "   14      15\n",
       "   15      16\n",
       "   16      17\n",
       "   17      18\n",
       "   18      19\n",
       "   19      20\n",
       "   20      21\n",
       "   21      22\n",
       "   22      23\n",
       "   23      24\n",
       "   24      25\n",
       "   25      26\n",
       "   26      27\n",
       "   27      28\n",
       "   28      29\n",
       "   29      30\n",
       "   30      31\n",
       "   31      32\n",
       "   32      33\n",
       "   33      34\n",
       "   34      35\n",
       "   35      36\n",
       "   36      37\n",
       "   37      38\n",
       "   38      39\n",
       "   39      40\n",
       "   40      41\n",
       "   41      42\n",
       "   42      43\n",
       "   43      44"
      ]
     },
     "execution_count": 11,
     "metadata": {},
     "output_type": "execute_result"
    }
   ],
   "source": [
    "dataset"
   ]
  },
  {
   "cell_type": "code",
   "execution_count": 12,
   "metadata": {},
   "outputs": [
    {
     "name": "stdout",
     "output_type": "stream",
     "text": [
      "Prepare SyncedDataset\n",
      "Sync beginning of m-sequence\n"
     ]
    },
    {
     "name": "stderr",
     "output_type": "stream",
     "text": [
      "/Users/danielkrauss/code/Empkins/empkins-io/empkins_io/sync/_sync.py:326: SettingWithCopyWarning: \n",
      "A value is trying to be set on a copy of a slice from a DataFrame.\n",
      "Try using .loc[row_indexer,col_indexer] = value instead\n",
      "\n",
      "See the caveats in the documentation: https://pandas.pydata.org/pandas-docs/stable/user_guide/indexing.html#returning-a-view-versus-a-copy\n",
      "  data_secondary.loc[:, sync_channel_secondary] = self._binarize_signal(\n"
     ]
    },
    {
     "name": "stdout",
     "output_type": "stream",
     "text": [
      "-10\n"
     ]
    },
    {
     "name": "stderr",
     "output_type": "stream",
     "text": [
      "/Users/danielkrauss/code/Empkins/empkins-io/empkins_io/sync/_sync.py:326: SettingWithCopyWarning: \n",
      "A value is trying to be set on a copy of a slice from a DataFrame.\n",
      "Try using .loc[row_indexer,col_indexer] = value instead\n",
      "\n",
      "See the caveats in the documentation: https://pandas.pydata.org/pandas-docs/stable/user_guide/indexing.html#returning-a-view-versus-a-copy\n",
      "  data_secondary.loc[:, sync_channel_secondary] = self._binarize_signal(\n"
     ]
    },
    {
     "name": "stdout",
     "output_type": "stream",
     "text": [
      "32\n"
     ]
    },
    {
     "name": "stderr",
     "output_type": "stream",
     "text": [
      "/Users/danielkrauss/code/Empkins/empkins-io/empkins_io/sync/_sync.py:326: SettingWithCopyWarning: \n",
      "A value is trying to be set on a copy of a slice from a DataFrame.\n",
      "Try using .loc[row_indexer,col_indexer] = value instead\n",
      "\n",
      "See the caveats in the documentation: https://pandas.pydata.org/pandas-docs/stable/user_guide/indexing.html#returning-a-view-versus-a-copy\n",
      "  data_secondary.loc[:, sync_channel_secondary] = self._binarize_signal(\n"
     ]
    },
    {
     "name": "stdout",
     "output_type": "stream",
     "text": [
      "27\n",
      "Find shift at the end of the m-sequence\n",
      "Shift: radar_2_aligned_ 563\n",
      "Shift: radar_3_aligned_ 243\n",
      "Shift: radar_4_aligned_ 45\n",
      "Resample sample-wise to get equal length\n",
      "shortest:75774917\n",
      "75774917\n",
      "75775480\n",
      "75775160\n",
      "75774962\n"
     ]
    }
   ],
   "source": [
    "radar_data = dataset[id].radar_data.data_as_df(index='local_datetime', add_sync_out=True)\n",
    "synced_radar = dataset[id].sync_radar(radar_data)"
   ]
  },
  {
   "cell_type": "code",
   "execution_count": 17,
   "metadata": {},
   "outputs": [],
   "source": [
    "df_1 = synced_radar[\"radar_1_resampled_\"]\n",
    "df_2 = synced_radar[\"radar_2_resampled_\"]\n",
    "df_3 = synced_radar[\"radar_3_resampled_\"]\n",
    "df_4 = synced_radar[\"radar_4_resampled_\"]"
   ]
  },
  {
   "cell_type": "code",
   "execution_count": 22,
   "metadata": {},
   "outputs": [
    {
     "name": "stderr",
     "output_type": "stream",
     "text": [
      "/Users/danielkrauss/code/Empkins/sleep-analysis/sleep_analysis/preprocessing/d04_main/movement.py:85: SettingWithCopyWarning: \n",
      "A value is trying to be set on a copy of a slice from a DataFrame.\n",
      "Try using .loc[row_indexer,col_indexer] = value instead\n",
      "\n",
      "See the caveats in the documentation: https://pandas.pydata.org/pandas-docs/stable/user_guide/indexing.html#returning-a-view-versus-a-copy\n",
      "  df.loc[:, 'MA'] = padded[window_size // 2:len(padded) - window_size // 2]\n",
      "/Users/danielkrauss/code/Empkins/sleep-analysis/sleep_analysis/preprocessing/d04_main/movement.py:86: SettingWithCopyWarning: \n",
      "A value is trying to be set on a copy of a slice from a DataFrame.\n",
      "Try using .loc[row_indexer,col_indexer] = value instead\n",
      "\n",
      "See the caveats in the documentation: https://pandas.pydata.org/pandas-docs/stable/user_guide/indexing.html#returning-a-view-versus-a-copy\n",
      "  df['MA'] = df['MA'].rolling(window=window_size, center=True, min_periods=1).mean()\n",
      "/Users/danielkrauss/code/Empkins/sleep-analysis/sleep_analysis/preprocessing/d04_main/movement.py:85: SettingWithCopyWarning: \n",
      "A value is trying to be set on a copy of a slice from a DataFrame.\n",
      "Try using .loc[row_indexer,col_indexer] = value instead\n",
      "\n",
      "See the caveats in the documentation: https://pandas.pydata.org/pandas-docs/stable/user_guide/indexing.html#returning-a-view-versus-a-copy\n",
      "  df.loc[:, 'MA'] = padded[window_size // 2:len(padded) - window_size // 2]\n",
      "/Users/danielkrauss/code/Empkins/sleep-analysis/sleep_analysis/preprocessing/d04_main/movement.py:86: SettingWithCopyWarning: \n",
      "A value is trying to be set on a copy of a slice from a DataFrame.\n",
      "Try using .loc[row_indexer,col_indexer] = value instead\n",
      "\n",
      "See the caveats in the documentation: https://pandas.pydata.org/pandas-docs/stable/user_guide/indexing.html#returning-a-view-versus-a-copy\n",
      "  df['MA'] = df['MA'].rolling(window=window_size, center=True, min_periods=1).mean()\n",
      "/Users/danielkrauss/code/Empkins/sleep-analysis/sleep_analysis/preprocessing/d04_main/movement.py:85: SettingWithCopyWarning: \n",
      "A value is trying to be set on a copy of a slice from a DataFrame.\n",
      "Try using .loc[row_indexer,col_indexer] = value instead\n",
      "\n",
      "See the caveats in the documentation: https://pandas.pydata.org/pandas-docs/stable/user_guide/indexing.html#returning-a-view-versus-a-copy\n",
      "  df.loc[:, 'MA'] = padded[window_size // 2:len(padded) - window_size // 2]\n",
      "/Users/danielkrauss/code/Empkins/sleep-analysis/sleep_analysis/preprocessing/d04_main/movement.py:86: SettingWithCopyWarning: \n",
      "A value is trying to be set on a copy of a slice from a DataFrame.\n",
      "Try using .loc[row_indexer,col_indexer] = value instead\n",
      "\n",
      "See the caveats in the documentation: https://pandas.pydata.org/pandas-docs/stable/user_guide/indexing.html#returning-a-view-versus-a-copy\n",
      "  df['MA'] = df['MA'].rolling(window=window_size, center=True, min_periods=1).mean()\n",
      "/Users/danielkrauss/code/Empkins/sleep-analysis/sleep_analysis/preprocessing/d04_main/movement.py:85: SettingWithCopyWarning: \n",
      "A value is trying to be set on a copy of a slice from a DataFrame.\n",
      "Try using .loc[row_indexer,col_indexer] = value instead\n",
      "\n",
      "See the caveats in the documentation: https://pandas.pydata.org/pandas-docs/stable/user_guide/indexing.html#returning-a-view-versus-a-copy\n",
      "  df.loc[:, 'MA'] = padded[window_size // 2:len(padded) - window_size // 2]\n",
      "/Users/danielkrauss/code/Empkins/sleep-analysis/sleep_analysis/preprocessing/d04_main/movement.py:86: SettingWithCopyWarning: \n",
      "A value is trying to be set on a copy of a slice from a DataFrame.\n",
      "Try using .loc[row_indexer,col_indexer] = value instead\n",
      "\n",
      "See the caveats in the documentation: https://pandas.pydata.org/pandas-docs/stable/user_guide/indexing.html#returning-a-view-versus-a-copy\n",
      "  df['MA'] = df['MA'].rolling(window=window_size, center=True, min_periods=1).mean()\n"
     ]
    }
   ],
   "source": [
    "movement_1 = preprocess_movement_df(df_1)\n",
    "movement_2 = preprocess_movement_df(df_2)\n",
    "movement_3 = preprocess_movement_df(df_3)\n",
    "movement_4 = preprocess_movement_df(df_4)"
   ]
  },
  {
   "cell_type": "code",
   "execution_count": 26,
   "metadata": {},
   "outputs": [
    {
     "name": "stdout",
     "output_type": "stream",
     "text": [
      "Extracting EDF parameters from /Users/danielkrauss/code/Empkins/Data/empkins_contactless_sleep_lab/Vp_05/psg/Vp_05.edf...\n",
      "EDF file detected\n",
      "Setting channel info structure...\n",
      "Creating raw.info structure...\n"
     ]
    }
   ],
   "source": [
    "actigraphy = dataset[id].activity_data.data_as_df(index='local_datetime')\n",
    "\n",
    "actigraphy.index = actigraphy.index.floor(\"30s\")\n",
    "actigraphy = actigraphy.groupby(pd.Grouper(freq='30s', origin='epoch')).mean()\n",
    "actigraphy = _threshold(actigraphy, channel=\"Activity\", threshold=0.05)\n",
    "actigraphy = _normalize(actigraphy, channel=\"threshold\")"
   ]
  },
  {
   "cell_type": "code",
   "execution_count": 48,
   "metadata": {},
   "outputs": [],
   "source": [
    "# Create dictionary of sub-dataframes\n",
    "radar_dict = {}\n",
    "for radar in ['radar_1_resampled_', 'radar_2_resampled_', 'radar_3_resampled_', 'radar_4_resampled_']:\n",
    "    radar_dict[radar] = synced_radar[radar]"
   ]
  },
  {
   "cell_type": "code",
   "execution_count": 50,
   "metadata": {},
   "outputs": [],
   "source": [
    "movement_df = preprocess_movement(radar_dict)"
   ]
  },
  {
   "cell_type": "code",
   "execution_count": 51,
   "metadata": {},
   "outputs": [
    {
     "data": {
      "text/html": [
       "<div>\n",
       "<style scoped>\n",
       "    .dataframe tbody tr th:only-of-type {\n",
       "        vertical-align: middle;\n",
       "    }\n",
       "\n",
       "    .dataframe tbody tr th {\n",
       "        vertical-align: top;\n",
       "    }\n",
       "\n",
       "    .dataframe thead th {\n",
       "        text-align: right;\n",
       "    }\n",
       "</style>\n",
       "<table border=\"1\" class=\"dataframe\">\n",
       "  <thead>\n",
       "    <tr style=\"text-align: right;\">\n",
       "      <th></th>\n",
       "      <th>movement</th>\n",
       "    </tr>\n",
       "    <tr>\n",
       "      <th>date (Europe/Berlin)</th>\n",
       "      <th></th>\n",
       "    </tr>\n",
       "  </thead>\n",
       "  <tbody>\n",
       "    <tr>\n",
       "      <th>2023-04-18 21:27:30+02:00</th>\n",
       "      <td>0.0</td>\n",
       "    </tr>\n",
       "    <tr>\n",
       "      <th>2023-04-18 21:28:00+02:00</th>\n",
       "      <td>0.0</td>\n",
       "    </tr>\n",
       "    <tr>\n",
       "      <th>2023-04-18 21:28:30+02:00</th>\n",
       "      <td>0.0</td>\n",
       "    </tr>\n",
       "    <tr>\n",
       "      <th>2023-04-18 21:29:00+02:00</th>\n",
       "      <td>0.0</td>\n",
       "    </tr>\n",
       "    <tr>\n",
       "      <th>2023-04-18 21:29:30+02:00</th>\n",
       "      <td>0.0</td>\n",
       "    </tr>\n",
       "    <tr>\n",
       "      <th>...</th>\n",
       "      <td>...</td>\n",
       "    </tr>\n",
       "    <tr>\n",
       "      <th>2023-04-19 08:12:00+02:00</th>\n",
       "      <td>0.0</td>\n",
       "    </tr>\n",
       "    <tr>\n",
       "      <th>2023-04-19 08:12:30+02:00</th>\n",
       "      <td>0.0</td>\n",
       "    </tr>\n",
       "    <tr>\n",
       "      <th>2023-04-19 08:13:00+02:00</th>\n",
       "      <td>0.0</td>\n",
       "    </tr>\n",
       "    <tr>\n",
       "      <th>2023-04-19 08:13:30+02:00</th>\n",
       "      <td>0.0</td>\n",
       "    </tr>\n",
       "    <tr>\n",
       "      <th>2023-04-19 08:14:00+02:00</th>\n",
       "      <td>0.0</td>\n",
       "    </tr>\n",
       "  </tbody>\n",
       "</table>\n",
       "<p>1294 rows × 1 columns</p>\n",
       "</div>"
      ],
      "text/plain": [
       "                           movement\n",
       "date (Europe/Berlin)               \n",
       "2023-04-18 21:27:30+02:00       0.0\n",
       "2023-04-18 21:28:00+02:00       0.0\n",
       "2023-04-18 21:28:30+02:00       0.0\n",
       "2023-04-18 21:29:00+02:00       0.0\n",
       "2023-04-18 21:29:30+02:00       0.0\n",
       "...                             ...\n",
       "2023-04-19 08:12:00+02:00       0.0\n",
       "2023-04-19 08:12:30+02:00       0.0\n",
       "2023-04-19 08:13:00+02:00       0.0\n",
       "2023-04-19 08:13:30+02:00       0.0\n",
       "2023-04-19 08:14:00+02:00       0.0\n",
       "\n",
       "[1294 rows x 1 columns]"
      ]
     },
     "execution_count": 51,
     "metadata": {},
     "output_type": "execute_result"
    }
   ],
   "source": [
    "movement_df"
   ]
  },
  {
   "cell_type": "code",
   "execution_count": 52,
   "metadata": {},
   "outputs": [
    {
     "data": {
      "text/plain": [
       "[<matplotlib.lines.Line2D at 0x5d0f15ff0>]"
      ]
     },
     "execution_count": 52,
     "metadata": {},
     "output_type": "execute_result"
    },
    {
     "data": {
      "application/vnd.jupyter.widget-view+json": {
       "model_id": "dc157c6089ba4063920171d18a928fd1",
       "version_major": 2,
       "version_minor": 0
      },
      "image/png": "[encoded data removed]",
      "text/html": [
       "\n",
       "            <div style=\"display: inline-block;\">\n",
       "                <div class=\"jupyter-widgets widget-label\" style=\"text-align: center;\">\n",
       "                    Figure\n",
       "                </div>\n",
       "                <img src='data:image/png;base64,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' width=1000.0/>\n",
       "            </div>\n",
       "        "
      ],
      "text/plain": [
       "Canvas(toolbar=Toolbar(toolitems=[('Home', 'Reset original view', 'home', 'home'), ('Back', 'Back to previous …"
      ]
     },
     "metadata": {},
     "output_type": "display_data"
    }
   ],
   "source": [
    "fig, ax = plt.subplots(6, sharex=True)\n",
    "ax[0].plot(movement_1[\"grouped\"])\n",
    "ax[1].plot(movement_2[\"grouped\"])\n",
    "ax[2].plot(movement_3[\"grouped\"])\n",
    "ax[3].plot(movement_4[\"grouped\"])\n",
    "ax[4].plot(movement_df[\"movement\"])\n",
    "ax[5].plot(actigraphy[\"NORM\"])"
   ]
  },
  {
   "cell_type": "code",
   "execution_count": null,
   "metadata": {},
   "outputs": [],
   "source": []
  }
 ],
 "metadata": {
  "kernelspec": {
   "display_name": ".venv",
   "language": "python",
   "name": "python3"
  },
  "language_info": {
   "codemirror_mode": {
    "name": "ipython",
    "version": 3
   },
   "file_extension": ".py",
   "mimetype": "text/x-python",
   "name": "python",
   "nbconvert_exporter": "python",
   "pygments_lexer": "ipython3",
   "version": "3.10.10"
  }
 },
 "nbformat": 4,
 "nbformat_minor": 2
}

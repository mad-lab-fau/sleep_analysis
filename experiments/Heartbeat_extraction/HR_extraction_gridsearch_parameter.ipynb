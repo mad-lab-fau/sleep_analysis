{
 "cells": [
  {
   "cell_type": "code",
   "execution_count": 1,
   "id": "4079d7bc-6f9d-4da6-bf13-167254a68957",
   "metadata": {
    "tags": []
   },
   "outputs": [],
   "source": [
    "from sleep_analysis.datasets.d04_main_dataset import D04MainStudy\n",
    "import numpy as np\n",
    "import pandas as pd\n",
    "import os"
   ]
  },
  {
   "cell_type": "code",
   "execution_count": 2,
   "id": "e1f2e2c4-ecd8-466f-83dc-a3c322b943ee",
   "metadata": {
    "tags": []
   },
   "outputs": [],
   "source": [
    "from empkins_io.sync import SyncedDataset\n",
    "\n",
    "import matplotlib.pyplot as plt\n",
    "import seaborn as sns\n",
    "\n",
    "%load_ext autoreload\n",
    "%autoreload 2"
   ]
  },
  {
   "cell_type": "code",
   "execution_count": 3,
   "id": "98aafb84-7da8-4c8d-930a-2c9c39ee5efa",
   "metadata": {
    "tags": []
   },
   "outputs": [],
   "source": [
    "from biopsykit.signals.ecg import EcgProcessor"
   ]
  },
  {
   "cell_type": "code",
   "execution_count": 4,
   "id": "80bcc675-b412-49cc-967e-b69fe547d02a",
   "metadata": {
    "tags": []
   },
   "outputs": [],
   "source": [
    "from empkins_micro.emrad.radar import get_rpeaks, get_peak_probabilities"
   ]
  },
  {
   "cell_type": "code",
   "execution_count": 5,
   "id": "e286d454-7d49-47e3-aac9-196a7ee05078",
   "metadata": {
    "tags": []
   },
   "outputs": [],
   "source": [
    "from fau_colors import cmaps, register_fausans_font"
   ]
  },
  {
   "cell_type": "code",
   "execution_count": 6,
   "id": "cf9a125e-c148-4ecf-95c6-4b2bf6761921",
   "metadata": {},
   "outputs": [],
   "source": [
    "%matplotlib widget"
   ]
  },
  {
   "cell_type": "code",
   "execution_count": 7,
   "id": "697a67f5-9c42-438d-919f-2a8a8d8ac35d",
   "metadata": {
    "tags": []
   },
   "outputs": [
    {
     "data": {
      "text/html": [
       "<svg  width=\"330\" height=\"55\"><rect x=\"0\" y=\"0\" width=\"55\" height=\"55\" style=\"fill:#002f6c;stroke-width:2;stroke:rgb(255,255,255)\"/><rect x=\"55\" y=\"0\" width=\"55\" height=\"55\" style=\"fill:#779fb5;stroke-width:2;stroke:rgb(255,255,255)\"/><rect x=\"110\" y=\"0\" width=\"55\" height=\"55\" style=\"fill:#ffb81c;stroke-width:2;stroke:rgb(255,255,255)\"/><rect x=\"165\" y=\"0\" width=\"55\" height=\"55\" style=\"fill:#00a3e0;stroke-width:2;stroke:rgb(255,255,255)\"/><rect x=\"220\" y=\"0\" width=\"55\" height=\"55\" style=\"fill:#43b02a;stroke-width:2;stroke:rgb(255,255,255)\"/><rect x=\"275\" y=\"0\" width=\"55\" height=\"55\" style=\"fill:#c8102e;stroke-width:2;stroke:rgb(255,255,255)\"/></svg>"
      ],
      "text/plain": [
       "[(0.0, 0.1843137254901961, 0.4235294117647059),\n",
       " (0.4666666666666667, 0.6235294117647059, 0.7098039215686275),\n",
       " (1.0, 0.7215686274509804, 0.10980392156862745),\n",
       " (0.0, 0.6392156862745098, 0.8784313725490196),\n",
       " (0.2627450980392157, 0.6901960784313725, 0.16470588235294117),\n",
       " (0.7843137254901961, 0.06274509803921569, 0.1803921568627451)]"
      ]
     },
     "execution_count": 7,
     "metadata": {},
     "output_type": "execute_result"
    }
   ],
   "source": [
    "register_fausans_font()\n",
    "plt.close(\"all\")\n",
    "\n",
    "palette = sns.color_palette(cmaps.faculties)\n",
    "sns.set_theme(context=\"notebook\", style=\"ticks\", font=\"sans-serif\", palette=palette)\n",
    "\n",
    "plt.rcParams[\"figure.figsize\"] = (10, 5)\n",
    "plt.rcParams[\"pdf.fonttype\"] = 42\n",
    "plt.rcParams[\"mathtext.default\"] = \"regular\"\n",
    "\n",
    "palette"
   ]
  },
  {
   "cell_type": "code",
   "execution_count": 8,
   "id": "1b59b7c0-0d04-44d4-a3cb-bd3a796038a2",
   "metadata": {
    "tags": []
   },
   "outputs": [],
   "source": [
    "### General Settings\n",
    "\n",
    "\n",
    "# General Radar Settings\n",
    "fs_radar = 1953.125\n",
    "window_size = 120\n",
    "\n",
    "# General PSG settings\n",
    "clean_method = \"biosppy\"\n",
    "peak_method = \"neurokit\""
   ]
  },
  {
   "cell_type": "code",
   "execution_count": 9,
   "id": "3d2e36df-cf87-4ff9-82b4-4c58e500d018",
   "metadata": {
    "tags": []
   },
   "outputs": [],
   "source": [
    "def cut_signals(hr_ecg, hr_radar):\n",
    "    start = max(hr_ecg.index[0], hr_radar.index[0])\n",
    "    end = min(hr_ecg.index[-1], hr_radar.index[-1])\n",
    "    display(start)\n",
    "    display(end)\n",
    "    return hr_ecg[start:end], hr_radar[start:end]"
   ]
  },
  {
   "cell_type": "code",
   "execution_count": 10,
   "id": "46d6d706-c9b2-4484-aff7-a0c93ae1602a",
   "metadata": {},
   "outputs": [],
   "source": [
    "dataset = D04MainStudy()"
   ]
  },
  {
   "cell_type": "code",
   "execution_count": 1,
   "id": "82e4bab9-ffd5-4b61-af2e-f904695dfdca",
   "metadata": {},
   "outputs": [
    {
     "ename": "NameError",
     "evalue": "name 'dataset' is not defined",
     "output_type": "error",
     "traceback": [
      "\u001b[0;31m---------------------------------------------------------------------------\u001b[0m",
      "\u001b[0;31mNameError\u001b[0m                                 Traceback (most recent call last)",
      "\u001b[0;32m/var/folders/kr/z18bsf7n4xsf9cd__hgnn7lh0000gn/T/ipykernel_1717/48412968.py\u001b[0m in \u001b[0;36m<cell line: 1>\u001b[0;34m()\u001b[0m\n\u001b[0;32m----> 1\u001b[0;31m \u001b[0mdataset\u001b[0m\u001b[0;34m\u001b[0m\u001b[0;34m\u001b[0m\u001b[0m\n\u001b[0m",
      "\u001b[0;31mNameError\u001b[0m: name 'dataset' is not defined"
     ]
    }
   ],
   "source": [
    "dataset"
   ]
  },
  {
   "cell_type": "code",
   "execution_count": 12,
   "id": "71381ba6-12c8-49b4-b961-3ac9930f51b7",
   "metadata": {
    "scrolled": true,
    "tags": []
   },
   "outputs": [],
   "source": [
    "def process_radar(synced_radar):\n",
    "    print(\"-------------------------------------------------\")\n",
    "    print(\"Processing participant \" + subj.index[\"subj_id\"][0])\n",
    "    print(\"-------------------------------------------------\")\n",
    "\n",
    "    \n",
    "    print(\"Radar 1\")\n",
    "    lstm_output_1 = get_peak_probabilities(synced_radar[\"radar_1_resampled_\"][[\"I\", \"Q\"]], fs_radar=fs_radar, window_size=window_size)\n",
    "    print(\"Radar 2\")\n",
    "    lstm_output_2 = get_peak_probabilities(synced_radar[\"radar_2_resampled_\"][[\"I\", \"Q\"]], fs_radar=fs_radar, window_size=window_size)\n",
    "    print(\"Radar 3\")\n",
    "    lstm_output_3 = get_peak_probabilities(synced_radar[\"radar_3_resampled_\"][[\"I\", \"Q\"]], fs_radar=fs_radar, window_size=window_size)\n",
    "    print(\"Radar 4\")\n",
    "    lstm_output_4 = get_peak_probabilities(synced_radar[\"radar_4_resampled_\"][[\"I\", \"Q\"]], fs_radar=fs_radar, window_size=window_size)\n",
    "\n",
    "    return {\"lstm_output_1\" : lstm_output_1, \"lstm_output_2\" : lstm_output_2, \"lstm_output_3\" : lstm_output_3, \"lstm_output_4\" : lstm_output_4}\n",
    "\n",
    "    "
   ]
  },
  {
   "cell_type": "code",
   "execution_count": 13,
   "id": "48cab4d8-4389-46c6-982a-fcf01e76802b",
   "metadata": {},
   "outputs": [],
   "source": [
    "from biopsykit.utils.exceptions import EcgProcessingError"
   ]
  },
  {
   "cell_type": "code",
   "execution_count": 14,
   "id": "f7fc4aca-fc02-412c-b15c-31281d80fb56",
   "metadata": {},
   "outputs": [],
   "source": [
    "def get_MAE_results(probability_dict, hr_ecg_10s, threshold_list):\n",
    "    MAE_results = {}\n",
    "    for threshold in threshold_list:\n",
    "        try:\n",
    "            r_peaks_radar, lstm_probability = get_rpeaks(probability_dict, fs_radar=fs_radar, outlier_correction = True, threshold=threshold)\n",
    "        except EcgProcessingError:\n",
    "            MAE_results[threshold] = np.nan\n",
    "            continue\n",
    "            \n",
    "        hr_radar = pd.DataFrame({\"Heart_Rate\": 60 / r_peaks_radar[\"RR_Interval\"]})\n",
    "        hr_radar.index = hr_radar.index.floor(\"10s\")\n",
    "        hr_radar_10s = hr_radar.groupby(\"date (Europe/Berlin)\").mean()\n",
    "        hr_radar_10s = hr_radar_10s.interpolate().rolling(20, center = True, min_periods=1).mean()\n",
    "        \n",
    "        hr_ecg_10s, hr_radar_10s = cut_signals(hr_ecg_10s, hr_radar_10s)\n",
    "        \n",
    "        MAE = abs(hr_ecg_10s - hr_radar_10s).mean()\n",
    "        MAE_results[threshold] = MAE\n",
    "    \n",
    "    return MAE_results, lstm_probability"
   ]
  },
  {
   "cell_type": "code",
   "execution_count": 15,
   "id": "cedfdb08-1a79-4bb1-b27d-3f5b77f51483",
   "metadata": {},
   "outputs": [],
   "source": [
    "def get_hr_ecg(subj):\n",
    "    ecg_data = subj.ecg_data.data_as_df(index=\"local_datetime\")[[\"ECG II\"]]\n",
    "    ecg_data = ecg_data.rename(columns={\"ECG II\":\"ecg\"})\n",
    "    ep = EcgProcessor(ecg_data, 256)\n",
    "    ep.ecg_process(outlier_correction=None, clean_method = clean_method, peak_mathod=peak_method)\n",
    "    hr_ecg = ep.heart_rate[\"Data\"]\n",
    "    hr_ecg.index = hr_ecg.index.floor(\"10s\")\n",
    "    hr_ecg_10s = hr_ecg.groupby(\"date (Europe/Berlin)\").mean()\n",
    "    hr_ecg_10s = hr_ecg_10s.rolling(20, center=True, min_periods=1).mean()\n",
    "\n",
    "    return hr_ecg_10s\n"
   ]
  },
  {
   "cell_type": "code",
   "execution_count": 16,
   "id": "c537637b-84d9-491e-acd6-7dc03015d97d",
   "metadata": {
    "scrolled": true,
    "tags": []
   },
   "outputs": [],
   "source": [
    "threshold_list = [0.050, 0.075, 0.1, 0.125, 0.150, 0.175, 0.200, 0.225, 0.250, 0.255, 0.260, 0.265, 0.270, 0.275, 0.280, 0.285, 0.290, 0.295, 0.300, 0.325, 0.350, 0.375, 0.400]\n",
    "id_list = [\"01\", \"02\", \"03\", \"04\"]#, \"05\", \"06\", \"07\", \"10\", \"11\", \"12\", \"14\", \"16\", \"18\", \"19\",\"20\",\"21\",\"22\",\"24\", \"25\", \"26\", \"27\", \"28\", \"29\", \"31\", \"32\", \"36\", \"37\", \"38\", \"41\", \"42\", \"43\", \"44\"]"
   ]
  },
  {
   "cell_type": "code",
   "execution_count": null,
   "id": "c160d3a8-1db9-4ec1-90bc-880af36e09f7",
   "metadata": {
    "scrolled": true
   },
   "outputs": [
    {
     "name": "stdout",
     "output_type": "stream",
     "text": [
      "Prepare SyncedDataset\n",
      "Sync beginning of m-sequence\n"
     ]
    },
    {
     "name": "stderr",
     "output_type": "stream",
     "text": [
      "/Users/danielkrauss/code/Empkins/empkins-io/empkins_io/sync/_sync.py:325: SettingWithCopyWarning: \n",
      "A value is trying to be set on a copy of a slice from a DataFrame.\n",
      "Try using .loc[row_indexer,col_indexer] = value instead\n",
      "\n",
      "See the caveats in the documentation: https://pandas.pydata.org/pandas-docs/stable/user_guide/indexing.html#returning-a-view-versus-a-copy\n",
      "  data_secondary.loc[:, sync_channel_secondary] = self._binarize_signal(\n"
     ]
    },
    {
     "name": "stdout",
     "output_type": "stream",
     "text": [
      "-4\n"
     ]
    },
    {
     "name": "stderr",
     "output_type": "stream",
     "text": [
      "/Users/danielkrauss/code/Empkins/empkins-io/empkins_io/sync/_sync.py:325: SettingWithCopyWarning: \n",
      "A value is trying to be set on a copy of a slice from a DataFrame.\n",
      "Try using .loc[row_indexer,col_indexer] = value instead\n",
      "\n",
      "See the caveats in the documentation: https://pandas.pydata.org/pandas-docs/stable/user_guide/indexing.html#returning-a-view-versus-a-copy\n",
      "  data_secondary.loc[:, sync_channel_secondary] = self._binarize_signal(\n"
     ]
    },
    {
     "name": "stdout",
     "output_type": "stream",
     "text": [
      "-6\n"
     ]
    },
    {
     "name": "stderr",
     "output_type": "stream",
     "text": [
      "/Users/danielkrauss/code/Empkins/empkins-io/empkins_io/sync/_sync.py:325: SettingWithCopyWarning: \n",
      "A value is trying to be set on a copy of a slice from a DataFrame.\n",
      "Try using .loc[row_indexer,col_indexer] = value instead\n",
      "\n",
      "See the caveats in the documentation: https://pandas.pydata.org/pandas-docs/stable/user_guide/indexing.html#returning-a-view-versus-a-copy\n",
      "  data_secondary.loc[:, sync_channel_secondary] = self._binarize_signal(\n"
     ]
    },
    {
     "name": "stdout",
     "output_type": "stream",
     "text": [
      "-30\n",
      "Find shift at the end of the m-sequence\n",
      "Shift: rad2_aligned_ 449\n",
      "Shift: rad3_aligned_ 179\n",
      "Shift: rad4_aligned_ 31\n",
      "Resample sample-wise to get equal length\n"
     ]
    }
   ],
   "source": [
    "subj_wise_MAE = {}\n",
    "for subj in dataset:\n",
    "\n",
    "    if str(subj.index[\"subj_id\"][0]) not in id_list:\n",
    "        continue\n",
    "\n",
    "    file_path = \"MAE_gridsearch_subj_\" + str(subj.index[\"subj_id\"][0]) + \".csv\"\n",
    "    \n",
    "    # Check if the file exists\n",
    "    file_exists = os.path.isfile(file_path)\n",
    "    if file_exists:\n",
    "        print(\"File for subj \" + str(subj.index[\"subj_id\"][0]) +  \" already existis ... skip!\")\n",
    "        continue\n",
    "\n",
    "    radar_data = subj.radar_data.data_as_df(index=\"local_datetime\", add_sync_out=True)\n",
    "    synced_radar = subj.sync_radar(radar_data)\n",
    "\n",
    "    probability_dict = process_radar(synced_radar)\n",
    "\n",
    "    hr_ecg_10s = get_hr_ecg(subj)\n",
    "    \n",
    "    MAE_dict, lstm_probabiliy = get_MAE_results(probability_dict, hr_ecg_10s, threshold_list)\n",
    "\n",
    "    print(\"MAE of subj \" + str(subj.index[\"subj_id\"][0]))\n",
    "    print(MAE_dict)\n",
    "\n",
    "    pd.DataFrame(MAE_dict).to_csv(\"MAE_gridsearch_subj_120_\" + subj.index[\"subj_id\"][0] + \".csv\")\n",
    "    \n",
    "    subj_wise_MAE[subj] = MAE_dict\n",
    "    "
   ]
  },
  {
   "cell_type": "code",
   "execution_count": null,
   "id": "7d7d10e5-59f4-49a1-bfc4-5a95f27bee4d",
   "metadata": {},
   "outputs": [],
   "source": [
    "subj_wise_MAE"
   ]
  },
  {
   "cell_type": "code",
   "execution_count": null,
   "id": "5fdf1727-6ae7-4327-9ded-67da389f1e6d",
   "metadata": {},
   "outputs": [],
   "source": [
    "MAE_dict"
   ]
  },
  {
   "cell_type": "code",
   "execution_count": null,
   "id": "c74f40b5-17e3-455e-b0cd-0b43bab1c380",
   "metadata": {},
   "outputs": [],
   "source": []
  },
  {
   "cell_type": "code",
   "execution_count": null,
   "id": "f703d3f8-db88-4ed2-bcfa-e52d6591071d",
   "metadata": {},
   "outputs": [],
   "source": [
    "MAE_dict = get_MAE_results(probability_dict, hr_ecg_10s, threshold_list)\n",
    "\n",
    "print(\"MAE of subj \" + str(subj.index[\"subj_id\"][0]))\n",
    "print(MAE_dict)"
   ]
  },
  {
   "cell_type": "code",
   "execution_count": null,
   "id": "e84cfadf-7288-4882-b4f9-3d4ba05ebf3f",
   "metadata": {},
   "outputs": [],
   "source": [
    "pd.DataFrame(MAE_dict).T"
   ]
  },
  {
   "cell_type": "code",
   "execution_count": null,
   "id": "2fc1cf1f-6e3b-4b42-85a1-357c0098df1c",
   "metadata": {},
   "outputs": [],
   "source": []
  }
 ],
 "metadata": {
  "kernelspec": {
   "display_name": "sleep-analysis",
   "language": "python",
   "name": "sleep-analysis"
  },
  "language_info": {
   "codemirror_mode": {
    "name": "ipython",
    "version": 3
   },
   "file_extension": ".py",
   "mimetype": "text/x-python",
   "name": "python",
   "nbconvert_exporter": "python",
   "pygments_lexer": "ipython3",
   "version": "3.10.10"
  }
 },
 "nbformat": 4,
 "nbformat_minor": 5
}
